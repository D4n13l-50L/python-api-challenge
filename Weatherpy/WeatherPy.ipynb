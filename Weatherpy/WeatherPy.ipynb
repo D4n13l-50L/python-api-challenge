{
 "cells": [
  {
   "cell_type": "markdown",
   "metadata": {},
   "source": [
    "# WeatherPy\n",
    "----\n",
    "\n",
    "#### Note\n",
    "* Instructions have been included for each segment. You do not have to follow them exactly, but they are included to help you think through the steps."
   ]
  },
  {
   "cell_type": "markdown",
   "metadata": {},
   "source": [
    "![title](equatorsign.png)"
   ]
  },
  {
   "cell_type": "code",
   "execution_count": 2,
   "metadata": {
    "scrolled": true
   },
   "outputs": [],
   "source": [
    "# Dependencies and Setup\n",
    "import matplotlib.pyplot as plt\n",
    "import pandas as pd\n",
    "import numpy as np\n",
    "import requests\n",
    "import time\n",
    "from scipy.stats import linregress\n",
    "import scipy.stats as st\n",
    "\n",
    "# Import API key\n",
    "from api_keys import weather_api_key\n",
    "import citipy\n",
    "# Incorporated citipy to determine city based on latitude and longitude\n",
    "from citipy import citipy\n",
    "\n",
    "# Output File (CSV)\n",
    "output_data_file = \"output_data/cities.csv\"\n",
    "\n",
    "# Range of latitudes and longitudes\n",
    "lat_range = (-90, 90)\n",
    "lng_range = (-180, 180)"
   ]
  },
  {
   "cell_type": "markdown",
   "metadata": {},
   "source": [
    "## Generate Cities List"
   ]
  },
  {
   "cell_type": "code",
   "execution_count": 3,
   "metadata": {},
   "outputs": [
    {
     "data": {
      "text/html": [
       "<div>\n",
       "<style scoped>\n",
       "    .dataframe tbody tr th:only-of-type {\n",
       "        vertical-align: middle;\n",
       "    }\n",
       "\n",
       "    .dataframe tbody tr th {\n",
       "        vertical-align: top;\n",
       "    }\n",
       "\n",
       "    .dataframe thead th {\n",
       "        text-align: right;\n",
       "    }\n",
       "</style>\n",
       "<table border=\"1\" class=\"dataframe\">\n",
       "  <thead>\n",
       "    <tr style=\"text-align: right;\">\n",
       "      <th></th>\n",
       "      <th>City</th>\n",
       "      <th>Lat</th>\n",
       "      <th>Long</th>\n",
       "    </tr>\n",
       "  </thead>\n",
       "  <tbody>\n",
       "    <tr>\n",
       "      <th>0</th>\n",
       "      <td>pacifica</td>\n",
       "      <td>34.239585</td>\n",
       "      <td>-131.175675</td>\n",
       "    </tr>\n",
       "    <tr>\n",
       "      <th>1</th>\n",
       "      <td>xinon neron</td>\n",
       "      <td>40.621241</td>\n",
       "      <td>21.626056</td>\n",
       "    </tr>\n",
       "    <tr>\n",
       "      <th>2</th>\n",
       "      <td>tiksi</td>\n",
       "      <td>78.400680</td>\n",
       "      <td>123.689687</td>\n",
       "    </tr>\n",
       "    <tr>\n",
       "      <th>3</th>\n",
       "      <td>butaritari</td>\n",
       "      <td>10.848033</td>\n",
       "      <td>164.766759</td>\n",
       "    </tr>\n",
       "    <tr>\n",
       "      <th>4</th>\n",
       "      <td>ushuaia</td>\n",
       "      <td>-56.197301</td>\n",
       "      <td>-51.527553</td>\n",
       "    </tr>\n",
       "  </tbody>\n",
       "</table>\n",
       "</div>"
      ],
      "text/plain": [
       "          City        Lat        Long\n",
       "0     pacifica  34.239585 -131.175675\n",
       "1  xinon neron  40.621241   21.626056\n",
       "2        tiksi  78.400680  123.689687\n",
       "3   butaritari  10.848033  164.766759\n",
       "4      ushuaia -56.197301  -51.527553"
      ]
     },
     "execution_count": 3,
     "metadata": {},
     "output_type": "execute_result"
    }
   ],
   "source": [
    "# List for holding lat_lngs and cities\n",
    "lat_lngs = []\n",
    "cities = []\n",
    "\n",
    "# Create a set of random lat and lng combinations\n",
    "lats = np.random.uniform(lat_range[0], lat_range[1], size=1500)\n",
    "lngs = np.random.uniform(lng_range[0], lng_range[1], size=1500)\n",
    "lat_lngs = zip(lats, lngs)\n",
    "#save lats & lngs\n",
    "lats_Saved_list= []\n",
    "long_Saved_list = []\n",
    "\n",
    "# Identify nearest city for each lat, lng combination\n",
    "for lat_lng in lat_lngs:\n",
    "    city = citipy.nearest_city(lat_lng[0], lat_lng[1]).city_name\n",
    "    \n",
    "    # If the city is unique, then add it to a our cities list\n",
    "    if city not in cities:\n",
    "        cities.append(city)\n",
    "        lats_Saved_list.append(lat_lng[0])\n",
    "        long_Saved_list.append(lat_lng[1])\n",
    "        \n",
    "\n",
    "#create df\n",
    "list_df = pd.DataFrame({\"City\":cities, \"Lat\":lats_Saved_list,\"Long\":long_Saved_list})\n",
    "list_df.to_csv(\"ListofCities,csv\")\n",
    "list_df.head()"
   ]
  },
  {
   "cell_type": "code",
   "execution_count": 4,
   "metadata": {},
   "outputs": [
    {
     "data": {
      "text/plain": [
       "623"
      ]
     },
     "execution_count": 4,
     "metadata": {},
     "output_type": "execute_result"
    }
   ],
   "source": [
    "# Print the city count to confirm sufficient count\n",
    "len(list_df)"
   ]
  },
  {
   "cell_type": "markdown",
   "metadata": {},
   "source": [
    "### Perform API Calls\n",
    "* Perform a weather check on each city using a series of successive API calls.\n",
    "* Include a print log of each city as it'sbeing processed (with the city number and city name).\n"
   ]
  },
  {
   "cell_type": "code",
   "execution_count": 18,
   "metadata": {
    "scrolled": true
   },
   "outputs": [
    {
     "name": "stdout",
     "output_type": "stream",
     "text": [
      "http://api.openweathermap.org/data/2.5/weather?appid=04fd34c2ec5995cfb3c966c74378af1a&unitsstandard&q=\n"
     ]
    }
   ],
   "source": [
    "#define URL\n",
    "url_base = \"http://api.openweathermap.org/data/2.5/weather?\"\n",
    "units =  \"standard\"\n",
    "api_key = weather_api_key\n",
    "\n",
    "#query URL\n",
    "query_url = f\"{url_base}appid={api_key}&units{units}&q=\"\n",
    "print(query_url)"
   ]
  },
  {
   "cell_type": "code",
   "execution_count": 19,
   "metadata": {},
   "outputs": [
    {
     "name": "stdout",
     "output_type": "stream",
     "text": [
      "http://api.openweathermap.org/data/2.5/weather?appid=04fd34c2ec5995cfb3c966c74378af1a&unitsstandard&q=pacifica\n",
      "http://api.openweathermap.org/data/2.5/weather?appid=04fd34c2ec5995cfb3c966c74378af1a&unitsstandard&q=xinon neron\n",
      "http://api.openweathermap.org/data/2.5/weather?appid=04fd34c2ec5995cfb3c966c74378af1a&unitsstandard&q=tiksi\n",
      "http://api.openweathermap.org/data/2.5/weather?appid=04fd34c2ec5995cfb3c966c74378af1a&unitsstandard&q=butaritari\n",
      "http://api.openweathermap.org/data/2.5/weather?appid=04fd34c2ec5995cfb3c966c74378af1a&unitsstandard&q=ushuaia\n",
      "http://api.openweathermap.org/data/2.5/weather?appid=04fd34c2ec5995cfb3c966c74378af1a&unitsstandard&q=pisco\n",
      "http://api.openweathermap.org/data/2.5/weather?appid=04fd34c2ec5995cfb3c966c74378af1a&unitsstandard&q=xuddur\n",
      "http://api.openweathermap.org/data/2.5/weather?appid=04fd34c2ec5995cfb3c966c74378af1a&unitsstandard&q=micheweni\n",
      "http://api.openweathermap.org/data/2.5/weather?appid=04fd34c2ec5995cfb3c966c74378af1a&unitsstandard&q=san patricio\n",
      "http://api.openweathermap.org/data/2.5/weather?appid=04fd34c2ec5995cfb3c966c74378af1a&unitsstandard&q=khatanga\n",
      "http://api.openweathermap.org/data/2.5/weather?appid=04fd34c2ec5995cfb3c966c74378af1a&unitsstandard&q=barrow\n",
      "http://api.openweathermap.org/data/2.5/weather?appid=04fd34c2ec5995cfb3c966c74378af1a&unitsstandard&q=gornyy\n",
      "http://api.openweathermap.org/data/2.5/weather?appid=04fd34c2ec5995cfb3c966c74378af1a&unitsstandard&q=marzuq\n",
      "http://api.openweathermap.org/data/2.5/weather?appid=04fd34c2ec5995cfb3c966c74378af1a&unitsstandard&q=naze\n",
      "http://api.openweathermap.org/data/2.5/weather?appid=04fd34c2ec5995cfb3c966c74378af1a&unitsstandard&q=rikitea\n",
      "http://api.openweathermap.org/data/2.5/weather?appid=04fd34c2ec5995cfb3c966c74378af1a&unitsstandard&q=vaini\n",
      "http://api.openweathermap.org/data/2.5/weather?appid=04fd34c2ec5995cfb3c966c74378af1a&unitsstandard&q=mundo nuevo\n",
      "http://api.openweathermap.org/data/2.5/weather?appid=04fd34c2ec5995cfb3c966c74378af1a&unitsstandard&q=springbok\n",
      "http://api.openweathermap.org/data/2.5/weather?appid=04fd34c2ec5995cfb3c966c74378af1a&unitsstandard&q=burlington\n",
      "http://api.openweathermap.org/data/2.5/weather?appid=04fd34c2ec5995cfb3c966c74378af1a&unitsstandard&q=normandin\n",
      "http://api.openweathermap.org/data/2.5/weather?appid=04fd34c2ec5995cfb3c966c74378af1a&unitsstandard&q=bluff\n",
      "http://api.openweathermap.org/data/2.5/weather?appid=04fd34c2ec5995cfb3c966c74378af1a&unitsstandard&q=albany\n",
      "http://api.openweathermap.org/data/2.5/weather?appid=04fd34c2ec5995cfb3c966c74378af1a&unitsstandard&q=mahibadhoo\n",
      "http://api.openweathermap.org/data/2.5/weather?appid=04fd34c2ec5995cfb3c966c74378af1a&unitsstandard&q=mayo\n",
      "http://api.openweathermap.org/data/2.5/weather?appid=04fd34c2ec5995cfb3c966c74378af1a&unitsstandard&q=morwa\n",
      "http://api.openweathermap.org/data/2.5/weather?appid=04fd34c2ec5995cfb3c966c74378af1a&unitsstandard&q=gorontalo\n",
      "http://api.openweathermap.org/data/2.5/weather?appid=04fd34c2ec5995cfb3c966c74378af1a&unitsstandard&q=bengkulu\n",
      "http://api.openweathermap.org/data/2.5/weather?appid=04fd34c2ec5995cfb3c966c74378af1a&unitsstandard&q=toliary\n",
      "#####City not found#####\n",
      "http://api.openweathermap.org/data/2.5/weather?appid=04fd34c2ec5995cfb3c966c74378af1a&unitsstandard&q=melendugno\n",
      "http://api.openweathermap.org/data/2.5/weather?appid=04fd34c2ec5995cfb3c966c74378af1a&unitsstandard&q=koson\n",
      "http://api.openweathermap.org/data/2.5/weather?appid=04fd34c2ec5995cfb3c966c74378af1a&unitsstandard&q=hobart\n",
      "http://api.openweathermap.org/data/2.5/weather?appid=04fd34c2ec5995cfb3c966c74378af1a&unitsstandard&q=yellowknife\n",
      "http://api.openweathermap.org/data/2.5/weather?appid=04fd34c2ec5995cfb3c966c74378af1a&unitsstandard&q=dikson\n",
      "http://api.openweathermap.org/data/2.5/weather?appid=04fd34c2ec5995cfb3c966c74378af1a&unitsstandard&q=grand river south east\n",
      "#####City not found#####\n",
      "http://api.openweathermap.org/data/2.5/weather?appid=04fd34c2ec5995cfb3c966c74378af1a&unitsstandard&q=cabo san lucas\n",
      "http://api.openweathermap.org/data/2.5/weather?appid=04fd34c2ec5995cfb3c966c74378af1a&unitsstandard&q=bathsheba\n",
      "http://api.openweathermap.org/data/2.5/weather?appid=04fd34c2ec5995cfb3c966c74378af1a&unitsstandard&q=valday\n",
      "http://api.openweathermap.org/data/2.5/weather?appid=04fd34c2ec5995cfb3c966c74378af1a&unitsstandard&q=hilo\n",
      "http://api.openweathermap.org/data/2.5/weather?appid=04fd34c2ec5995cfb3c966c74378af1a&unitsstandard&q=dingle\n",
      "http://api.openweathermap.org/data/2.5/weather?appid=04fd34c2ec5995cfb3c966c74378af1a&unitsstandard&q=guayaramerin\n",
      "http://api.openweathermap.org/data/2.5/weather?appid=04fd34c2ec5995cfb3c966c74378af1a&unitsstandard&q=tessalit\n",
      "http://api.openweathermap.org/data/2.5/weather?appid=04fd34c2ec5995cfb3c966c74378af1a&unitsstandard&q=taolanaro\n",
      "#####City not found#####\n",
      "http://api.openweathermap.org/data/2.5/weather?appid=04fd34c2ec5995cfb3c966c74378af1a&unitsstandard&q=hithadhoo\n",
      "http://api.openweathermap.org/data/2.5/weather?appid=04fd34c2ec5995cfb3c966c74378af1a&unitsstandard&q=tuktoyaktuk\n",
      "http://api.openweathermap.org/data/2.5/weather?appid=04fd34c2ec5995cfb3c966c74378af1a&unitsstandard&q=porto velho\n",
      "http://api.openweathermap.org/data/2.5/weather?appid=04fd34c2ec5995cfb3c966c74378af1a&unitsstandard&q=coihaique\n",
      "http://api.openweathermap.org/data/2.5/weather?appid=04fd34c2ec5995cfb3c966c74378af1a&unitsstandard&q=kirensk\n",
      "http://api.openweathermap.org/data/2.5/weather?appid=04fd34c2ec5995cfb3c966c74378af1a&unitsstandard&q=avarua\n",
      "http://api.openweathermap.org/data/2.5/weather?appid=04fd34c2ec5995cfb3c966c74378af1a&unitsstandard&q=sitka\n",
      "http://api.openweathermap.org/data/2.5/weather?appid=04fd34c2ec5995cfb3c966c74378af1a&unitsstandard&q=karamea\n",
      "#####City not found#####\n",
      "http://api.openweathermap.org/data/2.5/weather?appid=04fd34c2ec5995cfb3c966c74378af1a&unitsstandard&q=vaitupu\n",
      "#####City not found#####\n",
      "http://api.openweathermap.org/data/2.5/weather?appid=04fd34c2ec5995cfb3c966c74378af1a&unitsstandard&q=bose\n",
      "http://api.openweathermap.org/data/2.5/weather?appid=04fd34c2ec5995cfb3c966c74378af1a&unitsstandard&q=lorengau\n",
      "http://api.openweathermap.org/data/2.5/weather?appid=04fd34c2ec5995cfb3c966c74378af1a&unitsstandard&q=cape town\n",
      "http://api.openweathermap.org/data/2.5/weather?appid=04fd34c2ec5995cfb3c966c74378af1a&unitsstandard&q=ust-omchug\n",
      "http://api.openweathermap.org/data/2.5/weather?appid=04fd34c2ec5995cfb3c966c74378af1a&unitsstandard&q=coahuayana\n",
      "http://api.openweathermap.org/data/2.5/weather?appid=04fd34c2ec5995cfb3c966c74378af1a&unitsstandard&q=mackay\n",
      "http://api.openweathermap.org/data/2.5/weather?appid=04fd34c2ec5995cfb3c966c74378af1a&unitsstandard&q=pleasanton\n",
      "http://api.openweathermap.org/data/2.5/weather?appid=04fd34c2ec5995cfb3c966c74378af1a&unitsstandard&q=hirara\n",
      "http://api.openweathermap.org/data/2.5/weather?appid=04fd34c2ec5995cfb3c966c74378af1a&unitsstandard&q=porto seguro\n",
      "http://api.openweathermap.org/data/2.5/weather?appid=04fd34c2ec5995cfb3c966c74378af1a&unitsstandard&q=saldanha\n",
      "http://api.openweathermap.org/data/2.5/weather?appid=04fd34c2ec5995cfb3c966c74378af1a&unitsstandard&q=eldikan\n",
      "#####City not found#####\n",
      "http://api.openweathermap.org/data/2.5/weather?appid=04fd34c2ec5995cfb3c966c74378af1a&unitsstandard&q=sagone\n",
      "http://api.openweathermap.org/data/2.5/weather?appid=04fd34c2ec5995cfb3c966c74378af1a&unitsstandard&q=severo-kurilsk\n",
      "http://api.openweathermap.org/data/2.5/weather?appid=04fd34c2ec5995cfb3c966c74378af1a&unitsstandard&q=tsumeb\n",
      "http://api.openweathermap.org/data/2.5/weather?appid=04fd34c2ec5995cfb3c966c74378af1a&unitsstandard&q=bawku\n",
      "http://api.openweathermap.org/data/2.5/weather?appid=04fd34c2ec5995cfb3c966c74378af1a&unitsstandard&q=sabla\n",
      "http://api.openweathermap.org/data/2.5/weather?appid=04fd34c2ec5995cfb3c966c74378af1a&unitsstandard&q=busselton\n",
      "http://api.openweathermap.org/data/2.5/weather?appid=04fd34c2ec5995cfb3c966c74378af1a&unitsstandard&q=tezu\n",
      "http://api.openweathermap.org/data/2.5/weather?appid=04fd34c2ec5995cfb3c966c74378af1a&unitsstandard&q=ikwiriri\n",
      "http://api.openweathermap.org/data/2.5/weather?appid=04fd34c2ec5995cfb3c966c74378af1a&unitsstandard&q=pangnirtung\n",
      "http://api.openweathermap.org/data/2.5/weather?appid=04fd34c2ec5995cfb3c966c74378af1a&unitsstandard&q=platteville\n",
      "http://api.openweathermap.org/data/2.5/weather?appid=04fd34c2ec5995cfb3c966c74378af1a&unitsstandard&q=petropavlovsk-kamchatskiy\n"
     ]
    },
    {
     "name": "stdout",
     "output_type": "stream",
     "text": [
      "http://api.openweathermap.org/data/2.5/weather?appid=04fd34c2ec5995cfb3c966c74378af1a&unitsstandard&q=daru\n",
      "http://api.openweathermap.org/data/2.5/weather?appid=04fd34c2ec5995cfb3c966c74378af1a&unitsstandard&q=thompson\n",
      "http://api.openweathermap.org/data/2.5/weather?appid=04fd34c2ec5995cfb3c966c74378af1a&unitsstandard&q=hamilton\n",
      "http://api.openweathermap.org/data/2.5/weather?appid=04fd34c2ec5995cfb3c966c74378af1a&unitsstandard&q=shimoda\n",
      "http://api.openweathermap.org/data/2.5/weather?appid=04fd34c2ec5995cfb3c966c74378af1a&unitsstandard&q=sur\n",
      "http://api.openweathermap.org/data/2.5/weather?appid=04fd34c2ec5995cfb3c966c74378af1a&unitsstandard&q=qaanaaq\n",
      "http://api.openweathermap.org/data/2.5/weather?appid=04fd34c2ec5995cfb3c966c74378af1a&unitsstandard&q=punta arenas\n",
      "http://api.openweathermap.org/data/2.5/weather?appid=04fd34c2ec5995cfb3c966c74378af1a&unitsstandard&q=ghanzi\n",
      "http://api.openweathermap.org/data/2.5/weather?appid=04fd34c2ec5995cfb3c966c74378af1a&unitsstandard&q=alotau\n",
      "#####City not found#####\n",
      "http://api.openweathermap.org/data/2.5/weather?appid=04fd34c2ec5995cfb3c966c74378af1a&unitsstandard&q=narsaq\n",
      "http://api.openweathermap.org/data/2.5/weather?appid=04fd34c2ec5995cfb3c966c74378af1a&unitsstandard&q=petatlan\n",
      "http://api.openweathermap.org/data/2.5/weather?appid=04fd34c2ec5995cfb3c966c74378af1a&unitsstandard&q=tarudant\n",
      "#####City not found#####\n",
      "http://api.openweathermap.org/data/2.5/weather?appid=04fd34c2ec5995cfb3c966c74378af1a&unitsstandard&q=port elizabeth\n",
      "http://api.openweathermap.org/data/2.5/weather?appid=04fd34c2ec5995cfb3c966c74378af1a&unitsstandard&q=marawi\n",
      "http://api.openweathermap.org/data/2.5/weather?appid=04fd34c2ec5995cfb3c966c74378af1a&unitsstandard&q=kruisfontein\n",
      "http://api.openweathermap.org/data/2.5/weather?appid=04fd34c2ec5995cfb3c966c74378af1a&unitsstandard&q=arlit\n",
      "http://api.openweathermap.org/data/2.5/weather?appid=04fd34c2ec5995cfb3c966c74378af1a&unitsstandard&q=nizhneyansk\n",
      "#####City not found#####\n",
      "http://api.openweathermap.org/data/2.5/weather?appid=04fd34c2ec5995cfb3c966c74378af1a&unitsstandard&q=dolores\n",
      "http://api.openweathermap.org/data/2.5/weather?appid=04fd34c2ec5995cfb3c966c74378af1a&unitsstandard&q=vardo\n",
      "http://api.openweathermap.org/data/2.5/weather?appid=04fd34c2ec5995cfb3c966c74378af1a&unitsstandard&q=belmonte\n",
      "http://api.openweathermap.org/data/2.5/weather?appid=04fd34c2ec5995cfb3c966c74378af1a&unitsstandard&q=arraial do cabo\n",
      "http://api.openweathermap.org/data/2.5/weather?appid=04fd34c2ec5995cfb3c966c74378af1a&unitsstandard&q=hermanus\n",
      "http://api.openweathermap.org/data/2.5/weather?appid=04fd34c2ec5995cfb3c966c74378af1a&unitsstandard&q=mahebourg\n",
      "http://api.openweathermap.org/data/2.5/weather?appid=04fd34c2ec5995cfb3c966c74378af1a&unitsstandard&q=new norfolk\n",
      "http://api.openweathermap.org/data/2.5/weather?appid=04fd34c2ec5995cfb3c966c74378af1a&unitsstandard&q=zambezi\n",
      "http://api.openweathermap.org/data/2.5/weather?appid=04fd34c2ec5995cfb3c966c74378af1a&unitsstandard&q=aklavik\n",
      "http://api.openweathermap.org/data/2.5/weather?appid=04fd34c2ec5995cfb3c966c74378af1a&unitsstandard&q=mbamba\n",
      "http://api.openweathermap.org/data/2.5/weather?appid=04fd34c2ec5995cfb3c966c74378af1a&unitsstandard&q=saint-philippe\n",
      "http://api.openweathermap.org/data/2.5/weather?appid=04fd34c2ec5995cfb3c966c74378af1a&unitsstandard&q=halifax\n",
      "http://api.openweathermap.org/data/2.5/weather?appid=04fd34c2ec5995cfb3c966c74378af1a&unitsstandard&q=hofn\n",
      "http://api.openweathermap.org/data/2.5/weather?appid=04fd34c2ec5995cfb3c966c74378af1a&unitsstandard&q=haibowan\n",
      "#####City not found#####\n",
      "http://api.openweathermap.org/data/2.5/weather?appid=04fd34c2ec5995cfb3c966c74378af1a&unitsstandard&q=neustadt\n",
      "http://api.openweathermap.org/data/2.5/weather?appid=04fd34c2ec5995cfb3c966c74378af1a&unitsstandard&q=kodiak\n",
      "http://api.openweathermap.org/data/2.5/weather?appid=04fd34c2ec5995cfb3c966c74378af1a&unitsstandard&q=mataura\n",
      "http://api.openweathermap.org/data/2.5/weather?appid=04fd34c2ec5995cfb3c966c74378af1a&unitsstandard&q=attawapiskat\n",
      "#####City not found#####\n",
      "http://api.openweathermap.org/data/2.5/weather?appid=04fd34c2ec5995cfb3c966c74378af1a&unitsstandard&q=saint george\n",
      "http://api.openweathermap.org/data/2.5/weather?appid=04fd34c2ec5995cfb3c966c74378af1a&unitsstandard&q=moses lake\n",
      "http://api.openweathermap.org/data/2.5/weather?appid=04fd34c2ec5995cfb3c966c74378af1a&unitsstandard&q=ilheus\n",
      "http://api.openweathermap.org/data/2.5/weather?appid=04fd34c2ec5995cfb3c966c74378af1a&unitsstandard&q=lakhtar\n",
      "http://api.openweathermap.org/data/2.5/weather?appid=04fd34c2ec5995cfb3c966c74378af1a&unitsstandard&q=mar del plata\n",
      "http://api.openweathermap.org/data/2.5/weather?appid=04fd34c2ec5995cfb3c966c74378af1a&unitsstandard&q=namibe\n",
      "http://api.openweathermap.org/data/2.5/weather?appid=04fd34c2ec5995cfb3c966c74378af1a&unitsstandard&q=soyo\n",
      "http://api.openweathermap.org/data/2.5/weather?appid=04fd34c2ec5995cfb3c966c74378af1a&unitsstandard&q=atasu\n",
      "http://api.openweathermap.org/data/2.5/weather?appid=04fd34c2ec5995cfb3c966c74378af1a&unitsstandard&q=geraldton\n",
      "http://api.openweathermap.org/data/2.5/weather?appid=04fd34c2ec5995cfb3c966c74378af1a&unitsstandard&q=okhotsk\n",
      "http://api.openweathermap.org/data/2.5/weather?appid=04fd34c2ec5995cfb3c966c74378af1a&unitsstandard&q=isiro\n",
      "http://api.openweathermap.org/data/2.5/weather?appid=04fd34c2ec5995cfb3c966c74378af1a&unitsstandard&q=basco\n",
      "http://api.openweathermap.org/data/2.5/weather?appid=04fd34c2ec5995cfb3c966c74378af1a&unitsstandard&q=kalemie\n",
      "http://api.openweathermap.org/data/2.5/weather?appid=04fd34c2ec5995cfb3c966c74378af1a&unitsstandard&q=bontang\n",
      "http://api.openweathermap.org/data/2.5/weather?appid=04fd34c2ec5995cfb3c966c74378af1a&unitsstandard&q=byron bay\n",
      "http://api.openweathermap.org/data/2.5/weather?appid=04fd34c2ec5995cfb3c966c74378af1a&unitsstandard&q=ponta do sol\n",
      "http://api.openweathermap.org/data/2.5/weather?appid=04fd34c2ec5995cfb3c966c74378af1a&unitsstandard&q=opuwo\n",
      "http://api.openweathermap.org/data/2.5/weather?appid=04fd34c2ec5995cfb3c966c74378af1a&unitsstandard&q=talnakh\n",
      "http://api.openweathermap.org/data/2.5/weather?appid=04fd34c2ec5995cfb3c966c74378af1a&unitsstandard&q=belushya guba\n",
      "#####City not found#####\n",
      "http://api.openweathermap.org/data/2.5/weather?appid=04fd34c2ec5995cfb3c966c74378af1a&unitsstandard&q=fort saint john\n",
      "#####City not found#####\n",
      "http://api.openweathermap.org/data/2.5/weather?appid=04fd34c2ec5995cfb3c966c74378af1a&unitsstandard&q=illoqqortoormiut\n",
      "#####City not found#####\n",
      "http://api.openweathermap.org/data/2.5/weather?appid=04fd34c2ec5995cfb3c966c74378af1a&unitsstandard&q=port alfred\n",
      "http://api.openweathermap.org/data/2.5/weather?appid=04fd34c2ec5995cfb3c966c74378af1a&unitsstandard&q=prince rupert\n",
      "http://api.openweathermap.org/data/2.5/weather?appid=04fd34c2ec5995cfb3c966c74378af1a&unitsstandard&q=komsomolskiy\n",
      "http://api.openweathermap.org/data/2.5/weather?appid=04fd34c2ec5995cfb3c966c74378af1a&unitsstandard&q=cherskiy\n",
      "http://api.openweathermap.org/data/2.5/weather?appid=04fd34c2ec5995cfb3c966c74378af1a&unitsstandard&q=puerto ayora\n",
      "http://api.openweathermap.org/data/2.5/weather?appid=04fd34c2ec5995cfb3c966c74378af1a&unitsstandard&q=vestmannaeyjar\n",
      "http://api.openweathermap.org/data/2.5/weather?appid=04fd34c2ec5995cfb3c966c74378af1a&unitsstandard&q=longyearbyen\n",
      "http://api.openweathermap.org/data/2.5/weather?appid=04fd34c2ec5995cfb3c966c74378af1a&unitsstandard&q=mount gambier\n",
      "http://api.openweathermap.org/data/2.5/weather?appid=04fd34c2ec5995cfb3c966c74378af1a&unitsstandard&q=kapaa\n",
      "http://api.openweathermap.org/data/2.5/weather?appid=04fd34c2ec5995cfb3c966c74378af1a&unitsstandard&q=ballina\n",
      "http://api.openweathermap.org/data/2.5/weather?appid=04fd34c2ec5995cfb3c966c74378af1a&unitsstandard&q=guerrero negro\n",
      "http://api.openweathermap.org/data/2.5/weather?appid=04fd34c2ec5995cfb3c966c74378af1a&unitsstandard&q=forestville\n",
      "http://api.openweathermap.org/data/2.5/weather?appid=04fd34c2ec5995cfb3c966c74378af1a&unitsstandard&q=lagoa\n",
      "http://api.openweathermap.org/data/2.5/weather?appid=04fd34c2ec5995cfb3c966c74378af1a&unitsstandard&q=vestmanna\n",
      "http://api.openweathermap.org/data/2.5/weather?appid=04fd34c2ec5995cfb3c966c74378af1a&unitsstandard&q=dunedin\n",
      "http://api.openweathermap.org/data/2.5/weather?appid=04fd34c2ec5995cfb3c966c74378af1a&unitsstandard&q=shache\n"
     ]
    },
    {
     "name": "stdout",
     "output_type": "stream",
     "text": [
      "http://api.openweathermap.org/data/2.5/weather?appid=04fd34c2ec5995cfb3c966c74378af1a&unitsstandard&q=fortuna\n",
      "http://api.openweathermap.org/data/2.5/weather?appid=04fd34c2ec5995cfb3c966c74378af1a&unitsstandard&q=bilma\n",
      "http://api.openweathermap.org/data/2.5/weather?appid=04fd34c2ec5995cfb3c966c74378af1a&unitsstandard&q=san julian\n",
      "http://api.openweathermap.org/data/2.5/weather?appid=04fd34c2ec5995cfb3c966c74378af1a&unitsstandard&q=ahuimanu\n",
      "http://api.openweathermap.org/data/2.5/weather?appid=04fd34c2ec5995cfb3c966c74378af1a&unitsstandard&q=tiznit\n",
      "http://api.openweathermap.org/data/2.5/weather?appid=04fd34c2ec5995cfb3c966c74378af1a&unitsstandard&q=portobelo\n",
      "http://api.openweathermap.org/data/2.5/weather?appid=04fd34c2ec5995cfb3c966c74378af1a&unitsstandard&q=iqaluit\n",
      "http://api.openweathermap.org/data/2.5/weather?appid=04fd34c2ec5995cfb3c966c74378af1a&unitsstandard&q=poum\n",
      "http://api.openweathermap.org/data/2.5/weather?appid=04fd34c2ec5995cfb3c966c74378af1a&unitsstandard&q=upernavik\n",
      "http://api.openweathermap.org/data/2.5/weather?appid=04fd34c2ec5995cfb3c966c74378af1a&unitsstandard&q=ciudad ojeda\n",
      "http://api.openweathermap.org/data/2.5/weather?appid=04fd34c2ec5995cfb3c966c74378af1a&unitsstandard&q=yulara\n",
      "http://api.openweathermap.org/data/2.5/weather?appid=04fd34c2ec5995cfb3c966c74378af1a&unitsstandard&q=dombarovskiy\n",
      "http://api.openweathermap.org/data/2.5/weather?appid=04fd34c2ec5995cfb3c966c74378af1a&unitsstandard&q=beringovskiy\n",
      "http://api.openweathermap.org/data/2.5/weather?appid=04fd34c2ec5995cfb3c966c74378af1a&unitsstandard&q=bambous virieux\n",
      "http://api.openweathermap.org/data/2.5/weather?appid=04fd34c2ec5995cfb3c966c74378af1a&unitsstandard&q=cabedelo\n",
      "http://api.openweathermap.org/data/2.5/weather?appid=04fd34c2ec5995cfb3c966c74378af1a&unitsstandard&q=ribeira grande\n",
      "http://api.openweathermap.org/data/2.5/weather?appid=04fd34c2ec5995cfb3c966c74378af1a&unitsstandard&q=porto recanati\n",
      "http://api.openweathermap.org/data/2.5/weather?appid=04fd34c2ec5995cfb3c966c74378af1a&unitsstandard&q=lidorikion\n",
      "#####City not found#####\n",
      "http://api.openweathermap.org/data/2.5/weather?appid=04fd34c2ec5995cfb3c966c74378af1a&unitsstandard&q=ilulissat\n",
      "http://api.openweathermap.org/data/2.5/weather?appid=04fd34c2ec5995cfb3c966c74378af1a&unitsstandard&q=fairbanks\n",
      "http://api.openweathermap.org/data/2.5/weather?appid=04fd34c2ec5995cfb3c966c74378af1a&unitsstandard&q=madukkarai\n",
      "http://api.openweathermap.org/data/2.5/weather?appid=04fd34c2ec5995cfb3c966c74378af1a&unitsstandard&q=san carlos del zulia\n",
      "http://api.openweathermap.org/data/2.5/weather?appid=04fd34c2ec5995cfb3c966c74378af1a&unitsstandard&q=lakes entrance\n",
      "http://api.openweathermap.org/data/2.5/weather?appid=04fd34c2ec5995cfb3c966c74378af1a&unitsstandard&q=asau\n",
      "http://api.openweathermap.org/data/2.5/weather?appid=04fd34c2ec5995cfb3c966c74378af1a&unitsstandard&q=toamua\n",
      "#####City not found#####\n",
      "http://api.openweathermap.org/data/2.5/weather?appid=04fd34c2ec5995cfb3c966c74378af1a&unitsstandard&q=tecoanapa\n",
      "http://api.openweathermap.org/data/2.5/weather?appid=04fd34c2ec5995cfb3c966c74378af1a&unitsstandard&q=tsabong\n",
      "http://api.openweathermap.org/data/2.5/weather?appid=04fd34c2ec5995cfb3c966c74378af1a&unitsstandard&q=kanigoro\n",
      "http://api.openweathermap.org/data/2.5/weather?appid=04fd34c2ec5995cfb3c966c74378af1a&unitsstandard&q=lola\n",
      "http://api.openweathermap.org/data/2.5/weather?appid=04fd34c2ec5995cfb3c966c74378af1a&unitsstandard&q=ambilobe\n",
      "http://api.openweathermap.org/data/2.5/weather?appid=04fd34c2ec5995cfb3c966c74378af1a&unitsstandard&q=urucara\n",
      "http://api.openweathermap.org/data/2.5/weather?appid=04fd34c2ec5995cfb3c966c74378af1a&unitsstandard&q=arinos\n",
      "http://api.openweathermap.org/data/2.5/weather?appid=04fd34c2ec5995cfb3c966c74378af1a&unitsstandard&q=sentyabrskiy\n",
      "#####City not found#####\n",
      "http://api.openweathermap.org/data/2.5/weather?appid=04fd34c2ec5995cfb3c966c74378af1a&unitsstandard&q=tefe\n",
      "http://api.openweathermap.org/data/2.5/weather?appid=04fd34c2ec5995cfb3c966c74378af1a&unitsstandard&q=tasiilaq\n",
      "http://api.openweathermap.org/data/2.5/weather?appid=04fd34c2ec5995cfb3c966c74378af1a&unitsstandard&q=chuy\n",
      "http://api.openweathermap.org/data/2.5/weather?appid=04fd34c2ec5995cfb3c966c74378af1a&unitsstandard&q=peterhead\n",
      "http://api.openweathermap.org/data/2.5/weather?appid=04fd34c2ec5995cfb3c966c74378af1a&unitsstandard&q=eenhana\n",
      "http://api.openweathermap.org/data/2.5/weather?appid=04fd34c2ec5995cfb3c966c74378af1a&unitsstandard&q=tsihombe\n",
      "#####City not found#####\n",
      "http://api.openweathermap.org/data/2.5/weather?appid=04fd34c2ec5995cfb3c966c74378af1a&unitsstandard&q=souillac\n",
      "http://api.openweathermap.org/data/2.5/weather?appid=04fd34c2ec5995cfb3c966c74378af1a&unitsstandard&q=mehamn\n",
      "http://api.openweathermap.org/data/2.5/weather?appid=04fd34c2ec5995cfb3c966c74378af1a&unitsstandard&q=keti bandar\n",
      "http://api.openweathermap.org/data/2.5/weather?appid=04fd34c2ec5995cfb3c966c74378af1a&unitsstandard&q=sanming\n",
      "http://api.openweathermap.org/data/2.5/weather?appid=04fd34c2ec5995cfb3c966c74378af1a&unitsstandard&q=ovsyanka\n",
      "http://api.openweathermap.org/data/2.5/weather?appid=04fd34c2ec5995cfb3c966c74378af1a&unitsstandard&q=povenets\n",
      "http://api.openweathermap.org/data/2.5/weather?appid=04fd34c2ec5995cfb3c966c74378af1a&unitsstandard&q=cayenne\n",
      "http://api.openweathermap.org/data/2.5/weather?appid=04fd34c2ec5995cfb3c966c74378af1a&unitsstandard&q=sao gabriel da cachoeira\n",
      "http://api.openweathermap.org/data/2.5/weather?appid=04fd34c2ec5995cfb3c966c74378af1a&unitsstandard&q=provideniya\n",
      "http://api.openweathermap.org/data/2.5/weather?appid=04fd34c2ec5995cfb3c966c74378af1a&unitsstandard&q=lagunas\n",
      "http://api.openweathermap.org/data/2.5/weather?appid=04fd34c2ec5995cfb3c966c74378af1a&unitsstandard&q=jiwani\n",
      "http://api.openweathermap.org/data/2.5/weather?appid=04fd34c2ec5995cfb3c966c74378af1a&unitsstandard&q=raahe\n",
      "http://api.openweathermap.org/data/2.5/weather?appid=04fd34c2ec5995cfb3c966c74378af1a&unitsstandard&q=lebu\n",
      "http://api.openweathermap.org/data/2.5/weather?appid=04fd34c2ec5995cfb3c966c74378af1a&unitsstandard&q=te anau\n",
      "http://api.openweathermap.org/data/2.5/weather?appid=04fd34c2ec5995cfb3c966c74378af1a&unitsstandard&q=east london\n",
      "http://api.openweathermap.org/data/2.5/weather?appid=04fd34c2ec5995cfb3c966c74378af1a&unitsstandard&q=ahipara\n",
      "http://api.openweathermap.org/data/2.5/weather?appid=04fd34c2ec5995cfb3c966c74378af1a&unitsstandard&q=georgetown\n",
      "http://api.openweathermap.org/data/2.5/weather?appid=04fd34c2ec5995cfb3c966c74378af1a&unitsstandard&q=wewak\n",
      "http://api.openweathermap.org/data/2.5/weather?appid=04fd34c2ec5995cfb3c966c74378af1a&unitsstandard&q=altar\n",
      "http://api.openweathermap.org/data/2.5/weather?appid=04fd34c2ec5995cfb3c966c74378af1a&unitsstandard&q=zheleznodorozhnyy\n",
      "http://api.openweathermap.org/data/2.5/weather?appid=04fd34c2ec5995cfb3c966c74378af1a&unitsstandard&q=bac can\n",
      "#####City not found#####\n",
      "http://api.openweathermap.org/data/2.5/weather?appid=04fd34c2ec5995cfb3c966c74378af1a&unitsstandard&q=dalkola\n",
      "http://api.openweathermap.org/data/2.5/weather?appid=04fd34c2ec5995cfb3c966c74378af1a&unitsstandard&q=tilichiki\n",
      "http://api.openweathermap.org/data/2.5/weather?appid=04fd34c2ec5995cfb3c966c74378af1a&unitsstandard&q=tiruvottiyur\n",
      "#####City not found#####\n",
      "http://api.openweathermap.org/data/2.5/weather?appid=04fd34c2ec5995cfb3c966c74378af1a&unitsstandard&q=kaitangata\n",
      "http://api.openweathermap.org/data/2.5/weather?appid=04fd34c2ec5995cfb3c966c74378af1a&unitsstandard&q=arman\n",
      "http://api.openweathermap.org/data/2.5/weather?appid=04fd34c2ec5995cfb3c966c74378af1a&unitsstandard&q=kamenskoye\n",
      "#####City not found#####\n",
      "http://api.openweathermap.org/data/2.5/weather?appid=04fd34c2ec5995cfb3c966c74378af1a&unitsstandard&q=midland\n",
      "http://api.openweathermap.org/data/2.5/weather?appid=04fd34c2ec5995cfb3c966c74378af1a&unitsstandard&q=burica\n",
      "#####City not found#####\n",
      "http://api.openweathermap.org/data/2.5/weather?appid=04fd34c2ec5995cfb3c966c74378af1a&unitsstandard&q=foundiougne\n",
      "http://api.openweathermap.org/data/2.5/weather?appid=04fd34c2ec5995cfb3c966c74378af1a&unitsstandard&q=sangar\n",
      "http://api.openweathermap.org/data/2.5/weather?appid=04fd34c2ec5995cfb3c966c74378af1a&unitsstandard&q=ankazoabo\n",
      "http://api.openweathermap.org/data/2.5/weather?appid=04fd34c2ec5995cfb3c966c74378af1a&unitsstandard&q=krasnoselkup\n"
     ]
    },
    {
     "name": "stdout",
     "output_type": "stream",
     "text": [
      "http://api.openweathermap.org/data/2.5/weather?appid=04fd34c2ec5995cfb3c966c74378af1a&unitsstandard&q=la ronge\n",
      "http://api.openweathermap.org/data/2.5/weather?appid=04fd34c2ec5995cfb3c966c74378af1a&unitsstandard&q=esperance\n",
      "http://api.openweathermap.org/data/2.5/weather?appid=04fd34c2ec5995cfb3c966c74378af1a&unitsstandard&q=san vicente\n",
      "http://api.openweathermap.org/data/2.5/weather?appid=04fd34c2ec5995cfb3c966c74378af1a&unitsstandard&q=makoshyne\n",
      "http://api.openweathermap.org/data/2.5/weather?appid=04fd34c2ec5995cfb3c966c74378af1a&unitsstandard&q=fort smith\n",
      "http://api.openweathermap.org/data/2.5/weather?appid=04fd34c2ec5995cfb3c966c74378af1a&unitsstandard&q=hailar\n",
      "http://api.openweathermap.org/data/2.5/weather?appid=04fd34c2ec5995cfb3c966c74378af1a&unitsstandard&q=barbar\n",
      "#####City not found#####\n",
      "http://api.openweathermap.org/data/2.5/weather?appid=04fd34c2ec5995cfb3c966c74378af1a&unitsstandard&q=los llanos de aridane\n",
      "http://api.openweathermap.org/data/2.5/weather?appid=04fd34c2ec5995cfb3c966c74378af1a&unitsstandard&q=talhar\n",
      "http://api.openweathermap.org/data/2.5/weather?appid=04fd34c2ec5995cfb3c966c74378af1a&unitsstandard&q=bethel\n",
      "http://api.openweathermap.org/data/2.5/weather?appid=04fd34c2ec5995cfb3c966c74378af1a&unitsstandard&q=marathon\n",
      "http://api.openweathermap.org/data/2.5/weather?appid=04fd34c2ec5995cfb3c966c74378af1a&unitsstandard&q=torbay\n",
      "http://api.openweathermap.org/data/2.5/weather?appid=04fd34c2ec5995cfb3c966c74378af1a&unitsstandard&q=siuna\n",
      "http://api.openweathermap.org/data/2.5/weather?appid=04fd34c2ec5995cfb3c966c74378af1a&unitsstandard&q=constitucion\n",
      "http://api.openweathermap.org/data/2.5/weather?appid=04fd34c2ec5995cfb3c966c74378af1a&unitsstandard&q=piranhas\n",
      "http://api.openweathermap.org/data/2.5/weather?appid=04fd34c2ec5995cfb3c966c74378af1a&unitsstandard&q=mattru\n",
      "http://api.openweathermap.org/data/2.5/weather?appid=04fd34c2ec5995cfb3c966c74378af1a&unitsstandard&q=bereda\n",
      "http://api.openweathermap.org/data/2.5/weather?appid=04fd34c2ec5995cfb3c966c74378af1a&unitsstandard&q=hobyo\n",
      "http://api.openweathermap.org/data/2.5/weather?appid=04fd34c2ec5995cfb3c966c74378af1a&unitsstandard&q=kungurtug\n",
      "http://api.openweathermap.org/data/2.5/weather?appid=04fd34c2ec5995cfb3c966c74378af1a&unitsstandard&q=saleaula\n",
      "#####City not found#####\n",
      "http://api.openweathermap.org/data/2.5/weather?appid=04fd34c2ec5995cfb3c966c74378af1a&unitsstandard&q=kalmunai\n",
      "http://api.openweathermap.org/data/2.5/weather?appid=04fd34c2ec5995cfb3c966c74378af1a&unitsstandard&q=nanortalik\n",
      "http://api.openweathermap.org/data/2.5/weather?appid=04fd34c2ec5995cfb3c966c74378af1a&unitsstandard&q=atuona\n",
      "http://api.openweathermap.org/data/2.5/weather?appid=04fd34c2ec5995cfb3c966c74378af1a&unitsstandard&q=kununurra\n",
      "http://api.openweathermap.org/data/2.5/weather?appid=04fd34c2ec5995cfb3c966c74378af1a&unitsstandard&q=barentsburg\n",
      "#####City not found#####\n",
      "http://api.openweathermap.org/data/2.5/weather?appid=04fd34c2ec5995cfb3c966c74378af1a&unitsstandard&q=coquimbo\n",
      "http://api.openweathermap.org/data/2.5/weather?appid=04fd34c2ec5995cfb3c966c74378af1a&unitsstandard&q=den helder\n",
      "http://api.openweathermap.org/data/2.5/weather?appid=04fd34c2ec5995cfb3c966c74378af1a&unitsstandard&q=grand-lahou\n",
      "http://api.openweathermap.org/data/2.5/weather?appid=04fd34c2ec5995cfb3c966c74378af1a&unitsstandard&q=ancud\n",
      "http://api.openweathermap.org/data/2.5/weather?appid=04fd34c2ec5995cfb3c966c74378af1a&unitsstandard&q=strezhevoy\n",
      "http://api.openweathermap.org/data/2.5/weather?appid=04fd34c2ec5995cfb3c966c74378af1a&unitsstandard&q=santa fe\n",
      "http://api.openweathermap.org/data/2.5/weather?appid=04fd34c2ec5995cfb3c966c74378af1a&unitsstandard&q=samusu\n",
      "#####City not found#####\n",
      "http://api.openweathermap.org/data/2.5/weather?appid=04fd34c2ec5995cfb3c966c74378af1a&unitsstandard&q=rio grande\n",
      "http://api.openweathermap.org/data/2.5/weather?appid=04fd34c2ec5995cfb3c966c74378af1a&unitsstandard&q=usinsk\n",
      "http://api.openweathermap.org/data/2.5/weather?appid=04fd34c2ec5995cfb3c966c74378af1a&unitsstandard&q=esmeraldas\n",
      "http://api.openweathermap.org/data/2.5/weather?appid=04fd34c2ec5995cfb3c966c74378af1a&unitsstandard&q=ha tinh\n",
      "http://api.openweathermap.org/data/2.5/weather?appid=04fd34c2ec5995cfb3c966c74378af1a&unitsstandard&q=pevek\n",
      "http://api.openweathermap.org/data/2.5/weather?appid=04fd34c2ec5995cfb3c966c74378af1a&unitsstandard&q=touros\n",
      "http://api.openweathermap.org/data/2.5/weather?appid=04fd34c2ec5995cfb3c966c74378af1a&unitsstandard&q=egvekinot\n",
      "http://api.openweathermap.org/data/2.5/weather?appid=04fd34c2ec5995cfb3c966c74378af1a&unitsstandard&q=norman wells\n",
      "http://api.openweathermap.org/data/2.5/weather?appid=04fd34c2ec5995cfb3c966c74378af1a&unitsstandard&q=paradwip\n",
      "#####City not found#####\n",
      "http://api.openweathermap.org/data/2.5/weather?appid=04fd34c2ec5995cfb3c966c74378af1a&unitsstandard&q=marabba\n",
      "http://api.openweathermap.org/data/2.5/weather?appid=04fd34c2ec5995cfb3c966c74378af1a&unitsstandard&q=bairiki\n",
      "http://api.openweathermap.org/data/2.5/weather?appid=04fd34c2ec5995cfb3c966c74378af1a&unitsstandard&q=alofi\n",
      "http://api.openweathermap.org/data/2.5/weather?appid=04fd34c2ec5995cfb3c966c74378af1a&unitsstandard&q=mys shmidta\n",
      "#####City not found#####\n",
      "http://api.openweathermap.org/data/2.5/weather?appid=04fd34c2ec5995cfb3c966c74378af1a&unitsstandard&q=astana\n",
      "http://api.openweathermap.org/data/2.5/weather?appid=04fd34c2ec5995cfb3c966c74378af1a&unitsstandard&q=vila franca do campo\n",
      "http://api.openweathermap.org/data/2.5/weather?appid=04fd34c2ec5995cfb3c966c74378af1a&unitsstandard&q=maridi\n",
      "http://api.openweathermap.org/data/2.5/weather?appid=04fd34c2ec5995cfb3c966c74378af1a&unitsstandard&q=sao joao da barra\n",
      "http://api.openweathermap.org/data/2.5/weather?appid=04fd34c2ec5995cfb3c966c74378af1a&unitsstandard&q=ubrique\n",
      "http://api.openweathermap.org/data/2.5/weather?appid=04fd34c2ec5995cfb3c966c74378af1a&unitsstandard&q=nome\n",
      "http://api.openweathermap.org/data/2.5/weather?appid=04fd34c2ec5995cfb3c966c74378af1a&unitsstandard&q=jalu\n",
      "http://api.openweathermap.org/data/2.5/weather?appid=04fd34c2ec5995cfb3c966c74378af1a&unitsstandard&q=khairabad\n",
      "http://api.openweathermap.org/data/2.5/weather?appid=04fd34c2ec5995cfb3c966c74378af1a&unitsstandard&q=carnarvon\n",
      "http://api.openweathermap.org/data/2.5/weather?appid=04fd34c2ec5995cfb3c966c74378af1a&unitsstandard&q=saskylakh\n",
      "http://api.openweathermap.org/data/2.5/weather?appid=04fd34c2ec5995cfb3c966c74378af1a&unitsstandard&q=karratha\n",
      "http://api.openweathermap.org/data/2.5/weather?appid=04fd34c2ec5995cfb3c966c74378af1a&unitsstandard&q=miraflores\n",
      "http://api.openweathermap.org/data/2.5/weather?appid=04fd34c2ec5995cfb3c966c74378af1a&unitsstandard&q=bada\n",
      "http://api.openweathermap.org/data/2.5/weather?appid=04fd34c2ec5995cfb3c966c74378af1a&unitsstandard&q=richards bay\n",
      "http://api.openweathermap.org/data/2.5/weather?appid=04fd34c2ec5995cfb3c966c74378af1a&unitsstandard&q=saint-francois\n",
      "http://api.openweathermap.org/data/2.5/weather?appid=04fd34c2ec5995cfb3c966c74378af1a&unitsstandard&q=rio gallegos\n",
      "http://api.openweathermap.org/data/2.5/weather?appid=04fd34c2ec5995cfb3c966c74378af1a&unitsstandard&q=khani\n",
      "http://api.openweathermap.org/data/2.5/weather?appid=04fd34c2ec5995cfb3c966c74378af1a&unitsstandard&q=inhambane\n",
      "http://api.openweathermap.org/data/2.5/weather?appid=04fd34c2ec5995cfb3c966c74378af1a&unitsstandard&q=paita\n",
      "http://api.openweathermap.org/data/2.5/weather?appid=04fd34c2ec5995cfb3c966c74378af1a&unitsstandard&q=sambava\n",
      "http://api.openweathermap.org/data/2.5/weather?appid=04fd34c2ec5995cfb3c966c74378af1a&unitsstandard&q=atambua\n",
      "http://api.openweathermap.org/data/2.5/weather?appid=04fd34c2ec5995cfb3c966c74378af1a&unitsstandard&q=popondetta\n",
      "http://api.openweathermap.org/data/2.5/weather?appid=04fd34c2ec5995cfb3c966c74378af1a&unitsstandard&q=castro\n",
      "http://api.openweathermap.org/data/2.5/weather?appid=04fd34c2ec5995cfb3c966c74378af1a&unitsstandard&q=takoradi\n",
      "http://api.openweathermap.org/data/2.5/weather?appid=04fd34c2ec5995cfb3c966c74378af1a&unitsstandard&q=biu\n",
      "http://api.openweathermap.org/data/2.5/weather?appid=04fd34c2ec5995cfb3c966c74378af1a&unitsstandard&q=nouadhibou\n",
      "http://api.openweathermap.org/data/2.5/weather?appid=04fd34c2ec5995cfb3c966c74378af1a&unitsstandard&q=miri\n",
      "http://api.openweathermap.org/data/2.5/weather?appid=04fd34c2ec5995cfb3c966c74378af1a&unitsstandard&q=pokrovskoye\n"
     ]
    },
    {
     "name": "stdout",
     "output_type": "stream",
     "text": [
      "http://api.openweathermap.org/data/2.5/weather?appid=04fd34c2ec5995cfb3c966c74378af1a&unitsstandard&q=bad liebenwerda\n",
      "http://api.openweathermap.org/data/2.5/weather?appid=04fd34c2ec5995cfb3c966c74378af1a&unitsstandard&q=faanui\n",
      "http://api.openweathermap.org/data/2.5/weather?appid=04fd34c2ec5995cfb3c966c74378af1a&unitsstandard&q=half moon bay\n",
      "http://api.openweathermap.org/data/2.5/weather?appid=04fd34c2ec5995cfb3c966c74378af1a&unitsstandard&q=ilhabela\n",
      "http://api.openweathermap.org/data/2.5/weather?appid=04fd34c2ec5995cfb3c966c74378af1a&unitsstandard&q=chalmette\n",
      "http://api.openweathermap.org/data/2.5/weather?appid=04fd34c2ec5995cfb3c966c74378af1a&unitsstandard&q=cidreira\n",
      "http://api.openweathermap.org/data/2.5/weather?appid=04fd34c2ec5995cfb3c966c74378af1a&unitsstandard&q=jamestown\n",
      "http://api.openweathermap.org/data/2.5/weather?appid=04fd34c2ec5995cfb3c966c74378af1a&unitsstandard&q=chokurdakh\n",
      "http://api.openweathermap.org/data/2.5/weather?appid=04fd34c2ec5995cfb3c966c74378af1a&unitsstandard&q=mount isa\n",
      "http://api.openweathermap.org/data/2.5/weather?appid=04fd34c2ec5995cfb3c966c74378af1a&unitsstandard&q=airai\n",
      "http://api.openweathermap.org/data/2.5/weather?appid=04fd34c2ec5995cfb3c966c74378af1a&unitsstandard&q=golubitskaya\n",
      "http://api.openweathermap.org/data/2.5/weather?appid=04fd34c2ec5995cfb3c966c74378af1a&unitsstandard&q=meadow lake\n",
      "http://api.openweathermap.org/data/2.5/weather?appid=04fd34c2ec5995cfb3c966c74378af1a&unitsstandard&q=kutum\n",
      "http://api.openweathermap.org/data/2.5/weather?appid=04fd34c2ec5995cfb3c966c74378af1a&unitsstandard&q=aloleng\n",
      "http://api.openweathermap.org/data/2.5/weather?appid=04fd34c2ec5995cfb3c966c74378af1a&unitsstandard&q=yerbogachen\n",
      "http://api.openweathermap.org/data/2.5/weather?appid=04fd34c2ec5995cfb3c966c74378af1a&unitsstandard&q=zlatoustovsk\n",
      "#####City not found#####\n",
      "http://api.openweathermap.org/data/2.5/weather?appid=04fd34c2ec5995cfb3c966c74378af1a&unitsstandard&q=hasaki\n",
      "http://api.openweathermap.org/data/2.5/weather?appid=04fd34c2ec5995cfb3c966c74378af1a&unitsstandard&q=veracruz\n",
      "http://api.openweathermap.org/data/2.5/weather?appid=04fd34c2ec5995cfb3c966c74378af1a&unitsstandard&q=saint anthony\n",
      "http://api.openweathermap.org/data/2.5/weather?appid=04fd34c2ec5995cfb3c966c74378af1a&unitsstandard&q=ixtapa\n",
      "http://api.openweathermap.org/data/2.5/weather?appid=04fd34c2ec5995cfb3c966c74378af1a&unitsstandard&q=batagay-alyta\n",
      "http://api.openweathermap.org/data/2.5/weather?appid=04fd34c2ec5995cfb3c966c74378af1a&unitsstandard&q=talara\n",
      "http://api.openweathermap.org/data/2.5/weather?appid=04fd34c2ec5995cfb3c966c74378af1a&unitsstandard&q=troitskoye\n",
      "http://api.openweathermap.org/data/2.5/weather?appid=04fd34c2ec5995cfb3c966c74378af1a&unitsstandard&q=aasiaat\n",
      "http://api.openweathermap.org/data/2.5/weather?appid=04fd34c2ec5995cfb3c966c74378af1a&unitsstandard&q=mombetsu\n",
      "http://api.openweathermap.org/data/2.5/weather?appid=04fd34c2ec5995cfb3c966c74378af1a&unitsstandard&q=codrington\n",
      "http://api.openweathermap.org/data/2.5/weather?appid=04fd34c2ec5995cfb3c966c74378af1a&unitsstandard&q=pemangkat\n",
      "http://api.openweathermap.org/data/2.5/weather?appid=04fd34c2ec5995cfb3c966c74378af1a&unitsstandard&q=zyryanka\n",
      "http://api.openweathermap.org/data/2.5/weather?appid=04fd34c2ec5995cfb3c966c74378af1a&unitsstandard&q=katsuura\n",
      "http://api.openweathermap.org/data/2.5/weather?appid=04fd34c2ec5995cfb3c966c74378af1a&unitsstandard&q=hambantota\n",
      "http://api.openweathermap.org/data/2.5/weather?appid=04fd34c2ec5995cfb3c966c74378af1a&unitsstandard&q=nikolskoye\n",
      "http://api.openweathermap.org/data/2.5/weather?appid=04fd34c2ec5995cfb3c966c74378af1a&unitsstandard&q=okha\n",
      "http://api.openweathermap.org/data/2.5/weather?appid=04fd34c2ec5995cfb3c966c74378af1a&unitsstandard&q=hays\n",
      "http://api.openweathermap.org/data/2.5/weather?appid=04fd34c2ec5995cfb3c966c74378af1a&unitsstandard&q=madoc\n",
      "http://api.openweathermap.org/data/2.5/weather?appid=04fd34c2ec5995cfb3c966c74378af1a&unitsstandard&q=hohhot\n",
      "http://api.openweathermap.org/data/2.5/weather?appid=04fd34c2ec5995cfb3c966c74378af1a&unitsstandard&q=bredasdorp\n",
      "http://api.openweathermap.org/data/2.5/weather?appid=04fd34c2ec5995cfb3c966c74378af1a&unitsstandard&q=malwan\n",
      "#####City not found#####\n",
      "http://api.openweathermap.org/data/2.5/weather?appid=04fd34c2ec5995cfb3c966c74378af1a&unitsstandard&q=corinto\n",
      "http://api.openweathermap.org/data/2.5/weather?appid=04fd34c2ec5995cfb3c966c74378af1a&unitsstandard&q=mariental\n",
      "http://api.openweathermap.org/data/2.5/weather?appid=04fd34c2ec5995cfb3c966c74378af1a&unitsstandard&q=eureka\n",
      "http://api.openweathermap.org/data/2.5/weather?appid=04fd34c2ec5995cfb3c966c74378af1a&unitsstandard&q=clyde river\n",
      "http://api.openweathermap.org/data/2.5/weather?appid=04fd34c2ec5995cfb3c966c74378af1a&unitsstandard&q=taltal\n",
      "http://api.openweathermap.org/data/2.5/weather?appid=04fd34c2ec5995cfb3c966c74378af1a&unitsstandard&q=razdolnaya\n",
      "http://api.openweathermap.org/data/2.5/weather?appid=04fd34c2ec5995cfb3c966c74378af1a&unitsstandard&q=dzhebariki-khaya\n",
      "http://api.openweathermap.org/data/2.5/weather?appid=04fd34c2ec5995cfb3c966c74378af1a&unitsstandard&q=leningradskiy\n",
      "http://api.openweathermap.org/data/2.5/weather?appid=04fd34c2ec5995cfb3c966c74378af1a&unitsstandard&q=nenjiang\n",
      "http://api.openweathermap.org/data/2.5/weather?appid=04fd34c2ec5995cfb3c966c74378af1a&unitsstandard&q=tsiroanomandidy\n",
      "http://api.openweathermap.org/data/2.5/weather?appid=04fd34c2ec5995cfb3c966c74378af1a&unitsstandard&q=aden\n",
      "http://api.openweathermap.org/data/2.5/weather?appid=04fd34c2ec5995cfb3c966c74378af1a&unitsstandard&q=kurilsk\n",
      "http://api.openweathermap.org/data/2.5/weather?appid=04fd34c2ec5995cfb3c966c74378af1a&unitsstandard&q=malanville\n",
      "http://api.openweathermap.org/data/2.5/weather?appid=04fd34c2ec5995cfb3c966c74378af1a&unitsstandard&q=maykain\n",
      "#####City not found#####\n",
      "http://api.openweathermap.org/data/2.5/weather?appid=04fd34c2ec5995cfb3c966c74378af1a&unitsstandard&q=volot\n",
      "http://api.openweathermap.org/data/2.5/weather?appid=04fd34c2ec5995cfb3c966c74378af1a&unitsstandard&q=korhogo\n",
      "http://api.openweathermap.org/data/2.5/weather?appid=04fd34c2ec5995cfb3c966c74378af1a&unitsstandard&q=louisbourg\n",
      "#####City not found#####\n",
      "http://api.openweathermap.org/data/2.5/weather?appid=04fd34c2ec5995cfb3c966c74378af1a&unitsstandard&q=maues\n",
      "http://api.openweathermap.org/data/2.5/weather?appid=04fd34c2ec5995cfb3c966c74378af1a&unitsstandard&q=klaksvik\n",
      "http://api.openweathermap.org/data/2.5/weather?appid=04fd34c2ec5995cfb3c966c74378af1a&unitsstandard&q=kuche\n",
      "#####City not found#####\n",
      "http://api.openweathermap.org/data/2.5/weather?appid=04fd34c2ec5995cfb3c966c74378af1a&unitsstandard&q=gao\n",
      "http://api.openweathermap.org/data/2.5/weather?appid=04fd34c2ec5995cfb3c966c74378af1a&unitsstandard&q=college\n",
      "http://api.openweathermap.org/data/2.5/weather?appid=04fd34c2ec5995cfb3c966c74378af1a&unitsstandard&q=palana\n",
      "http://api.openweathermap.org/data/2.5/weather?appid=04fd34c2ec5995cfb3c966c74378af1a&unitsstandard&q=aswan\n",
      "http://api.openweathermap.org/data/2.5/weather?appid=04fd34c2ec5995cfb3c966c74378af1a&unitsstandard&q=grand-santi\n",
      "http://api.openweathermap.org/data/2.5/weather?appid=04fd34c2ec5995cfb3c966c74378af1a&unitsstandard&q=warri\n",
      "http://api.openweathermap.org/data/2.5/weather?appid=04fd34c2ec5995cfb3c966c74378af1a&unitsstandard&q=sao filipe\n",
      "http://api.openweathermap.org/data/2.5/weather?appid=04fd34c2ec5995cfb3c966c74378af1a&unitsstandard&q=miracema do tocantins\n",
      "http://api.openweathermap.org/data/2.5/weather?appid=04fd34c2ec5995cfb3c966c74378af1a&unitsstandard&q=rocha\n",
      "http://api.openweathermap.org/data/2.5/weather?appid=04fd34c2ec5995cfb3c966c74378af1a&unitsstandard&q=shieli\n",
      "http://api.openweathermap.org/data/2.5/weather?appid=04fd34c2ec5995cfb3c966c74378af1a&unitsstandard&q=amderma\n",
      "#####City not found#####\n",
      "http://api.openweathermap.org/data/2.5/weather?appid=04fd34c2ec5995cfb3c966c74378af1a&unitsstandard&q=monte santo\n",
      "http://api.openweathermap.org/data/2.5/weather?appid=04fd34c2ec5995cfb3c966c74378af1a&unitsstandard&q=ust-nera\n",
      "http://api.openweathermap.org/data/2.5/weather?appid=04fd34c2ec5995cfb3c966c74378af1a&unitsstandard&q=salalah\n",
      "http://api.openweathermap.org/data/2.5/weather?appid=04fd34c2ec5995cfb3c966c74378af1a&unitsstandard&q=buala\n",
      "http://api.openweathermap.org/data/2.5/weather?appid=04fd34c2ec5995cfb3c966c74378af1a&unitsstandard&q=kazanskaya\n"
     ]
    },
    {
     "name": "stdout",
     "output_type": "stream",
     "text": [
      "http://api.openweathermap.org/data/2.5/weather?appid=04fd34c2ec5995cfb3c966c74378af1a&unitsstandard&q=pong\n",
      "http://api.openweathermap.org/data/2.5/weather?appid=04fd34c2ec5995cfb3c966c74378af1a&unitsstandard&q=dukhovnitskoye\n",
      "http://api.openweathermap.org/data/2.5/weather?appid=04fd34c2ec5995cfb3c966c74378af1a&unitsstandard&q=casa nova\n",
      "http://api.openweathermap.org/data/2.5/weather?appid=04fd34c2ec5995cfb3c966c74378af1a&unitsstandard&q=grindavik\n",
      "http://api.openweathermap.org/data/2.5/weather?appid=04fd34c2ec5995cfb3c966c74378af1a&unitsstandard&q=mananjary\n",
      "http://api.openweathermap.org/data/2.5/weather?appid=04fd34c2ec5995cfb3c966c74378af1a&unitsstandard&q=tuatapere\n",
      "http://api.openweathermap.org/data/2.5/weather?appid=04fd34c2ec5995cfb3c966c74378af1a&unitsstandard&q=launceston\n",
      "http://api.openweathermap.org/data/2.5/weather?appid=04fd34c2ec5995cfb3c966c74378af1a&unitsstandard&q=iberia\n",
      "http://api.openweathermap.org/data/2.5/weather?appid=04fd34c2ec5995cfb3c966c74378af1a&unitsstandard&q=kudahuvadhoo\n",
      "http://api.openweathermap.org/data/2.5/weather?appid=04fd34c2ec5995cfb3c966c74378af1a&unitsstandard&q=victoria\n",
      "http://api.openweathermap.org/data/2.5/weather?appid=04fd34c2ec5995cfb3c966c74378af1a&unitsstandard&q=agucadoura\n",
      "http://api.openweathermap.org/data/2.5/weather?appid=04fd34c2ec5995cfb3c966c74378af1a&unitsstandard&q=itarema\n",
      "http://api.openweathermap.org/data/2.5/weather?appid=04fd34c2ec5995cfb3c966c74378af1a&unitsstandard&q=telma\n",
      "http://api.openweathermap.org/data/2.5/weather?appid=04fd34c2ec5995cfb3c966c74378af1a&unitsstandard&q=sayyan\n",
      "http://api.openweathermap.org/data/2.5/weather?appid=04fd34c2ec5995cfb3c966c74378af1a&unitsstandard&q=marcona\n",
      "#####City not found#####\n",
      "http://api.openweathermap.org/data/2.5/weather?appid=04fd34c2ec5995cfb3c966c74378af1a&unitsstandard&q=namatanai\n",
      "http://api.openweathermap.org/data/2.5/weather?appid=04fd34c2ec5995cfb3c966c74378af1a&unitsstandard&q=tabou\n",
      "http://api.openweathermap.org/data/2.5/weather?appid=04fd34c2ec5995cfb3c966c74378af1a&unitsstandard&q=kozhevnikovo\n",
      "http://api.openweathermap.org/data/2.5/weather?appid=04fd34c2ec5995cfb3c966c74378af1a&unitsstandard&q=butembo\n",
      "http://api.openweathermap.org/data/2.5/weather?appid=04fd34c2ec5995cfb3c966c74378af1a&unitsstandard&q=zlotow\n",
      "http://api.openweathermap.org/data/2.5/weather?appid=04fd34c2ec5995cfb3c966c74378af1a&unitsstandard&q=wanaka\n",
      "http://api.openweathermap.org/data/2.5/weather?appid=04fd34c2ec5995cfb3c966c74378af1a&unitsstandard&q=tambopata\n",
      "http://api.openweathermap.org/data/2.5/weather?appid=04fd34c2ec5995cfb3c966c74378af1a&unitsstandard&q=ulaanbaatar\n",
      "http://api.openweathermap.org/data/2.5/weather?appid=04fd34c2ec5995cfb3c966c74378af1a&unitsstandard&q=guangyuan\n",
      "http://api.openweathermap.org/data/2.5/weather?appid=04fd34c2ec5995cfb3c966c74378af1a&unitsstandard&q=kegayli\n",
      "#####City not found#####\n",
      "http://api.openweathermap.org/data/2.5/weather?appid=04fd34c2ec5995cfb3c966c74378af1a&unitsstandard&q=sioux lookout\n",
      "http://api.openweathermap.org/data/2.5/weather?appid=04fd34c2ec5995cfb3c966c74378af1a&unitsstandard&q=plouzane\n",
      "http://api.openweathermap.org/data/2.5/weather?appid=04fd34c2ec5995cfb3c966c74378af1a&unitsstandard&q=harper\n",
      "http://api.openweathermap.org/data/2.5/weather?appid=04fd34c2ec5995cfb3c966c74378af1a&unitsstandard&q=angelholm\n",
      "#####City not found#####\n",
      "http://api.openweathermap.org/data/2.5/weather?appid=04fd34c2ec5995cfb3c966c74378af1a&unitsstandard&q=floro\n",
      "http://api.openweathermap.org/data/2.5/weather?appid=04fd34c2ec5995cfb3c966c74378af1a&unitsstandard&q=tamandare\n",
      "http://api.openweathermap.org/data/2.5/weather?appid=04fd34c2ec5995cfb3c966c74378af1a&unitsstandard&q=shingu\n",
      "http://api.openweathermap.org/data/2.5/weather?appid=04fd34c2ec5995cfb3c966c74378af1a&unitsstandard&q=kavaratti\n",
      "http://api.openweathermap.org/data/2.5/weather?appid=04fd34c2ec5995cfb3c966c74378af1a&unitsstandard&q=jacareacanga\n",
      "http://api.openweathermap.org/data/2.5/weather?appid=04fd34c2ec5995cfb3c966c74378af1a&unitsstandard&q=kavieng\n",
      "http://api.openweathermap.org/data/2.5/weather?appid=04fd34c2ec5995cfb3c966c74378af1a&unitsstandard&q=kahului\n",
      "http://api.openweathermap.org/data/2.5/weather?appid=04fd34c2ec5995cfb3c966c74378af1a&unitsstandard&q=portland\n",
      "http://api.openweathermap.org/data/2.5/weather?appid=04fd34c2ec5995cfb3c966c74378af1a&unitsstandard&q=altamira\n",
      "http://api.openweathermap.org/data/2.5/weather?appid=04fd34c2ec5995cfb3c966c74378af1a&unitsstandard&q=bay roberts\n",
      "http://api.openweathermap.org/data/2.5/weather?appid=04fd34c2ec5995cfb3c966c74378af1a&unitsstandard&q=ilo\n",
      "http://api.openweathermap.org/data/2.5/weather?appid=04fd34c2ec5995cfb3c966c74378af1a&unitsstandard&q=zilair\n",
      "http://api.openweathermap.org/data/2.5/weather?appid=04fd34c2ec5995cfb3c966c74378af1a&unitsstandard&q=isangel\n",
      "http://api.openweathermap.org/data/2.5/weather?appid=04fd34c2ec5995cfb3c966c74378af1a&unitsstandard&q=port-gentil\n",
      "http://api.openweathermap.org/data/2.5/weather?appid=04fd34c2ec5995cfb3c966c74378af1a&unitsstandard&q=porosozero\n",
      "http://api.openweathermap.org/data/2.5/weather?appid=04fd34c2ec5995cfb3c966c74378af1a&unitsstandard&q=fort nelson\n",
      "http://api.openweathermap.org/data/2.5/weather?appid=04fd34c2ec5995cfb3c966c74378af1a&unitsstandard&q=mildura\n",
      "http://api.openweathermap.org/data/2.5/weather?appid=04fd34c2ec5995cfb3c966c74378af1a&unitsstandard&q=havre-saint-pierre\n",
      "http://api.openweathermap.org/data/2.5/weather?appid=04fd34c2ec5995cfb3c966c74378af1a&unitsstandard&q=san quintin\n",
      "http://api.openweathermap.org/data/2.5/weather?appid=04fd34c2ec5995cfb3c966c74378af1a&unitsstandard&q=pyapon\n",
      "http://api.openweathermap.org/data/2.5/weather?appid=04fd34c2ec5995cfb3c966c74378af1a&unitsstandard&q=roebourne\n",
      "http://api.openweathermap.org/data/2.5/weather?appid=04fd34c2ec5995cfb3c966c74378af1a&unitsstandard&q=chumikan\n",
      "http://api.openweathermap.org/data/2.5/weather?appid=04fd34c2ec5995cfb3c966c74378af1a&unitsstandard&q=berlevag\n",
      "http://api.openweathermap.org/data/2.5/weather?appid=04fd34c2ec5995cfb3c966c74378af1a&unitsstandard&q=puerto leguizamo\n",
      "http://api.openweathermap.org/data/2.5/weather?appid=04fd34c2ec5995cfb3c966c74378af1a&unitsstandard&q=mogapi\n",
      "http://api.openweathermap.org/data/2.5/weather?appid=04fd34c2ec5995cfb3c966c74378af1a&unitsstandard&q=peniche\n",
      "http://api.openweathermap.org/data/2.5/weather?appid=04fd34c2ec5995cfb3c966c74378af1a&unitsstandard&q=merin\n",
      "http://api.openweathermap.org/data/2.5/weather?appid=04fd34c2ec5995cfb3c966c74378af1a&unitsstandard&q=altea\n",
      "http://api.openweathermap.org/data/2.5/weather?appid=04fd34c2ec5995cfb3c966c74378af1a&unitsstandard&q=acapulco\n",
      "http://api.openweathermap.org/data/2.5/weather?appid=04fd34c2ec5995cfb3c966c74378af1a&unitsstandard&q=chhabra\n",
      "http://api.openweathermap.org/data/2.5/weather?appid=04fd34c2ec5995cfb3c966c74378af1a&unitsstandard&q=cauquenes\n",
      "http://api.openweathermap.org/data/2.5/weather?appid=04fd34c2ec5995cfb3c966c74378af1a&unitsstandard&q=kamenka\n",
      "http://api.openweathermap.org/data/2.5/weather?appid=04fd34c2ec5995cfb3c966c74378af1a&unitsstandard&q=palabuhanratu\n",
      "#####City not found#####\n",
      "http://api.openweathermap.org/data/2.5/weather?appid=04fd34c2ec5995cfb3c966c74378af1a&unitsstandard&q=kathu\n",
      "http://api.openweathermap.org/data/2.5/weather?appid=04fd34c2ec5995cfb3c966c74378af1a&unitsstandard&q=tlacotepec\n",
      "http://api.openweathermap.org/data/2.5/weather?appid=04fd34c2ec5995cfb3c966c74378af1a&unitsstandard&q=urumqi\n",
      "http://api.openweathermap.org/data/2.5/weather?appid=04fd34c2ec5995cfb3c966c74378af1a&unitsstandard&q=dongsheng\n",
      "http://api.openweathermap.org/data/2.5/weather?appid=04fd34c2ec5995cfb3c966c74378af1a&unitsstandard&q=sawakin\n",
      "http://api.openweathermap.org/data/2.5/weather?appid=04fd34c2ec5995cfb3c966c74378af1a&unitsstandard&q=zhuhai\n",
      "http://api.openweathermap.org/data/2.5/weather?appid=04fd34c2ec5995cfb3c966c74378af1a&unitsstandard&q=lincoln\n",
      "http://api.openweathermap.org/data/2.5/weather?appid=04fd34c2ec5995cfb3c966c74378af1a&unitsstandard&q=barstow\n",
      "http://api.openweathermap.org/data/2.5/weather?appid=04fd34c2ec5995cfb3c966c74378af1a&unitsstandard&q=ngukurr\n",
      "#####City not found#####\n",
      "http://api.openweathermap.org/data/2.5/weather?appid=04fd34c2ec5995cfb3c966c74378af1a&unitsstandard&q=carutapera\n",
      "http://api.openweathermap.org/data/2.5/weather?appid=04fd34c2ec5995cfb3c966c74378af1a&unitsstandard&q=catabola\n"
     ]
    },
    {
     "name": "stdout",
     "output_type": "stream",
     "text": [
      "http://api.openweathermap.org/data/2.5/weather?appid=04fd34c2ec5995cfb3c966c74378af1a&unitsstandard&q=bargal\n",
      "#####City not found#####\n",
      "http://api.openweathermap.org/data/2.5/weather?appid=04fd34c2ec5995cfb3c966c74378af1a&unitsstandard&q=bababe\n",
      "#####City not found#####\n",
      "http://api.openweathermap.org/data/2.5/weather?appid=04fd34c2ec5995cfb3c966c74378af1a&unitsstandard&q=gwadar\n",
      "http://api.openweathermap.org/data/2.5/weather?appid=04fd34c2ec5995cfb3c966c74378af1a&unitsstandard&q=puerto plata\n",
      "http://api.openweathermap.org/data/2.5/weather?appid=04fd34c2ec5995cfb3c966c74378af1a&unitsstandard&q=thinadhoo\n",
      "http://api.openweathermap.org/data/2.5/weather?appid=04fd34c2ec5995cfb3c966c74378af1a&unitsstandard&q=sao felix do xingu\n",
      "http://api.openweathermap.org/data/2.5/weather?appid=04fd34c2ec5995cfb3c966c74378af1a&unitsstandard&q=lompoc\n",
      "http://api.openweathermap.org/data/2.5/weather?appid=04fd34c2ec5995cfb3c966c74378af1a&unitsstandard&q=arauca\n",
      "http://api.openweathermap.org/data/2.5/weather?appid=04fd34c2ec5995cfb3c966c74378af1a&unitsstandard&q=ambodifototra\n",
      "#####City not found#####\n",
      "http://api.openweathermap.org/data/2.5/weather?appid=04fd34c2ec5995cfb3c966c74378af1a&unitsstandard&q=chengde\n",
      "http://api.openweathermap.org/data/2.5/weather?appid=04fd34c2ec5995cfb3c966c74378af1a&unitsstandard&q=adre\n",
      "http://api.openweathermap.org/data/2.5/weather?appid=04fd34c2ec5995cfb3c966c74378af1a&unitsstandard&q=zaragoza\n",
      "http://api.openweathermap.org/data/2.5/weather?appid=04fd34c2ec5995cfb3c966c74378af1a&unitsstandard&q=trairi\n",
      "http://api.openweathermap.org/data/2.5/weather?appid=04fd34c2ec5995cfb3c966c74378af1a&unitsstandard&q=pointe michel\n",
      "http://api.openweathermap.org/data/2.5/weather?appid=04fd34c2ec5995cfb3c966c74378af1a&unitsstandard&q=port hueneme\n",
      "http://api.openweathermap.org/data/2.5/weather?appid=04fd34c2ec5995cfb3c966c74378af1a&unitsstandard&q=tual\n",
      "http://api.openweathermap.org/data/2.5/weather?appid=04fd34c2ec5995cfb3c966c74378af1a&unitsstandard&q=leogane\n",
      "http://api.openweathermap.org/data/2.5/weather?appid=04fd34c2ec5995cfb3c966c74378af1a&unitsstandard&q=murud\n",
      "http://api.openweathermap.org/data/2.5/weather?appid=04fd34c2ec5995cfb3c966c74378af1a&unitsstandard&q=sabzevar\n",
      "http://api.openweathermap.org/data/2.5/weather?appid=04fd34c2ec5995cfb3c966c74378af1a&unitsstandard&q=khorol\n",
      "http://api.openweathermap.org/data/2.5/weather?appid=04fd34c2ec5995cfb3c966c74378af1a&unitsstandard&q=tandalti\n",
      "http://api.openweathermap.org/data/2.5/weather?appid=04fd34c2ec5995cfb3c966c74378af1a&unitsstandard&q=berdigestyakh\n",
      "http://api.openweathermap.org/data/2.5/weather?appid=04fd34c2ec5995cfb3c966c74378af1a&unitsstandard&q=crixas\n",
      "http://api.openweathermap.org/data/2.5/weather?appid=04fd34c2ec5995cfb3c966c74378af1a&unitsstandard&q=oranjemund\n",
      "http://api.openweathermap.org/data/2.5/weather?appid=04fd34c2ec5995cfb3c966c74378af1a&unitsstandard&q=tazovskiy\n",
      "http://api.openweathermap.org/data/2.5/weather?appid=04fd34c2ec5995cfb3c966c74378af1a&unitsstandard&q=villa carlos paz\n",
      "http://api.openweathermap.org/data/2.5/weather?appid=04fd34c2ec5995cfb3c966c74378af1a&unitsstandard&q=tarbagatay\n",
      "http://api.openweathermap.org/data/2.5/weather?appid=04fd34c2ec5995cfb3c966c74378af1a&unitsstandard&q=lunsar\n",
      "http://api.openweathermap.org/data/2.5/weather?appid=04fd34c2ec5995cfb3c966c74378af1a&unitsstandard&q=san clemente\n",
      "http://api.openweathermap.org/data/2.5/weather?appid=04fd34c2ec5995cfb3c966c74378af1a&unitsstandard&q=hualmay\n",
      "http://api.openweathermap.org/data/2.5/weather?appid=04fd34c2ec5995cfb3c966c74378af1a&unitsstandard&q=aksu\n",
      "http://api.openweathermap.org/data/2.5/weather?appid=04fd34c2ec5995cfb3c966c74378af1a&unitsstandard&q=miyang\n",
      "http://api.openweathermap.org/data/2.5/weather?appid=04fd34c2ec5995cfb3c966c74378af1a&unitsstandard&q=kibondo\n",
      "http://api.openweathermap.org/data/2.5/weather?appid=04fd34c2ec5995cfb3c966c74378af1a&unitsstandard&q=gloversville\n",
      "http://api.openweathermap.org/data/2.5/weather?appid=04fd34c2ec5995cfb3c966c74378af1a&unitsstandard&q=hirtshals\n",
      "http://api.openweathermap.org/data/2.5/weather?appid=04fd34c2ec5995cfb3c966c74378af1a&unitsstandard&q=akcakoca\n",
      "http://api.openweathermap.org/data/2.5/weather?appid=04fd34c2ec5995cfb3c966c74378af1a&unitsstandard&q=vao\n",
      "http://api.openweathermap.org/data/2.5/weather?appid=04fd34c2ec5995cfb3c966c74378af1a&unitsstandard&q=pathein\n",
      "http://api.openweathermap.org/data/2.5/weather?appid=04fd34c2ec5995cfb3c966c74378af1a&unitsstandard&q=mazatlan\n",
      "http://api.openweathermap.org/data/2.5/weather?appid=04fd34c2ec5995cfb3c966c74378af1a&unitsstandard&q=beloha\n",
      "http://api.openweathermap.org/data/2.5/weather?appid=04fd34c2ec5995cfb3c966c74378af1a&unitsstandard&q=bolungarvik\n",
      "#####City not found#####\n",
      "http://api.openweathermap.org/data/2.5/weather?appid=04fd34c2ec5995cfb3c966c74378af1a&unitsstandard&q=ambovombe\n",
      "http://api.openweathermap.org/data/2.5/weather?appid=04fd34c2ec5995cfb3c966c74378af1a&unitsstandard&q=henties bay\n",
      "http://api.openweathermap.org/data/2.5/weather?appid=04fd34c2ec5995cfb3c966c74378af1a&unitsstandard&q=visnes\n",
      "http://api.openweathermap.org/data/2.5/weather?appid=04fd34c2ec5995cfb3c966c74378af1a&unitsstandard&q=caravelas\n",
      "http://api.openweathermap.org/data/2.5/weather?appid=04fd34c2ec5995cfb3c966c74378af1a&unitsstandard&q=north bend\n",
      "http://api.openweathermap.org/data/2.5/weather?appid=04fd34c2ec5995cfb3c966c74378af1a&unitsstandard&q=sulurpeta\n",
      "#####City not found#####\n",
      "http://api.openweathermap.org/data/2.5/weather?appid=04fd34c2ec5995cfb3c966c74378af1a&unitsstandard&q=elko\n",
      "http://api.openweathermap.org/data/2.5/weather?appid=04fd34c2ec5995cfb3c966c74378af1a&unitsstandard&q=krasnaya gorbatka\n",
      "http://api.openweathermap.org/data/2.5/weather?appid=04fd34c2ec5995cfb3c966c74378af1a&unitsstandard&q=panguna\n",
      "http://api.openweathermap.org/data/2.5/weather?appid=04fd34c2ec5995cfb3c966c74378af1a&unitsstandard&q=tilaran\n",
      "http://api.openweathermap.org/data/2.5/weather?appid=04fd34c2ec5995cfb3c966c74378af1a&unitsstandard&q=kenai\n",
      "http://api.openweathermap.org/data/2.5/weather?appid=04fd34c2ec5995cfb3c966c74378af1a&unitsstandard&q=sisimiut\n",
      "http://api.openweathermap.org/data/2.5/weather?appid=04fd34c2ec5995cfb3c966c74378af1a&unitsstandard&q=maroua\n",
      "http://api.openweathermap.org/data/2.5/weather?appid=04fd34c2ec5995cfb3c966c74378af1a&unitsstandard&q=fuling\n",
      "http://api.openweathermap.org/data/2.5/weather?appid=04fd34c2ec5995cfb3c966c74378af1a&unitsstandard&q=quatre cocos\n",
      "http://api.openweathermap.org/data/2.5/weather?appid=04fd34c2ec5995cfb3c966c74378af1a&unitsstandard&q=yar-sale\n",
      "http://api.openweathermap.org/data/2.5/weather?appid=04fd34c2ec5995cfb3c966c74378af1a&unitsstandard&q=varhaug\n",
      "http://api.openweathermap.org/data/2.5/weather?appid=04fd34c2ec5995cfb3c966c74378af1a&unitsstandard&q=olafsvik\n",
      "http://api.openweathermap.org/data/2.5/weather?appid=04fd34c2ec5995cfb3c966c74378af1a&unitsstandard&q=laizhou\n",
      "http://api.openweathermap.org/data/2.5/weather?appid=04fd34c2ec5995cfb3c966c74378af1a&unitsstandard&q=san rafael del sur\n",
      "http://api.openweathermap.org/data/2.5/weather?appid=04fd34c2ec5995cfb3c966c74378af1a&unitsstandard&q=smithers\n",
      "http://api.openweathermap.org/data/2.5/weather?appid=04fd34c2ec5995cfb3c966c74378af1a&unitsstandard&q=kamiiso\n",
      "http://api.openweathermap.org/data/2.5/weather?appid=04fd34c2ec5995cfb3c966c74378af1a&unitsstandard&q=svetlogorsk\n",
      "http://api.openweathermap.org/data/2.5/weather?appid=04fd34c2ec5995cfb3c966c74378af1a&unitsstandard&q=inndyr\n",
      "http://api.openweathermap.org/data/2.5/weather?appid=04fd34c2ec5995cfb3c966c74378af1a&unitsstandard&q=adilabad\n",
      "http://api.openweathermap.org/data/2.5/weather?appid=04fd34c2ec5995cfb3c966c74378af1a&unitsstandard&q=mahalingpur\n",
      "http://api.openweathermap.org/data/2.5/weather?appid=04fd34c2ec5995cfb3c966c74378af1a&unitsstandard&q=one hundred mile house\n",
      "#####City not found#####\n",
      "http://api.openweathermap.org/data/2.5/weather?appid=04fd34c2ec5995cfb3c966c74378af1a&unitsstandard&q=luderitz\n",
      "http://api.openweathermap.org/data/2.5/weather?appid=04fd34c2ec5995cfb3c966c74378af1a&unitsstandard&q=northam\n",
      "http://api.openweathermap.org/data/2.5/weather?appid=04fd34c2ec5995cfb3c966c74378af1a&unitsstandard&q=caucaia\n",
      "http://api.openweathermap.org/data/2.5/weather?appid=04fd34c2ec5995cfb3c966c74378af1a&unitsstandard&q=sao francisco\n",
      "http://api.openweathermap.org/data/2.5/weather?appid=04fd34c2ec5995cfb3c966c74378af1a&unitsstandard&q=sansai\n"
     ]
    },
    {
     "name": "stdout",
     "output_type": "stream",
     "text": [
      "#####City not found#####\n",
      "http://api.openweathermap.org/data/2.5/weather?appid=04fd34c2ec5995cfb3c966c74378af1a&unitsstandard&q=umm lajj\n",
      "http://api.openweathermap.org/data/2.5/weather?appid=04fd34c2ec5995cfb3c966c74378af1a&unitsstandard&q=turayf\n",
      "http://api.openweathermap.org/data/2.5/weather?appid=04fd34c2ec5995cfb3c966c74378af1a&unitsstandard&q=hunchun\n",
      "http://api.openweathermap.org/data/2.5/weather?appid=04fd34c2ec5995cfb3c966c74378af1a&unitsstandard&q=port hardy\n",
      "http://api.openweathermap.org/data/2.5/weather?appid=04fd34c2ec5995cfb3c966c74378af1a&unitsstandard&q=aflu\n",
      "#####City not found#####\n",
      "http://api.openweathermap.org/data/2.5/weather?appid=04fd34c2ec5995cfb3c966c74378af1a&unitsstandard&q=krasnyy chikoy\n",
      "http://api.openweathermap.org/data/2.5/weather?appid=04fd34c2ec5995cfb3c966c74378af1a&unitsstandard&q=azul\n",
      "http://api.openweathermap.org/data/2.5/weather?appid=04fd34c2ec5995cfb3c966c74378af1a&unitsstandard&q=havoysund\n",
      "http://api.openweathermap.org/data/2.5/weather?appid=04fd34c2ec5995cfb3c966c74378af1a&unitsstandard&q=qaqortoq\n",
      "http://api.openweathermap.org/data/2.5/weather?appid=04fd34c2ec5995cfb3c966c74378af1a&unitsstandard&q=orlik\n",
      "http://api.openweathermap.org/data/2.5/weather?appid=04fd34c2ec5995cfb3c966c74378af1a&unitsstandard&q=lugovoy\n",
      "http://api.openweathermap.org/data/2.5/weather?appid=04fd34c2ec5995cfb3c966c74378af1a&unitsstandard&q=atar\n",
      "http://api.openweathermap.org/data/2.5/weather?appid=04fd34c2ec5995cfb3c966c74378af1a&unitsstandard&q=tabas\n",
      "http://api.openweathermap.org/data/2.5/weather?appid=04fd34c2ec5995cfb3c966c74378af1a&unitsstandard&q=zhigansk\n",
      "http://api.openweathermap.org/data/2.5/weather?appid=04fd34c2ec5995cfb3c966c74378af1a&unitsstandard&q=eskasem\n",
      "#####City not found#####\n",
      "http://api.openweathermap.org/data/2.5/weather?appid=04fd34c2ec5995cfb3c966c74378af1a&unitsstandard&q=benghazi\n",
      "http://api.openweathermap.org/data/2.5/weather?appid=04fd34c2ec5995cfb3c966c74378af1a&unitsstandard&q=kensington\n",
      "http://api.openweathermap.org/data/2.5/weather?appid=04fd34c2ec5995cfb3c966c74378af1a&unitsstandard&q=fernley\n",
      "http://api.openweathermap.org/data/2.5/weather?appid=04fd34c2ec5995cfb3c966c74378af1a&unitsstandard&q=manokwari\n",
      "http://api.openweathermap.org/data/2.5/weather?appid=04fd34c2ec5995cfb3c966c74378af1a&unitsstandard&q=kupang\n",
      "http://api.openweathermap.org/data/2.5/weather?appid=04fd34c2ec5995cfb3c966c74378af1a&unitsstandard&q=gizo\n",
      "http://api.openweathermap.org/data/2.5/weather?appid=04fd34c2ec5995cfb3c966c74378af1a&unitsstandard&q=chicama\n",
      "http://api.openweathermap.org/data/2.5/weather?appid=04fd34c2ec5995cfb3c966c74378af1a&unitsstandard&q=sembakung\n",
      "http://api.openweathermap.org/data/2.5/weather?appid=04fd34c2ec5995cfb3c966c74378af1a&unitsstandard&q=margate\n",
      "http://api.openweathermap.org/data/2.5/weather?appid=04fd34c2ec5995cfb3c966c74378af1a&unitsstandard&q=ayagoz\n",
      "http://api.openweathermap.org/data/2.5/weather?appid=04fd34c2ec5995cfb3c966c74378af1a&unitsstandard&q=ust-ilimsk\n",
      "http://api.openweathermap.org/data/2.5/weather?appid=04fd34c2ec5995cfb3c966c74378af1a&unitsstandard&q=vila velha\n",
      "http://api.openweathermap.org/data/2.5/weather?appid=04fd34c2ec5995cfb3c966c74378af1a&unitsstandard&q=dafeng\n",
      "http://api.openweathermap.org/data/2.5/weather?appid=04fd34c2ec5995cfb3c966c74378af1a&unitsstandard&q=marrakesh\n",
      "http://api.openweathermap.org/data/2.5/weather?appid=04fd34c2ec5995cfb3c966c74378af1a&unitsstandard&q=fene\n",
      "http://api.openweathermap.org/data/2.5/weather?appid=04fd34c2ec5995cfb3c966c74378af1a&unitsstandard&q=aksarka\n",
      "http://api.openweathermap.org/data/2.5/weather?appid=04fd34c2ec5995cfb3c966c74378af1a&unitsstandard&q=mazyr\n",
      "http://api.openweathermap.org/data/2.5/weather?appid=04fd34c2ec5995cfb3c966c74378af1a&unitsstandard&q=omihachiman\n",
      "http://api.openweathermap.org/data/2.5/weather?appid=04fd34c2ec5995cfb3c966c74378af1a&unitsstandard&q=hangu\n",
      "http://api.openweathermap.org/data/2.5/weather?appid=04fd34c2ec5995cfb3c966c74378af1a&unitsstandard&q=qinhuangdao\n",
      "http://api.openweathermap.org/data/2.5/weather?appid=04fd34c2ec5995cfb3c966c74378af1a&unitsstandard&q=grand forks\n",
      "http://api.openweathermap.org/data/2.5/weather?appid=04fd34c2ec5995cfb3c966c74378af1a&unitsstandard&q=oyek\n",
      "http://api.openweathermap.org/data/2.5/weather?appid=04fd34c2ec5995cfb3c966c74378af1a&unitsstandard&q=nahavand\n",
      "http://api.openweathermap.org/data/2.5/weather?appid=04fd34c2ec5995cfb3c966c74378af1a&unitsstandard&q=owando\n",
      "http://api.openweathermap.org/data/2.5/weather?appid=04fd34c2ec5995cfb3c966c74378af1a&unitsstandard&q=tygda\n",
      "http://api.openweathermap.org/data/2.5/weather?appid=04fd34c2ec5995cfb3c966c74378af1a&unitsstandard&q=mujiayingzi\n",
      "http://api.openweathermap.org/data/2.5/weather?appid=04fd34c2ec5995cfb3c966c74378af1a&unitsstandard&q=ngunguru\n",
      "http://api.openweathermap.org/data/2.5/weather?appid=04fd34c2ec5995cfb3c966c74378af1a&unitsstandard&q=mergui\n",
      "#####City not found#####\n",
      "http://api.openweathermap.org/data/2.5/weather?appid=04fd34c2ec5995cfb3c966c74378af1a&unitsstandard&q=uusikaupunki\n",
      "http://api.openweathermap.org/data/2.5/weather?appid=04fd34c2ec5995cfb3c966c74378af1a&unitsstandard&q=kandrian\n",
      "http://api.openweathermap.org/data/2.5/weather?appid=04fd34c2ec5995cfb3c966c74378af1a&unitsstandard&q=makakilo city\n",
      "http://api.openweathermap.org/data/2.5/weather?appid=04fd34c2ec5995cfb3c966c74378af1a&unitsstandard&q=stornoway\n",
      "http://api.openweathermap.org/data/2.5/weather?appid=04fd34c2ec5995cfb3c966c74378af1a&unitsstandard&q=sibolga\n",
      "http://api.openweathermap.org/data/2.5/weather?appid=04fd34c2ec5995cfb3c966c74378af1a&unitsstandard&q=teguldet\n",
      "http://api.openweathermap.org/data/2.5/weather?appid=04fd34c2ec5995cfb3c966c74378af1a&unitsstandard&q=san policarpo\n",
      "http://api.openweathermap.org/data/2.5/weather?appid=04fd34c2ec5995cfb3c966c74378af1a&unitsstandard&q=rungata\n",
      "#####City not found#####\n",
      "http://api.openweathermap.org/data/2.5/weather?appid=04fd34c2ec5995cfb3c966c74378af1a&unitsstandard&q=kiunga\n",
      "http://api.openweathermap.org/data/2.5/weather?appid=04fd34c2ec5995cfb3c966c74378af1a&unitsstandard&q=sherlovaya gora\n",
      "http://api.openweathermap.org/data/2.5/weather?appid=04fd34c2ec5995cfb3c966c74378af1a&unitsstandard&q=watertown\n",
      "http://api.openweathermap.org/data/2.5/weather?appid=04fd34c2ec5995cfb3c966c74378af1a&unitsstandard&q=assiniboia\n",
      "http://api.openweathermap.org/data/2.5/weather?appid=04fd34c2ec5995cfb3c966c74378af1a&unitsstandard&q=alcaniz\n",
      "http://api.openweathermap.org/data/2.5/weather?appid=04fd34c2ec5995cfb3c966c74378af1a&unitsstandard&q=hennenman\n",
      "http://api.openweathermap.org/data/2.5/weather?appid=04fd34c2ec5995cfb3c966c74378af1a&unitsstandard&q=semey\n",
      "http://api.openweathermap.org/data/2.5/weather?appid=04fd34c2ec5995cfb3c966c74378af1a&unitsstandard&q=jaisalmer\n",
      "http://api.openweathermap.org/data/2.5/weather?appid=04fd34c2ec5995cfb3c966c74378af1a&unitsstandard&q=nisia floresta\n",
      "http://api.openweathermap.org/data/2.5/weather?appid=04fd34c2ec5995cfb3c966c74378af1a&unitsstandard&q=thunder bay\n",
      "http://api.openweathermap.org/data/2.5/weather?appid=04fd34c2ec5995cfb3c966c74378af1a&unitsstandard&q=starozhilovo\n",
      "http://api.openweathermap.org/data/2.5/weather?appid=04fd34c2ec5995cfb3c966c74378af1a&unitsstandard&q=capao da canoa\n",
      "http://api.openweathermap.org/data/2.5/weather?appid=04fd34c2ec5995cfb3c966c74378af1a&unitsstandard&q=otane\n",
      "http://api.openweathermap.org/data/2.5/weather?appid=04fd34c2ec5995cfb3c966c74378af1a&unitsstandard&q=quelimane\n",
      "http://api.openweathermap.org/data/2.5/weather?appid=04fd34c2ec5995cfb3c966c74378af1a&unitsstandard&q=seoul\n",
      "http://api.openweathermap.org/data/2.5/weather?appid=04fd34c2ec5995cfb3c966c74378af1a&unitsstandard&q=alexandria\n",
      "http://api.openweathermap.org/data/2.5/weather?appid=04fd34c2ec5995cfb3c966c74378af1a&unitsstandard&q=santa maria\n",
      "http://api.openweathermap.org/data/2.5/weather?appid=04fd34c2ec5995cfb3c966c74378af1a&unitsstandard&q=arvika\n",
      "http://api.openweathermap.org/data/2.5/weather?appid=04fd34c2ec5995cfb3c966c74378af1a&unitsstandard&q=chitrakonda\n",
      "http://api.openweathermap.org/data/2.5/weather?appid=04fd34c2ec5995cfb3c966c74378af1a&unitsstandard&q=matadi\n",
      "http://api.openweathermap.org/data/2.5/weather?appid=04fd34c2ec5995cfb3c966c74378af1a&unitsstandard&q=matara\n",
      "http://api.openweathermap.org/data/2.5/weather?appid=04fd34c2ec5995cfb3c966c74378af1a&unitsstandard&q=koslan\n"
     ]
    },
    {
     "name": "stdout",
     "output_type": "stream",
     "text": [
      "http://api.openweathermap.org/data/2.5/weather?appid=04fd34c2ec5995cfb3c966c74378af1a&unitsstandard&q=sainte-maxime\n",
      "http://api.openweathermap.org/data/2.5/weather?appid=04fd34c2ec5995cfb3c966c74378af1a&unitsstandard&q=mut\n",
      "http://api.openweathermap.org/data/2.5/weather?appid=04fd34c2ec5995cfb3c966c74378af1a&unitsstandard&q=chara\n",
      "http://api.openweathermap.org/data/2.5/weather?appid=04fd34c2ec5995cfb3c966c74378af1a&unitsstandard&q=nuuk\n",
      "http://api.openweathermap.org/data/2.5/weather?appid=04fd34c2ec5995cfb3c966c74378af1a&unitsstandard&q=vanavara\n",
      "http://api.openweathermap.org/data/2.5/weather?appid=04fd34c2ec5995cfb3c966c74378af1a&unitsstandard&q=kongsberg\n",
      "http://api.openweathermap.org/data/2.5/weather?appid=04fd34c2ec5995cfb3c966c74378af1a&unitsstandard&q=batemans bay\n",
      "http://api.openweathermap.org/data/2.5/weather?appid=04fd34c2ec5995cfb3c966c74378af1a&unitsstandard&q=roald\n",
      "http://api.openweathermap.org/data/2.5/weather?appid=04fd34c2ec5995cfb3c966c74378af1a&unitsstandard&q=lewistown\n",
      "http://api.openweathermap.org/data/2.5/weather?appid=04fd34c2ec5995cfb3c966c74378af1a&unitsstandard&q=ladario\n",
      "http://api.openweathermap.org/data/2.5/weather?appid=04fd34c2ec5995cfb3c966c74378af1a&unitsstandard&q=santa cruz del norte\n",
      "http://api.openweathermap.org/data/2.5/weather?appid=04fd34c2ec5995cfb3c966c74378af1a&unitsstandard&q=jardim do serido\n",
      "http://api.openweathermap.org/data/2.5/weather?appid=04fd34c2ec5995cfb3c966c74378af1a&unitsstandard&q=loandjili\n",
      "http://api.openweathermap.org/data/2.5/weather?appid=04fd34c2ec5995cfb3c966c74378af1a&unitsstandard&q=lexington\n",
      "http://api.openweathermap.org/data/2.5/weather?appid=04fd34c2ec5995cfb3c966c74378af1a&unitsstandard&q=mounana\n",
      "http://api.openweathermap.org/data/2.5/weather?appid=04fd34c2ec5995cfb3c966c74378af1a&unitsstandard&q=kirakira\n",
      "http://api.openweathermap.org/data/2.5/weather?appid=04fd34c2ec5995cfb3c966c74378af1a&unitsstandard&q=maniitsoq\n",
      "http://api.openweathermap.org/data/2.5/weather?appid=04fd34c2ec5995cfb3c966c74378af1a&unitsstandard&q=buraydah\n",
      "http://api.openweathermap.org/data/2.5/weather?appid=04fd34c2ec5995cfb3c966c74378af1a&unitsstandard&q=saint-pierre\n",
      "http://api.openweathermap.org/data/2.5/weather?appid=04fd34c2ec5995cfb3c966c74378af1a&unitsstandard&q=uribia\n",
      "http://api.openweathermap.org/data/2.5/weather?appid=04fd34c2ec5995cfb3c966c74378af1a&unitsstandard&q=south river\n",
      "http://api.openweathermap.org/data/2.5/weather?appid=04fd34c2ec5995cfb3c966c74378af1a&unitsstandard&q=victor harbor\n",
      "http://api.openweathermap.org/data/2.5/weather?appid=04fd34c2ec5995cfb3c966c74378af1a&unitsstandard&q=staroye drozhzhanoye\n",
      "http://api.openweathermap.org/data/2.5/weather?appid=04fd34c2ec5995cfb3c966c74378af1a&unitsstandard&q=tomatlan\n",
      "http://api.openweathermap.org/data/2.5/weather?appid=04fd34c2ec5995cfb3c966c74378af1a&unitsstandard&q=bastrop\n",
      "http://api.openweathermap.org/data/2.5/weather?appid=04fd34c2ec5995cfb3c966c74378af1a&unitsstandard&q=sayanogorsk\n",
      "http://api.openweathermap.org/data/2.5/weather?appid=04fd34c2ec5995cfb3c966c74378af1a&unitsstandard&q=visakhapatnam\n",
      "http://api.openweathermap.org/data/2.5/weather?appid=04fd34c2ec5995cfb3c966c74378af1a&unitsstandard&q=bogorodskoye\n",
      "http://api.openweathermap.org/data/2.5/weather?appid=04fd34c2ec5995cfb3c966c74378af1a&unitsstandard&q=kerema\n",
      "http://api.openweathermap.org/data/2.5/weather?appid=04fd34c2ec5995cfb3c966c74378af1a&unitsstandard&q=kamskiye polyany\n",
      "http://api.openweathermap.org/data/2.5/weather?appid=04fd34c2ec5995cfb3c966c74378af1a&unitsstandard&q=tahta\n",
      "http://api.openweathermap.org/data/2.5/weather?appid=04fd34c2ec5995cfb3c966c74378af1a&unitsstandard&q=parelhas\n",
      "http://api.openweathermap.org/data/2.5/weather?appid=04fd34c2ec5995cfb3c966c74378af1a&unitsstandard&q=goderich\n",
      "http://api.openweathermap.org/data/2.5/weather?appid=04fd34c2ec5995cfb3c966c74378af1a&unitsstandard&q=straumen\n",
      "http://api.openweathermap.org/data/2.5/weather?appid=04fd34c2ec5995cfb3c966c74378af1a&unitsstandard&q=mancio lima\n",
      "http://api.openweathermap.org/data/2.5/weather?appid=04fd34c2ec5995cfb3c966c74378af1a&unitsstandard&q=viedma\n",
      "http://api.openweathermap.org/data/2.5/weather?appid=04fd34c2ec5995cfb3c966c74378af1a&unitsstandard&q=rakaia\n",
      "http://api.openweathermap.org/data/2.5/weather?appid=04fd34c2ec5995cfb3c966c74378af1a&unitsstandard&q=conceicao da barra\n",
      "http://api.openweathermap.org/data/2.5/weather?appid=04fd34c2ec5995cfb3c966c74378af1a&unitsstandard&q=taksimo\n",
      "http://api.openweathermap.org/data/2.5/weather?appid=04fd34c2ec5995cfb3c966c74378af1a&unitsstandard&q=strugari\n",
      "http://api.openweathermap.org/data/2.5/weather?appid=04fd34c2ec5995cfb3c966c74378af1a&unitsstandard&q=port hedland\n",
      "Done!!\n"
     ]
    }
   ],
   "source": [
    "#make list to store parameters to request/store\n",
    "L_city = []\n",
    "L_lat = []\n",
    "L_lng = []\n",
    "L_cloudiness = []\n",
    "L_country = []\n",
    "L_date = []\n",
    "L_humidity = []\n",
    "L_tempMaX = []\n",
    "wind_speed_list = []\n",
    "index_counter = 0\n",
    "set_counter = 1\n",
    "\n",
    "#loop throgh \"cities\"\n",
    "for index, city in enumerate(cities, start = 1):\n",
    "    try:\n",
    "        print(query_url+city)\n",
    "        response = requests.get(query_url + city).json()\n",
    "        L_city.append(response[\"name\"])\n",
    "        L_cloudiness.append(response[\"clouds\"][\"all\"])\n",
    "        L_country.append(response[\"sys\"][\"country\"])\n",
    "        L_date.append(response[\"dt\"])\n",
    "        L_humidity.append(response[\"main\"][\"humidity\"])\n",
    "        L_lat.append(response[\"coord\"][\"lat\"])\n",
    "        L_lng.append(response[\"coord\"][\"lon\"])\n",
    "        L_tempMaX.append(response['main']['temp_max'])\n",
    "        wind_speed_list.append(response[\"wind\"][\"speed\"])\n",
    "        if index_counter > 49:\n",
    "            index_counter = 0\n",
    "            set_counter = set_counter + 1\n",
    "    \n",
    "        else:\n",
    "            index_counter = index_counter + 1\n",
    "         # limit query time\n",
    "        time.sleep(0.01)\n",
    "            \n",
    "        \n",
    "    except(KeyError, IndexError):\n",
    "        print(\"#####City not found#####\")\n",
    "\n",
    "print(\"Done!!\")\n"
   ]
  },
  {
   "cell_type": "markdown",
   "metadata": {},
   "source": [
    "### Convert Raw Data to DataFrame\n",
    "* Export the city data into a .csv.\n",
    "* Display the DataFrame\n"
   ]
  },
  {
   "cell_type": "code",
   "execution_count": 20,
   "metadata": {},
   "outputs": [
    {
     "name": "stdout",
     "output_type": "stream",
     "text": [
      "                   City Country      Lat       Lng  Cloudiness        Date  \\\n",
      "0              Pacifica      US  37.6138 -122.4869          40  1619747194   \n",
      "1            Ksino Nero      GR  40.6833   21.6167           3  1619747195   \n",
      "2                 Tiksi      RU  71.6872  128.8694          78  1619747186   \n",
      "3            Butaritari      KI   3.0707  172.7902         100  1619746924   \n",
      "4               Ushuaia      AR -54.8000  -68.3000          75  1619747196   \n",
      "..                  ...     ...      ...       ...         ...         ...   \n",
      "568              Rakaia      NZ -43.7500  172.0167         100  1619747469   \n",
      "569  Conceição da Barra      BR -18.5933  -39.7322          95  1619747470   \n",
      "570             Taksimo      RU  56.3444  114.8794          89  1619747470   \n",
      "571            Strugari      RO  46.5333   26.7167          90  1619747471   \n",
      "572        Port Hedland      AU -20.3167  118.5667           0  1619747471   \n",
      "\n",
      "     Humidity  Max Temp  Wind Speed  \n",
      "0          82    287.04        5.66  \n",
      "1          82    288.71        2.57  \n",
      "2          83    273.19        2.26  \n",
      "3          71    301.97        5.90  \n",
      "4          70    277.15        1.55  \n",
      "..        ...       ...         ...  \n",
      "568        28    287.59       10.28  \n",
      "569        80    295.39        3.04  \n",
      "570        64    274.91        1.24  \n",
      "571        93    282.59        4.63  \n",
      "572        20    307.15        2.57  \n",
      "\n",
      "[573 rows x 9 columns]\n"
     ]
    }
   ],
   "source": [
    "# Create a panda data frame using data retrieved\n",
    "weather_byCity = pd.DataFrame({ \n",
    "                \"City\" : L_city,\n",
    "                \"Country\" : L_country,\n",
    "                \"Lat\" : L_lat,\n",
    "                \"Lng\" : L_lng,    \n",
    "                \"Cloudiness\" : L_cloudiness,                \n",
    "                \"Date\" : L_date,\n",
    "                \"Humidity\" : L_humidity,                \n",
    "                \"Max Temp\" : L_tempMaX,\n",
    "                \"Wind Speed\" : wind_speed_list\n",
    "})\n",
    "#export to csv\n",
    "weather_byCity .to_csv('WeaterBycity.csv')\n",
    "\n",
    "print(weather_byCity)"
   ]
  },
  {
   "cell_type": "markdown",
   "metadata": {},
   "source": [
    "## Inspect the data and remove the cities where the humidity > 100%.\n",
    "----\n",
    "Skip this step if there are no cities that have humidity > 100%. "
   ]
  },
  {
   "cell_type": "code",
   "execution_count": 21,
   "metadata": {},
   "outputs": [
    {
     "data": {
      "text/plain": [
       "count    573.000000\n",
       "mean      70.675393\n",
       "std       22.255102\n",
       "min        1.000000\n",
       "25%       61.000000\n",
       "50%       76.000000\n",
       "75%       87.000000\n",
       "max      100.000000\n",
       "Name: Humidity, dtype: float64"
      ]
     },
     "execution_count": 21,
     "metadata": {},
     "output_type": "execute_result"
    }
   ],
   "source": [
    "checkAbove100= weather_byCity['Humidity'].describe(include='all')\n",
    "checkAbove100"
   ]
  },
  {
   "cell_type": "markdown",
   "metadata": {},
   "source": [
    "No cities above 100%"
   ]
  },
  {
   "cell_type": "code",
   "execution_count": 22,
   "metadata": {},
   "outputs": [
    {
     "data": {
      "text/plain": [
       "573"
      ]
     },
     "execution_count": 22,
     "metadata": {},
     "output_type": "execute_result"
    }
   ],
   "source": [
    "#make df with <=100% humidity\n",
    "Lessthan100 = weather_byCity.loc[weather_byCity['Humidity']<=100]\n",
    "len(Lessthan100)"
   ]
  },
  {
   "cell_type": "code",
   "execution_count": 23,
   "metadata": {},
   "outputs": [],
   "source": [
    "#  Get the indices of cities that have humidity over 100%.\n",
    "index100 = weather_byCity\n",
    "bool_arr = index\n",
    "output =np.where\n",
    "\n"
   ]
  },
  {
   "cell_type": "code",
   "execution_count": 24,
   "metadata": {},
   "outputs": [],
   "source": [
    "# Make a new DataFrame equal to the city data to drop all humidity outliers by index.\n",
    "# Passing \"inplace=False\" will make a copy of the city_data DataFrame, which we call \"clean_city_data\".\n",
    "clean_city_data = Lessthan100"
   ]
  },
  {
   "cell_type": "code",
   "execution_count": 25,
   "metadata": {},
   "outputs": [
    {
     "data": {
      "text/html": [
       "<div>\n",
       "<style scoped>\n",
       "    .dataframe tbody tr th:only-of-type {\n",
       "        vertical-align: middle;\n",
       "    }\n",
       "\n",
       "    .dataframe tbody tr th {\n",
       "        vertical-align: top;\n",
       "    }\n",
       "\n",
       "    .dataframe thead th {\n",
       "        text-align: right;\n",
       "    }\n",
       "</style>\n",
       "<table border=\"1\" class=\"dataframe\">\n",
       "  <thead>\n",
       "    <tr style=\"text-align: right;\">\n",
       "      <th></th>\n",
       "      <th>City</th>\n",
       "      <th>Country</th>\n",
       "      <th>Lat</th>\n",
       "      <th>Lng</th>\n",
       "      <th>Cloudiness</th>\n",
       "      <th>Date</th>\n",
       "      <th>Humidity</th>\n",
       "      <th>Max Temp</th>\n",
       "      <th>Wind Speed</th>\n",
       "    </tr>\n",
       "  </thead>\n",
       "  <tbody>\n",
       "    <tr>\n",
       "      <th>0</th>\n",
       "      <td>Pacifica</td>\n",
       "      <td>US</td>\n",
       "      <td>37.6138</td>\n",
       "      <td>-122.4869</td>\n",
       "      <td>40</td>\n",
       "      <td>1619747194</td>\n",
       "      <td>82</td>\n",
       "      <td>287.04</td>\n",
       "      <td>5.66</td>\n",
       "    </tr>\n",
       "    <tr>\n",
       "      <th>1</th>\n",
       "      <td>Ksino Nero</td>\n",
       "      <td>GR</td>\n",
       "      <td>40.6833</td>\n",
       "      <td>21.6167</td>\n",
       "      <td>3</td>\n",
       "      <td>1619747195</td>\n",
       "      <td>82</td>\n",
       "      <td>288.71</td>\n",
       "      <td>2.57</td>\n",
       "    </tr>\n",
       "    <tr>\n",
       "      <th>2</th>\n",
       "      <td>Tiksi</td>\n",
       "      <td>RU</td>\n",
       "      <td>71.6872</td>\n",
       "      <td>128.8694</td>\n",
       "      <td>78</td>\n",
       "      <td>1619747186</td>\n",
       "      <td>83</td>\n",
       "      <td>273.19</td>\n",
       "      <td>2.26</td>\n",
       "    </tr>\n",
       "    <tr>\n",
       "      <th>3</th>\n",
       "      <td>Butaritari</td>\n",
       "      <td>KI</td>\n",
       "      <td>3.0707</td>\n",
       "      <td>172.7902</td>\n",
       "      <td>100</td>\n",
       "      <td>1619746924</td>\n",
       "      <td>71</td>\n",
       "      <td>301.97</td>\n",
       "      <td>5.90</td>\n",
       "    </tr>\n",
       "    <tr>\n",
       "      <th>4</th>\n",
       "      <td>Ushuaia</td>\n",
       "      <td>AR</td>\n",
       "      <td>-54.8000</td>\n",
       "      <td>-68.3000</td>\n",
       "      <td>75</td>\n",
       "      <td>1619747196</td>\n",
       "      <td>70</td>\n",
       "      <td>277.15</td>\n",
       "      <td>1.55</td>\n",
       "    </tr>\n",
       "    <tr>\n",
       "      <th>...</th>\n",
       "      <td>...</td>\n",
       "      <td>...</td>\n",
       "      <td>...</td>\n",
       "      <td>...</td>\n",
       "      <td>...</td>\n",
       "      <td>...</td>\n",
       "      <td>...</td>\n",
       "      <td>...</td>\n",
       "      <td>...</td>\n",
       "    </tr>\n",
       "    <tr>\n",
       "      <th>568</th>\n",
       "      <td>Rakaia</td>\n",
       "      <td>NZ</td>\n",
       "      <td>-43.7500</td>\n",
       "      <td>172.0167</td>\n",
       "      <td>100</td>\n",
       "      <td>1619747469</td>\n",
       "      <td>28</td>\n",
       "      <td>287.59</td>\n",
       "      <td>10.28</td>\n",
       "    </tr>\n",
       "    <tr>\n",
       "      <th>569</th>\n",
       "      <td>Conceição da Barra</td>\n",
       "      <td>BR</td>\n",
       "      <td>-18.5933</td>\n",
       "      <td>-39.7322</td>\n",
       "      <td>95</td>\n",
       "      <td>1619747470</td>\n",
       "      <td>80</td>\n",
       "      <td>295.39</td>\n",
       "      <td>3.04</td>\n",
       "    </tr>\n",
       "    <tr>\n",
       "      <th>570</th>\n",
       "      <td>Taksimo</td>\n",
       "      <td>RU</td>\n",
       "      <td>56.3444</td>\n",
       "      <td>114.8794</td>\n",
       "      <td>89</td>\n",
       "      <td>1619747470</td>\n",
       "      <td>64</td>\n",
       "      <td>274.91</td>\n",
       "      <td>1.24</td>\n",
       "    </tr>\n",
       "    <tr>\n",
       "      <th>571</th>\n",
       "      <td>Strugari</td>\n",
       "      <td>RO</td>\n",
       "      <td>46.5333</td>\n",
       "      <td>26.7167</td>\n",
       "      <td>90</td>\n",
       "      <td>1619747471</td>\n",
       "      <td>93</td>\n",
       "      <td>282.59</td>\n",
       "      <td>4.63</td>\n",
       "    </tr>\n",
       "    <tr>\n",
       "      <th>572</th>\n",
       "      <td>Port Hedland</td>\n",
       "      <td>AU</td>\n",
       "      <td>-20.3167</td>\n",
       "      <td>118.5667</td>\n",
       "      <td>0</td>\n",
       "      <td>1619747471</td>\n",
       "      <td>20</td>\n",
       "      <td>307.15</td>\n",
       "      <td>2.57</td>\n",
       "    </tr>\n",
       "  </tbody>\n",
       "</table>\n",
       "<p>573 rows × 9 columns</p>\n",
       "</div>"
      ],
      "text/plain": [
       "                   City Country      Lat       Lng  Cloudiness        Date  \\\n",
       "0              Pacifica      US  37.6138 -122.4869          40  1619747194   \n",
       "1            Ksino Nero      GR  40.6833   21.6167           3  1619747195   \n",
       "2                 Tiksi      RU  71.6872  128.8694          78  1619747186   \n",
       "3            Butaritari      KI   3.0707  172.7902         100  1619746924   \n",
       "4               Ushuaia      AR -54.8000  -68.3000          75  1619747196   \n",
       "..                  ...     ...      ...       ...         ...         ...   \n",
       "568              Rakaia      NZ -43.7500  172.0167         100  1619747469   \n",
       "569  Conceição da Barra      BR -18.5933  -39.7322          95  1619747470   \n",
       "570             Taksimo      RU  56.3444  114.8794          89  1619747470   \n",
       "571            Strugari      RO  46.5333   26.7167          90  1619747471   \n",
       "572        Port Hedland      AU -20.3167  118.5667           0  1619747471   \n",
       "\n",
       "     Humidity  Max Temp  Wind Speed  \n",
       "0          82    287.04        5.66  \n",
       "1          82    288.71        2.57  \n",
       "2          83    273.19        2.26  \n",
       "3          71    301.97        5.90  \n",
       "4          70    277.15        1.55  \n",
       "..        ...       ...         ...  \n",
       "568        28    287.59       10.28  \n",
       "569        80    295.39        3.04  \n",
       "570        64    274.91        1.24  \n",
       "571        93    282.59        4.63  \n",
       "572        20    307.15        2.57  \n",
       "\n",
       "[573 rows x 9 columns]"
      ]
     },
     "execution_count": 25,
     "metadata": {},
     "output_type": "execute_result"
    }
   ],
   "source": [
    "clean_city_data\n"
   ]
  },
  {
   "cell_type": "markdown",
   "metadata": {},
   "source": [
    "## Plotting the Data\n",
    "* Use proper labeling of the plots using plot titles (including date of analysis) and axes labels.\n",
    "* Save the plotted figures as .pngs."
   ]
  },
  {
   "cell_type": "markdown",
   "metadata": {},
   "source": [
    "## Latitude vs. Temperature Plot"
   ]
  },
  {
   "cell_type": "code",
   "execution_count": 26,
   "metadata": {
    "scrolled": true
   },
   "outputs": [
    {
     "data": {
      "image/png": "[encoded data removed]",
      "text/plain": [
       "<Figure size 432x288 with 1 Axes>"
      ]
     },
     "metadata": {
      "needs_background": "light"
     },
     "output_type": "display_data"
    }
   ],
   "source": [
    "#Make Plot lat vs max temp\n",
    "lat_vs_T_axes = clean_city_data.plot(kind=\"scatter\", x=\"Lat\", y=\"Max Temp\",  \n",
    "                                      title=\"Maximum Temperature (F) vs. City Latitude\")\n",
    "plt.grid(linestyle='-', linewidth=1, alpha = 0.5)\n",
    "plt.xlabel(\"latitude\")\n",
    "\n",
    "lat_vs_T_axes.get_figure().savefig(\"TempmaxVlatitude_All_Cities.png\")"
   ]
  },
  {
   "cell_type": "markdown",
   "metadata": {},
   "source": [
    "## Latitude vs. Humidity Plot"
   ]
  },
  {
   "cell_type": "code",
   "execution_count": 27,
   "metadata": {},
   "outputs": [
    {
     "data": {
      "image/png": "[encoded data removed]",
      "text/plain": [
       "<Figure size 432x288 with 1 Axes>"
      ]
     },
     "metadata": {
      "needs_background": "light"
     },
     "output_type": "display_data"
    }
   ],
   "source": [
    "#Make Plot lat vs max temp\n",
    "lat_vs_T_axes = clean_city_data.plot(kind=\"scatter\", x=\"Lat\", y=\"Humidity\",  \n",
    "                                      title=\"Humidity (%) vs. City Latitude\")\n",
    "plt.grid(linestyle='-', linewidth=1, alpha = 0.5)\n",
    "plt.xlabel(\"latitude\")\n",
    "\n",
    "lat_vs_T_axes.get_figure().savefig(\"HumidityVSLatitude_All_Cities.png\")"
   ]
  },
  {
   "cell_type": "markdown",
   "metadata": {},
   "source": [
    "## Latitude vs. Cloudiness Plot"
   ]
  },
  {
   "cell_type": "code",
   "execution_count": 28,
   "metadata": {},
   "outputs": [
    {
     "data": {
      "image/png": "[encoded data removed]",
      "text/plain": [
       "<Figure size 432x288 with 1 Axes>"
      ]
     },
     "metadata": {
      "needs_background": "light"
     },
     "output_type": "display_data"
    }
   ],
   "source": [
    "#Make Plot lat vs max temp\n",
    "lat_vs_T_axes = clean_city_data.plot(kind=\"scatter\", x=\"Lat\", y=\"Cloudiness\",  \n",
    "                                      title=\"Cloudiness vs. City Latitude\")\n",
    "plt.grid(linestyle='-', linewidth=1, alpha = 0.5)\n",
    "plt.xlabel(\"latitude\")\n",
    "\n",
    "lat_vs_T_axes.get_figure().savefig(\"CloudinessVSLatitude_All_Cities.png\")"
   ]
  },
  {
   "cell_type": "markdown",
   "metadata": {},
   "source": [
    "## Latitude vs. Wind Speed Plot"
   ]
  },
  {
   "cell_type": "code",
   "execution_count": 29,
   "metadata": {},
   "outputs": [
    {
     "data": {
      "image/png": "[encoded data removed]",
      "text/plain": [
       "<Figure size 432x288 with 1 Axes>"
      ]
     },
     "metadata": {
      "needs_background": "light"
     },
     "output_type": "display_data"
    }
   ],
   "source": [
    "#Make Plot lat vs max temp\n",
    "lat_vs_T_axes = clean_city_data.plot(kind=\"scatter\", x=\"Lat\", y=\"Wind Speed\",  \n",
    "                                      title=\"Wind Speed vs. City Latitude\")\n",
    "plt.grid(linestyle='-', linewidth=1, alpha = 0.5)\n",
    "plt.xlabel(\"latitude\")\n",
    "\n",
    "lat_vs_T_axes.get_figure().savefig(\"windspeedVSLatitude_All_Cities.png\")"
   ]
  },
  {
   "cell_type": "markdown",
   "metadata": {},
   "source": [
    "## Linear Regression"
   ]
  },
  {
   "cell_type": "markdown",
   "metadata": {},
   "source": [
    "####  Northern Hemisphere - Max Temp vs. Latitude Linear Regression"
   ]
  },
  {
   "cell_type": "code",
   "execution_count": 30,
   "metadata": {},
   "outputs": [
    {
     "data": {
      "text/html": [
       "<div>\n",
       "<style scoped>\n",
       "    .dataframe tbody tr th:only-of-type {\n",
       "        vertical-align: middle;\n",
       "    }\n",
       "\n",
       "    .dataframe tbody tr th {\n",
       "        vertical-align: top;\n",
       "    }\n",
       "\n",
       "    .dataframe thead th {\n",
       "        text-align: right;\n",
       "    }\n",
       "</style>\n",
       "<table border=\"1\" class=\"dataframe\">\n",
       "  <thead>\n",
       "    <tr style=\"text-align: right;\">\n",
       "      <th></th>\n",
       "      <th>City</th>\n",
       "      <th>Country</th>\n",
       "      <th>Lat</th>\n",
       "      <th>Lng</th>\n",
       "      <th>Cloudiness</th>\n",
       "      <th>Date</th>\n",
       "      <th>Humidity</th>\n",
       "      <th>Max Temp</th>\n",
       "      <th>Wind Speed</th>\n",
       "    </tr>\n",
       "  </thead>\n",
       "  <tbody>\n",
       "    <tr>\n",
       "      <th>0</th>\n",
       "      <td>Pacifica</td>\n",
       "      <td>US</td>\n",
       "      <td>37.6138</td>\n",
       "      <td>-122.4869</td>\n",
       "      <td>40</td>\n",
       "      <td>1619747194</td>\n",
       "      <td>82</td>\n",
       "      <td>287.04</td>\n",
       "      <td>5.66</td>\n",
       "    </tr>\n",
       "    <tr>\n",
       "      <th>1</th>\n",
       "      <td>Ksino Nero</td>\n",
       "      <td>GR</td>\n",
       "      <td>40.6833</td>\n",
       "      <td>21.6167</td>\n",
       "      <td>3</td>\n",
       "      <td>1619747195</td>\n",
       "      <td>82</td>\n",
       "      <td>288.71</td>\n",
       "      <td>2.57</td>\n",
       "    </tr>\n",
       "    <tr>\n",
       "      <th>2</th>\n",
       "      <td>Tiksi</td>\n",
       "      <td>RU</td>\n",
       "      <td>71.6872</td>\n",
       "      <td>128.8694</td>\n",
       "      <td>78</td>\n",
       "      <td>1619747186</td>\n",
       "      <td>83</td>\n",
       "      <td>273.19</td>\n",
       "      <td>2.26</td>\n",
       "    </tr>\n",
       "    <tr>\n",
       "      <th>3</th>\n",
       "      <td>Butaritari</td>\n",
       "      <td>KI</td>\n",
       "      <td>3.0707</td>\n",
       "      <td>172.7902</td>\n",
       "      <td>100</td>\n",
       "      <td>1619746924</td>\n",
       "      <td>71</td>\n",
       "      <td>301.97</td>\n",
       "      <td>5.90</td>\n",
       "    </tr>\n",
       "    <tr>\n",
       "      <th>6</th>\n",
       "      <td>Oddur</td>\n",
       "      <td>SO</td>\n",
       "      <td>4.1213</td>\n",
       "      <td>43.8894</td>\n",
       "      <td>100</td>\n",
       "      <td>1619747096</td>\n",
       "      <td>87</td>\n",
       "      <td>296.35</td>\n",
       "      <td>3.94</td>\n",
       "    </tr>\n",
       "    <tr>\n",
       "      <th>...</th>\n",
       "      <td>...</td>\n",
       "      <td>...</td>\n",
       "      <td>...</td>\n",
       "      <td>...</td>\n",
       "      <td>...</td>\n",
       "      <td>...</td>\n",
       "      <td>...</td>\n",
       "      <td>...</td>\n",
       "      <td>...</td>\n",
       "    </tr>\n",
       "    <tr>\n",
       "      <th>562</th>\n",
       "      <td>Ţahţā</td>\n",
       "      <td>EG</td>\n",
       "      <td>26.7693</td>\n",
       "      <td>31.5021</td>\n",
       "      <td>0</td>\n",
       "      <td>1619747466</td>\n",
       "      <td>16</td>\n",
       "      <td>295.15</td>\n",
       "      <td>3.09</td>\n",
       "    </tr>\n",
       "    <tr>\n",
       "      <th>564</th>\n",
       "      <td>Goderich</td>\n",
       "      <td>CA</td>\n",
       "      <td>43.7501</td>\n",
       "      <td>-81.7165</td>\n",
       "      <td>100</td>\n",
       "      <td>1619747467</td>\n",
       "      <td>93</td>\n",
       "      <td>278.15</td>\n",
       "      <td>2.06</td>\n",
       "    </tr>\n",
       "    <tr>\n",
       "      <th>565</th>\n",
       "      <td>Straumen</td>\n",
       "      <td>NO</td>\n",
       "      <td>63.8709</td>\n",
       "      <td>11.2999</td>\n",
       "      <td>75</td>\n",
       "      <td>1619747468</td>\n",
       "      <td>86</td>\n",
       "      <td>276.48</td>\n",
       "      <td>2.06</td>\n",
       "    </tr>\n",
       "    <tr>\n",
       "      <th>570</th>\n",
       "      <td>Taksimo</td>\n",
       "      <td>RU</td>\n",
       "      <td>56.3444</td>\n",
       "      <td>114.8794</td>\n",
       "      <td>89</td>\n",
       "      <td>1619747470</td>\n",
       "      <td>64</td>\n",
       "      <td>274.91</td>\n",
       "      <td>1.24</td>\n",
       "    </tr>\n",
       "    <tr>\n",
       "      <th>571</th>\n",
       "      <td>Strugari</td>\n",
       "      <td>RO</td>\n",
       "      <td>46.5333</td>\n",
       "      <td>26.7167</td>\n",
       "      <td>90</td>\n",
       "      <td>1619747471</td>\n",
       "      <td>93</td>\n",
       "      <td>282.59</td>\n",
       "      <td>4.63</td>\n",
       "    </tr>\n",
       "  </tbody>\n",
       "</table>\n",
       "<p>388 rows × 9 columns</p>\n",
       "</div>"
      ],
      "text/plain": [
       "           City Country      Lat       Lng  Cloudiness        Date  Humidity  \\\n",
       "0      Pacifica      US  37.6138 -122.4869          40  1619747194        82   \n",
       "1    Ksino Nero      GR  40.6833   21.6167           3  1619747195        82   \n",
       "2         Tiksi      RU  71.6872  128.8694          78  1619747186        83   \n",
       "3    Butaritari      KI   3.0707  172.7902         100  1619746924        71   \n",
       "6         Oddur      SO   4.1213   43.8894         100  1619747096        87   \n",
       "..          ...     ...      ...       ...         ...         ...       ...   \n",
       "562       Ţahţā      EG  26.7693   31.5021           0  1619747466        16   \n",
       "564    Goderich      CA  43.7501  -81.7165         100  1619747467        93   \n",
       "565    Straumen      NO  63.8709   11.2999          75  1619747468        86   \n",
       "570     Taksimo      RU  56.3444  114.8794          89  1619747470        64   \n",
       "571    Strugari      RO  46.5333   26.7167          90  1619747471        93   \n",
       "\n",
       "     Max Temp  Wind Speed  \n",
       "0      287.04        5.66  \n",
       "1      288.71        2.57  \n",
       "2      273.19        2.26  \n",
       "3      301.97        5.90  \n",
       "6      296.35        3.94  \n",
       "..        ...         ...  \n",
       "562    295.15        3.09  \n",
       "564    278.15        2.06  \n",
       "565    276.48        2.06  \n",
       "570    274.91        1.24  \n",
       "571    282.59        4.63  \n",
       "\n",
       "[388 rows x 9 columns]"
      ]
     },
     "execution_count": 30,
     "metadata": {},
     "output_type": "execute_result"
    }
   ],
   "source": [
    "#northem hemisphere is define by lat >=0\n",
    "#create df for northemhemisfere\n",
    "North_df = clean_city_data.loc[(clean_city_data['Lat']>=0)]\n",
    "North_df"
   ]
  },
  {
   "cell_type": "code",
   "execution_count": 31,
   "metadata": {},
   "outputs": [
    {
     "data": {
      "text/html": [
       "<div>\n",
       "<style scoped>\n",
       "    .dataframe tbody tr th:only-of-type {\n",
       "        vertical-align: middle;\n",
       "    }\n",
       "\n",
       "    .dataframe tbody tr th {\n",
       "        vertical-align: top;\n",
       "    }\n",
       "\n",
       "    .dataframe thead th {\n",
       "        text-align: right;\n",
       "    }\n",
       "</style>\n",
       "<table border=\"1\" class=\"dataframe\">\n",
       "  <thead>\n",
       "    <tr style=\"text-align: right;\">\n",
       "      <th></th>\n",
       "      <th>City</th>\n",
       "      <th>Country</th>\n",
       "      <th>Lat</th>\n",
       "      <th>Lng</th>\n",
       "      <th>Cloudiness</th>\n",
       "      <th>Date</th>\n",
       "      <th>Humidity</th>\n",
       "      <th>Max Temp</th>\n",
       "      <th>Wind Speed</th>\n",
       "    </tr>\n",
       "  </thead>\n",
       "  <tbody>\n",
       "    <tr>\n",
       "      <th>4</th>\n",
       "      <td>Ushuaia</td>\n",
       "      <td>AR</td>\n",
       "      <td>-54.8000</td>\n",
       "      <td>-68.3000</td>\n",
       "      <td>75</td>\n",
       "      <td>1619747196</td>\n",
       "      <td>70</td>\n",
       "      <td>277.15</td>\n",
       "      <td>1.55</td>\n",
       "    </tr>\n",
       "    <tr>\n",
       "      <th>5</th>\n",
       "      <td>Pisco</td>\n",
       "      <td>PE</td>\n",
       "      <td>-13.7000</td>\n",
       "      <td>-76.2167</td>\n",
       "      <td>0</td>\n",
       "      <td>1619747008</td>\n",
       "      <td>88</td>\n",
       "      <td>292.15</td>\n",
       "      <td>3.60</td>\n",
       "    </tr>\n",
       "    <tr>\n",
       "      <th>7</th>\n",
       "      <td>Micheweni</td>\n",
       "      <td>TZ</td>\n",
       "      <td>-4.9667</td>\n",
       "      <td>39.8333</td>\n",
       "      <td>100</td>\n",
       "      <td>1619747197</td>\n",
       "      <td>87</td>\n",
       "      <td>298.41</td>\n",
       "      <td>3.70</td>\n",
       "    </tr>\n",
       "    <tr>\n",
       "      <th>14</th>\n",
       "      <td>Rikitea</td>\n",
       "      <td>PF</td>\n",
       "      <td>-23.1203</td>\n",
       "      <td>-134.9692</td>\n",
       "      <td>87</td>\n",
       "      <td>1619747022</td>\n",
       "      <td>66</td>\n",
       "      <td>298.03</td>\n",
       "      <td>5.67</td>\n",
       "    </tr>\n",
       "    <tr>\n",
       "      <th>15</th>\n",
       "      <td>Vaini</td>\n",
       "      <td>TO</td>\n",
       "      <td>-21.2000</td>\n",
       "      <td>-175.2000</td>\n",
       "      <td>75</td>\n",
       "      <td>1619747042</td>\n",
       "      <td>100</td>\n",
       "      <td>297.15</td>\n",
       "      <td>5.14</td>\n",
       "    </tr>\n",
       "    <tr>\n",
       "      <th>...</th>\n",
       "      <td>...</td>\n",
       "      <td>...</td>\n",
       "      <td>...</td>\n",
       "      <td>...</td>\n",
       "      <td>...</td>\n",
       "      <td>...</td>\n",
       "      <td>...</td>\n",
       "      <td>...</td>\n",
       "      <td>...</td>\n",
       "    </tr>\n",
       "    <tr>\n",
       "      <th>566</th>\n",
       "      <td>Mâncio Lima</td>\n",
       "      <td>BR</td>\n",
       "      <td>-7.6142</td>\n",
       "      <td>-72.8958</td>\n",
       "      <td>19</td>\n",
       "      <td>1619747468</td>\n",
       "      <td>88</td>\n",
       "      <td>294.82</td>\n",
       "      <td>0.66</td>\n",
       "    </tr>\n",
       "    <tr>\n",
       "      <th>567</th>\n",
       "      <td>Viedma</td>\n",
       "      <td>AR</td>\n",
       "      <td>-40.8135</td>\n",
       "      <td>-62.9967</td>\n",
       "      <td>100</td>\n",
       "      <td>1619747469</td>\n",
       "      <td>53</td>\n",
       "      <td>292.89</td>\n",
       "      <td>8.21</td>\n",
       "    </tr>\n",
       "    <tr>\n",
       "      <th>568</th>\n",
       "      <td>Rakaia</td>\n",
       "      <td>NZ</td>\n",
       "      <td>-43.7500</td>\n",
       "      <td>172.0167</td>\n",
       "      <td>100</td>\n",
       "      <td>1619747469</td>\n",
       "      <td>28</td>\n",
       "      <td>287.59</td>\n",
       "      <td>10.28</td>\n",
       "    </tr>\n",
       "    <tr>\n",
       "      <th>569</th>\n",
       "      <td>Conceição da Barra</td>\n",
       "      <td>BR</td>\n",
       "      <td>-18.5933</td>\n",
       "      <td>-39.7322</td>\n",
       "      <td>95</td>\n",
       "      <td>1619747470</td>\n",
       "      <td>80</td>\n",
       "      <td>295.39</td>\n",
       "      <td>3.04</td>\n",
       "    </tr>\n",
       "    <tr>\n",
       "      <th>572</th>\n",
       "      <td>Port Hedland</td>\n",
       "      <td>AU</td>\n",
       "      <td>-20.3167</td>\n",
       "      <td>118.5667</td>\n",
       "      <td>0</td>\n",
       "      <td>1619747471</td>\n",
       "      <td>20</td>\n",
       "      <td>307.15</td>\n",
       "      <td>2.57</td>\n",
       "    </tr>\n",
       "  </tbody>\n",
       "</table>\n",
       "<p>185 rows × 9 columns</p>\n",
       "</div>"
      ],
      "text/plain": [
       "                   City Country      Lat       Lng  Cloudiness        Date  \\\n",
       "4               Ushuaia      AR -54.8000  -68.3000          75  1619747196   \n",
       "5                 Pisco      PE -13.7000  -76.2167           0  1619747008   \n",
       "7             Micheweni      TZ  -4.9667   39.8333         100  1619747197   \n",
       "14              Rikitea      PF -23.1203 -134.9692          87  1619747022   \n",
       "15                Vaini      TO -21.2000 -175.2000          75  1619747042   \n",
       "..                  ...     ...      ...       ...         ...         ...   \n",
       "566         Mâncio Lima      BR  -7.6142  -72.8958          19  1619747468   \n",
       "567              Viedma      AR -40.8135  -62.9967         100  1619747469   \n",
       "568              Rakaia      NZ -43.7500  172.0167         100  1619747469   \n",
       "569  Conceição da Barra      BR -18.5933  -39.7322          95  1619747470   \n",
       "572        Port Hedland      AU -20.3167  118.5667           0  1619747471   \n",
       "\n",
       "     Humidity  Max Temp  Wind Speed  \n",
       "4          70    277.15        1.55  \n",
       "5          88    292.15        3.60  \n",
       "7          87    298.41        3.70  \n",
       "14         66    298.03        5.67  \n",
       "15        100    297.15        5.14  \n",
       "..        ...       ...         ...  \n",
       "566        88    294.82        0.66  \n",
       "567        53    292.89        8.21  \n",
       "568        28    287.59       10.28  \n",
       "569        80    295.39        3.04  \n",
       "572        20    307.15        2.57  \n",
       "\n",
       "[185 rows x 9 columns]"
      ]
     },
     "execution_count": 31,
     "metadata": {},
     "output_type": "execute_result"
    }
   ],
   "source": [
    "South_df = clean_city_data.loc[(clean_city_data['Lat']<0)]\n",
    "South_df"
   ]
  },
  {
   "cell_type": "code",
   "execution_count": 32,
   "metadata": {},
   "outputs": [],
   "source": [
    "#create variables for axis\n",
    "x_N=North_df['Lat']\n",
    "y_N=North_df['Max Temp']"
   ]
  },
  {
   "cell_type": "code",
   "execution_count": 34,
   "metadata": {},
   "outputs": [
    {
     "name": "stdout",
     "output_type": "stream",
     "text": [
      "linear regression equation: y = -0.5x + 307.31\n",
      "r^2= -0.8963815552271417\n"
     ]
    },
    {
     "data": {
      "image/png": "[encoded data removed]",
      "text/plain": [
       "<Figure size 432x288 with 1 Axes>"
      ]
     },
     "metadata": {
      "needs_background": "light"
     },
     "output_type": "display_data"
    }
   ],
   "source": [
    "#create linear regresion funtion\n",
    "x_val = pd.to_numeric(x_N).astype(float)\n",
    "y_val = pd.to_numeric(y_N).astype(float)\n",
    "(slope, intercept, rvalue, pvalue, stderr) = linregress(x_val, y_val)\n",
    "regress_values = x_val * slope + intercept\n",
    "line_eq = \"y = \" + str(round(slope,2)) + \"x + \" + str(round(intercept,2))\n",
    "print(f\"linear regression equation: {line_eq}\")\n",
    "plt.scatter(x_val,y_val)\n",
    "plt.plot(x_val,regress_values,\"r-\")\n",
    "plt.annotate(line_eq,(40,270),fontsize=15,color=\"red\")\n",
    "plt.xlabel('Latitude')\n",
    "plt.ylabel('Max Temperature (F)')\n",
    "plt.title('Northern Hemisphere - Max Temp vs. Latitude Linear Regression')\n",
    "print(f\"r^2= {rvalue}\")\n",
    "plt.show()  \n",
    "\n",
    " \n"
   ]
  },
  {
   "cell_type": "markdown",
   "metadata": {},
   "source": [
    "####  Southern Hemisphere - Max Temp vs. Latitude Linear Regression"
   ]
  },
  {
   "cell_type": "code",
   "execution_count": 35,
   "metadata": {},
   "outputs": [],
   "source": [
    "#create variables for axis\n",
    "x_S=South_df['Lat']\n",
    "y_S=South_df['Max Temp']"
   ]
  },
  {
   "cell_type": "code",
   "execution_count": 36,
   "metadata": {},
   "outputs": [
    {
     "name": "stdout",
     "output_type": "stream",
     "text": [
      "linear regression equation: y = 0.3x + 300.01\n",
      "r^2= 0.6883448121763373\n"
     ]
    },
    {
     "data": {
      "image/png": "[encoded data removed]",
      "text/plain": [
       "<Figure size 432x288 with 1 Axes>"
      ]
     },
     "metadata": {
      "needs_background": "light"
     },
     "output_type": "display_data"
    }
   ],
   "source": [
    "#create linear regresion funtion\n",
    "x_val = pd.to_numeric(x_S).astype(float)\n",
    "y_val = pd.to_numeric(y_S).astype(float)\n",
    "(slope, intercept, rvalue, pvalue, stderr) = linregress(x_val, y_val)\n",
    "regress_values = x_val * slope + intercept\n",
    "line_eq = \"y = \" + str(round(slope,2)) + \"x + \" + str(round(intercept,2))\n",
    "print(f\"linear regression equation: {line_eq}\")\n",
    "plt.scatter(x_val,y_val)\n",
    "plt.plot(x_val,regress_values,\"r-\")\n",
    "plt.annotate(line_eq,(-30,278),fontsize=15,color=\"red\")\n",
    "plt.xlabel('Latitude')\n",
    "plt.ylabel('Max Temperature (F)')\n",
    "plt.title('Souther Hemisphere - Max Temp vs. Latitude Linear Regression')\n",
    "print(f\"r^2= {rvalue}\")\n",
    "plt.show()  \n",
    "\n",
    " "
   ]
  },
  {
   "cell_type": "markdown",
   "metadata": {},
   "source": [
    "####  Northern Hemisphere - Humidity (%) vs. Latitude Linear Regression"
   ]
  },
  {
   "cell_type": "code",
   "execution_count": 37,
   "metadata": {},
   "outputs": [],
   "source": [
    "#create variables for axis\n",
    "x_NH=North_df['Lat']\n",
    "y_NH=North_df['Humidity']"
   ]
  },
  {
   "cell_type": "code",
   "execution_count": 38,
   "metadata": {},
   "outputs": [
    {
     "name": "stdout",
     "output_type": "stream",
     "text": [
      "linear regression equation: y = 0.21x + 59.48\n",
      "r^2= 0.17943224933027513\n"
     ]
    },
    {
     "data": {
      "image/png": "[encoded data removed]",
      "text/plain": [
       "<Figure size 432x288 with 1 Axes>"
      ]
     },
     "metadata": {
      "needs_background": "light"
     },
     "output_type": "display_data"
    }
   ],
   "source": [
    "#create linear regresion funtion\n",
    "x_val = pd.to_numeric(x_NH).astype(float)\n",
    "y_val = pd.to_numeric(y_NH).astype(float)\n",
    "(slope, intercept, rvalue, pvalue, stderr) = linregress(x_val, y_val)\n",
    "regress_values = x_val * slope + intercept\n",
    "line_eq = \"y = \" + str(round(slope,2)) + \"x + \" + str(round(intercept,2))\n",
    "print(f\"linear regression equation: {line_eq}\")\n",
    "plt.scatter(x_val,y_val)\n",
    "plt.plot(x_val,regress_values,\"r-\")\n",
    "plt.annotate(line_eq,(40,10),fontsize=15,color=\"red\")\n",
    "plt.xlabel('Latitude')\n",
    "plt.ylabel(' Humidity (%)')\n",
    "plt.title('Northern Hemisphere - Humidity (%) vs. Latitude Linear Regression')\n",
    "print(f\"r^2= {rvalue}\")\n",
    "plt.show()  "
   ]
  },
  {
   "cell_type": "markdown",
   "metadata": {},
   "source": [
    "####  Southern Hemisphere - Humidity (%) vs. Latitude Linear Regression"
   ]
  },
  {
   "cell_type": "code",
   "execution_count": 39,
   "metadata": {},
   "outputs": [],
   "source": [
    "#create variables for axis\n",
    "x_SH=South_df['Lat']\n",
    "y_SH=South_df['Humidity']"
   ]
  },
  {
   "cell_type": "code",
   "execution_count": 41,
   "metadata": {},
   "outputs": [
    {
     "name": "stdout",
     "output_type": "stream",
     "text": [
      "linear regression equation: y = 0.27x + 82.22\n",
      "r^2= 0.21305750330686676\n"
     ]
    },
    {
     "data": {
      "image/png": "[encoded data removed]",
      "text/plain": [
       "<Figure size 432x288 with 1 Axes>"
      ]
     },
     "metadata": {
      "needs_background": "light"
     },
     "output_type": "display_data"
    }
   ],
   "source": [
    "#create linear regresion funtion\n",
    "x_val = pd.to_numeric(x_SH).astype(float)\n",
    "y_val = pd.to_numeric(y_SH).astype(float)\n",
    "(slope, intercept, rvalue, pvalue, stderr) = linregress(x_val, y_val)\n",
    "regress_values = x_val * slope + intercept\n",
    "line_eq = \"y = \" + str(round(slope,2)) + \"x + \" + str(round(intercept,2))\n",
    "print(f\"linear regression equation: {line_eq}\")\n",
    "plt.scatter(x_val,y_val)\n",
    "plt.plot(x_val,regress_values,\"r-\")\n",
    "plt.annotate(line_eq,(-30,40),fontsize=15,color=\"red\")\n",
    "plt.xlabel('Latitude')\n",
    "plt.ylabel(' Humidity (%)')\n",
    "plt.title('Southern Hemisphere - Humidity (%) vs. Latitude Linear Regression')\n",
    "print(f\"r^2= {rvalue}\")\n",
    "plt.show()  "
   ]
  },
  {
   "cell_type": "markdown",
   "metadata": {},
   "source": [
    "####  Northern Hemisphere - Cloudiness (%) vs. Latitude Linear Regression"
   ]
  },
  {
   "cell_type": "code",
   "execution_count": 42,
   "metadata": {},
   "outputs": [],
   "source": [
    "#create variables for axis\n",
    "x_NC=North_df['Lat']\n",
    "y_NC=North_df['Cloudiness']"
   ]
  },
  {
   "cell_type": "code",
   "execution_count": 43,
   "metadata": {},
   "outputs": [
    {
     "name": "stdout",
     "output_type": "stream",
     "text": [
      "linear regression equation: y = 0.28x + 45.77\n",
      "r^2= 0.1432796915161685\n"
     ]
    },
    {
     "data": {
      "image/png": "[encoded data removed]",
      "text/plain": [
       "<Figure size 432x288 with 1 Axes>"
      ]
     },
     "metadata": {
      "needs_background": "light"
     },
     "output_type": "display_data"
    }
   ],
   "source": [
    "#create linear regresion funtion\n",
    "x_val = pd.to_numeric(x_NC).astype(float)\n",
    "y_val = pd.to_numeric(y_NC).astype(float)\n",
    "(slope, intercept, rvalue, pvalue, stderr) = linregress(x_val, y_val)\n",
    "regress_values = x_val * slope + intercept\n",
    "line_eq = \"y = \" + str(round(slope,2)) + \"x + \" + str(round(intercept,2))\n",
    "print(f\"linear regression equation: {line_eq}\")\n",
    "plt.scatter(x_val,y_val)\n",
    "plt.plot(x_val,regress_values,\"r-\")\n",
    "plt.annotate(line_eq,(6,10),fontsize=15,color=\"red\")\n",
    "plt.xlabel('Latitude')\n",
    "plt.ylabel('Cloudiness (%)')\n",
    "plt.title('Northern Hemisphere - Cloudiness (%) vs. Latitude Linear Regression')\n",
    "print(f\"r^2= {rvalue}\")\n",
    "plt.show()  "
   ]
  },
  {
   "cell_type": "markdown",
   "metadata": {},
   "source": [
    "####  Southern Hemisphere - Cloudiness (%) vs. Latitude Linear Regression"
   ]
  },
  {
   "cell_type": "code",
   "execution_count": 44,
   "metadata": {},
   "outputs": [],
   "source": [
    "#create variables for axis\n",
    "x_SC=South_df['Lat']\n",
    "y_SC=South_df['Cloudiness']"
   ]
  },
  {
   "cell_type": "code",
   "execution_count": 45,
   "metadata": {},
   "outputs": [
    {
     "name": "stdout",
     "output_type": "stream",
     "text": [
      "linear regression equation: y = 0.71x + 62.54\n",
      "r^2= 0.24667832515339788\n"
     ]
    },
    {
     "data": {
      "image/png": "[encoded data removed]",
      "text/plain": [
       "<Figure size 432x288 with 1 Axes>"
      ]
     },
     "metadata": {
      "needs_background": "light"
     },
     "output_type": "display_data"
    }
   ],
   "source": [
    "#create linear regresion funtion\n",
    "x_val = pd.to_numeric(x_SC).astype(float)\n",
    "y_val = pd.to_numeric(y_SC).astype(float)\n",
    "(slope, intercept, rvalue, pvalue, stderr) = linregress(x_val, y_val)\n",
    "regress_values = x_val * slope + intercept\n",
    "line_eq = \"y = \" + str(round(slope,2)) + \"x + \" + str(round(intercept,2))\n",
    "print(f\"linear regression equation: {line_eq}\")\n",
    "plt.scatter(x_val,y_val)\n",
    "plt.plot(x_val,regress_values,\"r-\")\n",
    "plt.annotate(line_eq,(-50,18),fontsize=15,color=\"red\")\n",
    "plt.xlabel('Latitude')\n",
    "plt.ylabel('Cloudiness (%)')\n",
    "plt.title('Northern Hemisphere - Cloudiness (%) vs. Latitude Linear Regression')\n",
    "print(f\"r^2= {rvalue}\")\n",
    "plt.show()  "
   ]
  },
  {
   "cell_type": "markdown",
   "metadata": {},
   "source": [
    "####  Northern Hemisphere - Wind Speed (mph) vs. Latitude Linear Regression"
   ]
  },
  {
   "cell_type": "code",
   "execution_count": 46,
   "metadata": {},
   "outputs": [],
   "source": [
    "#create variables for axis\n",
    "x_NW=North_df['Lat']\n",
    "y_NW=North_df['Wind Speed']"
   ]
  },
  {
   "cell_type": "code",
   "execution_count": 47,
   "metadata": {},
   "outputs": [
    {
     "name": "stdout",
     "output_type": "stream",
     "text": [
      "linear regression equation: y = 0.02x + 2.42\n",
      "r^2= 0.17170824276237034\n"
     ]
    },
    {
     "data": {
      "image/png": "[encoded data removed]",
      "text/plain": [
       "<Figure size 432x288 with 1 Axes>"
      ]
     },
     "metadata": {
      "needs_background": "light"
     },
     "output_type": "display_data"
    }
   ],
   "source": [
    "#create linear regresion funtion\n",
    "x_val = pd.to_numeric(x_NW).astype(float)\n",
    "y_val = pd.to_numeric(y_NW).astype(float)\n",
    "(slope, intercept, rvalue, pvalue, stderr) = linregress(x_val, y_val)\n",
    "regress_values = x_val * slope + intercept\n",
    "line_eq = \"y = \" + str(round(slope,2)) + \"x + \" + str(round(intercept,2))\n",
    "print(f\"linear regression equation: {line_eq}\")\n",
    "plt.scatter(x_val,y_val)\n",
    "plt.plot(x_val,regress_values,\"r-\")\n",
    "plt.annotate(line_eq,(30,12),fontsize=15,color=\"red\")\n",
    "plt.xlabel('Latitude')\n",
    "plt.ylabel('Wind Speed (mph)')\n",
    "plt.title('Northern Hemisphere - Wind Speed (mph) vs. Latitude Linear Regression')\n",
    "print(f\"r^2= {rvalue}\")\n",
    "plt.show()  "
   ]
  },
  {
   "cell_type": "markdown",
   "metadata": {},
   "source": [
    "####  Southern Hemisphere - Wind Speed (mph) vs. Latitude Linear Regression"
   ]
  },
  {
   "cell_type": "code",
   "execution_count": 48,
   "metadata": {},
   "outputs": [],
   "source": [
    "#create variables for axis\n",
    "x_SW=South_df['Lat']\n",
    "y_SW=South_df['Wind Speed']"
   ]
  },
  {
   "cell_type": "code",
   "execution_count": 49,
   "metadata": {},
   "outputs": [
    {
     "name": "stdout",
     "output_type": "stream",
     "text": [
      "linear regression equation: y = -0.05x + 1.96\n",
      "r^2= -0.3431890705600971\n"
     ]
    },
    {
     "data": {
      "image/png": "[encoded data removed]",
      "text/plain": [
       "<Figure size 432x288 with 1 Axes>"
      ]
     },
     "metadata": {
      "needs_background": "light"
     },
     "output_type": "display_data"
    }
   ],
   "source": [
    "#create linear regresion funtion\n",
    "x_val = pd.to_numeric(x_SW).astype(float)\n",
    "y_val = pd.to_numeric(y_SW).astype(float)\n",
    "(slope, intercept, rvalue, pvalue, stderr) = linregress(x_val, y_val)\n",
    "regress_values = x_val * slope + intercept\n",
    "line_eq = \"y = \" + str(round(slope,2)) + \"x + \" + str(round(intercept,2))\n",
    "print(f\"linear regression equation: {line_eq}\")\n",
    "plt.scatter(x_val,y_val)\n",
    "plt.plot(x_val,regress_values,\"r-\")\n",
    "plt.annotate(line_eq,(-30,7),fontsize=15,color=\"red\")\n",
    "plt.xlabel('Latitude')\n",
    "plt.ylabel('Wind Speed (mph)')\n",
    "plt.title('Southern Hemisphere - Wind Speed (mph) vs. Latitude Linear Regression')\n",
    "print(f\"r^2= {rvalue}\")\n",
    "plt.show()"
   ]
  },
  {
   "cell_type": "markdown",
   "metadata": {},
   "source": [
    "# Three observable trends based on the data."
   ]
  },
  {
   "cell_type": "code",
   "execution_count": null,
   "metadata": {},
   "outputs": [],
   "source": []
  }
 ],
 "metadata": {
  "anaconda-cloud": {},
  "kernel_info": {
   "name": "python3"
  },
  "kernelspec": {
   "display_name": "Python 3",
   "language": "python",
   "name": "python3"
  },
  "language_info": {
   "codemirror_mode": {
    "name": "ipython",
    "version": 3
   },
   "file_extension": ".py",
   "mimetype": "text/x-python",
   "name": "python",
   "nbconvert_exporter": "python",
   "pygments_lexer": "ipython3",
   "version": "3.8.5"
  },
  "latex_envs": {
   "LaTeX_envs_menu_present": true,
   "autoclose": false,
   "autocomplete": true,
   "bibliofile": "biblio.bib",
   "cite_by": "apalike",
   "current_citInitial": 1,
   "eqLabelWithNumbers": true,
   "eqNumInitial": 1,
   "hotkeys": {
    "equation": "Ctrl-E",
    "itemize": "Ctrl-I"
   },
   "labels_anchors": false,
   "latex_user_defs": false,
   "report_style_numbering": false,
   "user_envs_cfg": false
  },
  "nteract": {
   "version": "0.12.3"
  }
 },
 "nbformat": 4,
 "nbformat_minor": 2
}
