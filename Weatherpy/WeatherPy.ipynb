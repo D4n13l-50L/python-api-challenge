{
 "cells": [
  {
   "cell_type": "markdown",
   "metadata": {},
   "source": [
    "# WeatherPy\n",
    "----\n",
    "\n",
    "#### Note\n",
    "* Instructions have been included for each segment. You do not have to follow them exactly, but they are included to help you think through the steps."
   ]
  },
  {
   "cell_type": "markdown",
   "metadata": {},
   "source": [
    "![title](equatorsign.png)"
   ]
  },
  {
   "cell_type": "code",
   "execution_count": 51,
   "metadata": {
    "scrolled": true
   },
   "outputs": [],
   "source": [
    "# Dependencies and Setup\n",
    "import matplotlib.pyplot as plt\n",
    "import pandas as pd\n",
    "import numpy as np\n",
    "import requests\n",
    "import time\n",
    "from scipy.stats import linregress\n",
    "import scipy.stats as st\n",
    "\n",
    "# Import API key\n",
    "from api_keys import weather_api_key\n",
    "import citipy\n",
    "# Incorporated citipy to determine city based on latitude and longitude\n",
    "from citipy import citipy\n",
    "\n",
    "# Output File (CSV)\n",
    "output_data_file = \"output_data/cities.csv\"\n",
    "\n",
    "# Range of latitudes and longitudes\n",
    "lat_range = (-90, 90)\n",
    "lng_range = (-180, 180)"
   ]
  },
  {
   "cell_type": "markdown",
   "metadata": {},
   "source": [
    "## Generate Cities List"
   ]
  },
  {
   "cell_type": "code",
   "execution_count": 2,
   "metadata": {},
   "outputs": [
    {
     "data": {
      "text/html": [
       "<div>\n",
       "<style scoped>\n",
       "    .dataframe tbody tr th:only-of-type {\n",
       "        vertical-align: middle;\n",
       "    }\n",
       "\n",
       "    .dataframe tbody tr th {\n",
       "        vertical-align: top;\n",
       "    }\n",
       "\n",
       "    .dataframe thead th {\n",
       "        text-align: right;\n",
       "    }\n",
       "</style>\n",
       "<table border=\"1\" class=\"dataframe\">\n",
       "  <thead>\n",
       "    <tr style=\"text-align: right;\">\n",
       "      <th></th>\n",
       "      <th>City</th>\n",
       "      <th>Lat</th>\n",
       "      <th>Long</th>\n",
       "    </tr>\n",
       "  </thead>\n",
       "  <tbody>\n",
       "    <tr>\n",
       "      <th>0</th>\n",
       "      <td>ust-nera</td>\n",
       "      <td>63.793287</td>\n",
       "      <td>142.072575</td>\n",
       "    </tr>\n",
       "    <tr>\n",
       "      <th>1</th>\n",
       "      <td>mataura</td>\n",
       "      <td>-42.700298</td>\n",
       "      <td>-155.278102</td>\n",
       "    </tr>\n",
       "    <tr>\n",
       "      <th>2</th>\n",
       "      <td>tarbes</td>\n",
       "      <td>43.739365</td>\n",
       "      <td>0.074489</td>\n",
       "    </tr>\n",
       "    <tr>\n",
       "      <th>3</th>\n",
       "      <td>rikitea</td>\n",
       "      <td>-81.597454</td>\n",
       "      <td>-132.164330</td>\n",
       "    </tr>\n",
       "    <tr>\n",
       "      <th>4</th>\n",
       "      <td>mount gambier</td>\n",
       "      <td>-43.000059</td>\n",
       "      <td>137.773295</td>\n",
       "    </tr>\n",
       "  </tbody>\n",
       "</table>\n",
       "</div>"
      ],
      "text/plain": [
       "            City        Lat        Long\n",
       "0       ust-nera  63.793287  142.072575\n",
       "1        mataura -42.700298 -155.278102\n",
       "2         tarbes  43.739365    0.074489\n",
       "3        rikitea -81.597454 -132.164330\n",
       "4  mount gambier -43.000059  137.773295"
      ]
     },
     "execution_count": 2,
     "metadata": {},
     "output_type": "execute_result"
    }
   ],
   "source": [
    "# List for holding lat_lngs and cities\n",
    "lat_lngs = []\n",
    "cities = []\n",
    "\n",
    "# Create a set of random lat and lng combinations\n",
    "lats = np.random.uniform(lat_range[0], lat_range[1], size=1500)\n",
    "lngs = np.random.uniform(lng_range[0], lng_range[1], size=1500)\n",
    "lat_lngs = zip(lats, lngs)\n",
    "#save lats & lngs\n",
    "lats_Saved_list= []\n",
    "long_Saved_list = []\n",
    "\n",
    "# Identify nearest city for each lat, lng combination\n",
    "for lat_lng in lat_lngs:\n",
    "    city = citipy.nearest_city(lat_lng[0], lat_lng[1]).city_name\n",
    "    \n",
    "    # If the city is unique, then add it to a our cities list\n",
    "    if city not in cities:\n",
    "        cities.append(city)\n",
    "        lats_Saved_list.append(lat_lng[0])\n",
    "        long_Saved_list.append(lat_lng[1])\n",
    "        \n",
    "\n",
    "#create df\n",
    "list_df = pd.DataFrame({\"City\":cities, \"Lat\":lats_Saved_list,\"Long\":long_Saved_list})\n",
    "list_df.to_csv(\"ListofCities,csv\")\n",
    "list_df.head()"
   ]
  },
  {
   "cell_type": "code",
   "execution_count": 3,
   "metadata": {},
   "outputs": [
    {
     "data": {
      "text/plain": [
       "614"
      ]
     },
     "execution_count": 3,
     "metadata": {},
     "output_type": "execute_result"
    }
   ],
   "source": [
    "# Print the city count to confirm sufficient count\n",
    "len(list_df)"
   ]
  },
  {
   "cell_type": "markdown",
   "metadata": {},
   "source": [
    "### Perform API Calls\n",
    "* Perform a weather check on each city using a series of successive API calls.\n",
    "* Include a print log of each city as it'sbeing processed (with the city number and city name).\n"
   ]
  },
  {
   "cell_type": "code",
   "execution_count": 4,
   "metadata": {
    "scrolled": true
   },
   "outputs": [
    {
     "name": "stdout",
     "output_type": "stream",
     "text": [
      "http://api.openweathermap.org/data/2.5/weather?appid=04fd34c2ec5995cfb3c966c74378af1a&unitsmetric&q=\n"
     ]
    }
   ],
   "source": [
    "#define URL\n",
    "url_base = \"http://api.openweathermap.org/data/2.5/weather?\"\n",
    "units =  \"metric\"\n",
    "api_key = weather_api_key\n",
    "\n",
    "#query URL\n",
    "query_url = f\"{url_base}appid={api_key}&units{units}&q=\"\n",
    "print(query_url)"
   ]
  },
  {
   "cell_type": "code",
   "execution_count": 5,
   "metadata": {},
   "outputs": [
    {
     "name": "stdout",
     "output_type": "stream",
     "text": [
      "http://api.openweathermap.org/data/2.5/weather?appid=04fd34c2ec5995cfb3c966c74378af1a&unitsmetric&q=ust-nera\n",
      "http://api.openweathermap.org/data/2.5/weather?appid=04fd34c2ec5995cfb3c966c74378af1a&unitsmetric&q=mataura\n",
      "http://api.openweathermap.org/data/2.5/weather?appid=04fd34c2ec5995cfb3c966c74378af1a&unitsmetric&q=tarbes\n",
      "http://api.openweathermap.org/data/2.5/weather?appid=04fd34c2ec5995cfb3c966c74378af1a&unitsmetric&q=rikitea\n",
      "http://api.openweathermap.org/data/2.5/weather?appid=04fd34c2ec5995cfb3c966c74378af1a&unitsmetric&q=mount gambier\n",
      "http://api.openweathermap.org/data/2.5/weather?appid=04fd34c2ec5995cfb3c966c74378af1a&unitsmetric&q=pemangkat\n",
      "http://api.openweathermap.org/data/2.5/weather?appid=04fd34c2ec5995cfb3c966c74378af1a&unitsmetric&q=georgetown\n",
      "http://api.openweathermap.org/data/2.5/weather?appid=04fd34c2ec5995cfb3c966c74378af1a&unitsmetric&q=mys shmidta\n",
      "#####City not found#####\n",
      "http://api.openweathermap.org/data/2.5/weather?appid=04fd34c2ec5995cfb3c966c74378af1a&unitsmetric&q=kandy\n",
      "http://api.openweathermap.org/data/2.5/weather?appid=04fd34c2ec5995cfb3c966c74378af1a&unitsmetric&q=avarua\n",
      "http://api.openweathermap.org/data/2.5/weather?appid=04fd34c2ec5995cfb3c966c74378af1a&unitsmetric&q=hobart\n",
      "http://api.openweathermap.org/data/2.5/weather?appid=04fd34c2ec5995cfb3c966c74378af1a&unitsmetric&q=jamestown\n",
      "http://api.openweathermap.org/data/2.5/weather?appid=04fd34c2ec5995cfb3c966c74378af1a&unitsmetric&q=druzhba\n",
      "http://api.openweathermap.org/data/2.5/weather?appid=04fd34c2ec5995cfb3c966c74378af1a&unitsmetric&q=hilo\n",
      "http://api.openweathermap.org/data/2.5/weather?appid=04fd34c2ec5995cfb3c966c74378af1a&unitsmetric&q=kruisfontein\n",
      "http://api.openweathermap.org/data/2.5/weather?appid=04fd34c2ec5995cfb3c966c74378af1a&unitsmetric&q=khatanga\n",
      "http://api.openweathermap.org/data/2.5/weather?appid=04fd34c2ec5995cfb3c966c74378af1a&unitsmetric&q=taolanaro\n",
      "#####City not found#####\n",
      "http://api.openweathermap.org/data/2.5/weather?appid=04fd34c2ec5995cfb3c966c74378af1a&unitsmetric&q=qaanaaq\n",
      "http://api.openweathermap.org/data/2.5/weather?appid=04fd34c2ec5995cfb3c966c74378af1a&unitsmetric&q=chuy\n",
      "http://api.openweathermap.org/data/2.5/weather?appid=04fd34c2ec5995cfb3c966c74378af1a&unitsmetric&q=simao\n",
      "http://api.openweathermap.org/data/2.5/weather?appid=04fd34c2ec5995cfb3c966c74378af1a&unitsmetric&q=pangnirtung\n",
      "http://api.openweathermap.org/data/2.5/weather?appid=04fd34c2ec5995cfb3c966c74378af1a&unitsmetric&q=port elizabeth\n",
      "http://api.openweathermap.org/data/2.5/weather?appid=04fd34c2ec5995cfb3c966c74378af1a&unitsmetric&q=port alfred\n",
      "http://api.openweathermap.org/data/2.5/weather?appid=04fd34c2ec5995cfb3c966c74378af1a&unitsmetric&q=tasiilaq\n",
      "http://api.openweathermap.org/data/2.5/weather?appid=04fd34c2ec5995cfb3c966c74378af1a&unitsmetric&q=new norfolk\n",
      "http://api.openweathermap.org/data/2.5/weather?appid=04fd34c2ec5995cfb3c966c74378af1a&unitsmetric&q=bredasdorp\n",
      "http://api.openweathermap.org/data/2.5/weather?appid=04fd34c2ec5995cfb3c966c74378af1a&unitsmetric&q=eyl\n",
      "http://api.openweathermap.org/data/2.5/weather?appid=04fd34c2ec5995cfb3c966c74378af1a&unitsmetric&q=vaitupu\n",
      "#####City not found#####\n",
      "http://api.openweathermap.org/data/2.5/weather?appid=04fd34c2ec5995cfb3c966c74378af1a&unitsmetric&q=bluff\n",
      "http://api.openweathermap.org/data/2.5/weather?appid=04fd34c2ec5995cfb3c966c74378af1a&unitsmetric&q=faya\n",
      "http://api.openweathermap.org/data/2.5/weather?appid=04fd34c2ec5995cfb3c966c74378af1a&unitsmetric&q=meulaboh\n",
      "http://api.openweathermap.org/data/2.5/weather?appid=04fd34c2ec5995cfb3c966c74378af1a&unitsmetric&q=nanortalik\n",
      "http://api.openweathermap.org/data/2.5/weather?appid=04fd34c2ec5995cfb3c966c74378af1a&unitsmetric&q=mahebourg\n",
      "http://api.openweathermap.org/data/2.5/weather?appid=04fd34c2ec5995cfb3c966c74378af1a&unitsmetric&q=zabol\n",
      "http://api.openweathermap.org/data/2.5/weather?appid=04fd34c2ec5995cfb3c966c74378af1a&unitsmetric&q=monrovia\n",
      "http://api.openweathermap.org/data/2.5/weather?appid=04fd34c2ec5995cfb3c966c74378af1a&unitsmetric&q=busselton\n",
      "http://api.openweathermap.org/data/2.5/weather?appid=04fd34c2ec5995cfb3c966c74378af1a&unitsmetric&q=bambous virieux\n",
      "http://api.openweathermap.org/data/2.5/weather?appid=04fd34c2ec5995cfb3c966c74378af1a&unitsmetric&q=punta arenas\n",
      "http://api.openweathermap.org/data/2.5/weather?appid=04fd34c2ec5995cfb3c966c74378af1a&unitsmetric&q=tiksi\n",
      "http://api.openweathermap.org/data/2.5/weather?appid=04fd34c2ec5995cfb3c966c74378af1a&unitsmetric&q=barentsburg\n",
      "#####City not found#####\n",
      "http://api.openweathermap.org/data/2.5/weather?appid=04fd34c2ec5995cfb3c966c74378af1a&unitsmetric&q=sur\n",
      "http://api.openweathermap.org/data/2.5/weather?appid=04fd34c2ec5995cfb3c966c74378af1a&unitsmetric&q=east london\n",
      "http://api.openweathermap.org/data/2.5/weather?appid=04fd34c2ec5995cfb3c966c74378af1a&unitsmetric&q=longyearbyen\n",
      "http://api.openweathermap.org/data/2.5/weather?appid=04fd34c2ec5995cfb3c966c74378af1a&unitsmetric&q=belle fourche\n",
      "http://api.openweathermap.org/data/2.5/weather?appid=04fd34c2ec5995cfb3c966c74378af1a&unitsmetric&q=saint-philippe\n",
      "http://api.openweathermap.org/data/2.5/weather?appid=04fd34c2ec5995cfb3c966c74378af1a&unitsmetric&q=albany\n",
      "http://api.openweathermap.org/data/2.5/weather?appid=04fd34c2ec5995cfb3c966c74378af1a&unitsmetric&q=torbay\n",
      "http://api.openweathermap.org/data/2.5/weather?appid=04fd34c2ec5995cfb3c966c74378af1a&unitsmetric&q=lavrentiya\n",
      "http://api.openweathermap.org/data/2.5/weather?appid=04fd34c2ec5995cfb3c966c74378af1a&unitsmetric&q=hithadhoo\n",
      "http://api.openweathermap.org/data/2.5/weather?appid=04fd34c2ec5995cfb3c966c74378af1a&unitsmetric&q=taoudenni\n",
      "http://api.openweathermap.org/data/2.5/weather?appid=04fd34c2ec5995cfb3c966c74378af1a&unitsmetric&q=saint joseph\n",
      "http://api.openweathermap.org/data/2.5/weather?appid=04fd34c2ec5995cfb3c966c74378af1a&unitsmetric&q=yaqui\n",
      "http://api.openweathermap.org/data/2.5/weather?appid=04fd34c2ec5995cfb3c966c74378af1a&unitsmetric&q=ninghai\n",
      "http://api.openweathermap.org/data/2.5/weather?appid=04fd34c2ec5995cfb3c966c74378af1a&unitsmetric&q=balkhash\n",
      "http://api.openweathermap.org/data/2.5/weather?appid=04fd34c2ec5995cfb3c966c74378af1a&unitsmetric&q=aklavik\n",
      "http://api.openweathermap.org/data/2.5/weather?appid=04fd34c2ec5995cfb3c966c74378af1a&unitsmetric&q=vaini\n",
      "http://api.openweathermap.org/data/2.5/weather?appid=04fd34c2ec5995cfb3c966c74378af1a&unitsmetric&q=escanaba\n",
      "http://api.openweathermap.org/data/2.5/weather?appid=04fd34c2ec5995cfb3c966c74378af1a&unitsmetric&q=severo-kurilsk\n",
      "http://api.openweathermap.org/data/2.5/weather?appid=04fd34c2ec5995cfb3c966c74378af1a&unitsmetric&q=hervey bay\n",
      "http://api.openweathermap.org/data/2.5/weather?appid=04fd34c2ec5995cfb3c966c74378af1a&unitsmetric&q=bathsheba\n",
      "http://api.openweathermap.org/data/2.5/weather?appid=04fd34c2ec5995cfb3c966c74378af1a&unitsmetric&q=tumannyy\n",
      "#####City not found#####\n",
      "http://api.openweathermap.org/data/2.5/weather?appid=04fd34c2ec5995cfb3c966c74378af1a&unitsmetric&q=svetlogorsk\n",
      "http://api.openweathermap.org/data/2.5/weather?appid=04fd34c2ec5995cfb3c966c74378af1a&unitsmetric&q=tevaitoa\n",
      "http://api.openweathermap.org/data/2.5/weather?appid=04fd34c2ec5995cfb3c966c74378af1a&unitsmetric&q=mehamn\n",
      "http://api.openweathermap.org/data/2.5/weather?appid=04fd34c2ec5995cfb3c966c74378af1a&unitsmetric&q=sinkat\n",
      "#####City not found#####\n",
      "http://api.openweathermap.org/data/2.5/weather?appid=04fd34c2ec5995cfb3c966c74378af1a&unitsmetric&q=norman wells\n",
      "http://api.openweathermap.org/data/2.5/weather?appid=04fd34c2ec5995cfb3c966c74378af1a&unitsmetric&q=ushuaia\n",
      "http://api.openweathermap.org/data/2.5/weather?appid=04fd34c2ec5995cfb3c966c74378af1a&unitsmetric&q=flinders\n",
      "http://api.openweathermap.org/data/2.5/weather?appid=04fd34c2ec5995cfb3c966c74378af1a&unitsmetric&q=klaksvik\n",
      "http://api.openweathermap.org/data/2.5/weather?appid=04fd34c2ec5995cfb3c966c74378af1a&unitsmetric&q=omboue\n",
      "http://api.openweathermap.org/data/2.5/weather?appid=04fd34c2ec5995cfb3c966c74378af1a&unitsmetric&q=rio grande\n",
      "http://api.openweathermap.org/data/2.5/weather?appid=04fd34c2ec5995cfb3c966c74378af1a&unitsmetric&q=ipixuna\n",
      "http://api.openweathermap.org/data/2.5/weather?appid=04fd34c2ec5995cfb3c966c74378af1a&unitsmetric&q=richards bay\n",
      "http://api.openweathermap.org/data/2.5/weather?appid=04fd34c2ec5995cfb3c966c74378af1a&unitsmetric&q=belushya guba\n",
      "#####City not found#####\n",
      "http://api.openweathermap.org/data/2.5/weather?appid=04fd34c2ec5995cfb3c966c74378af1a&unitsmetric&q=alyangula\n"
     ]
    },
    {
     "name": "stdout",
     "output_type": "stream",
     "text": [
      "http://api.openweathermap.org/data/2.5/weather?appid=04fd34c2ec5995cfb3c966c74378af1a&unitsmetric&q=camacha\n",
      "http://api.openweathermap.org/data/2.5/weather?appid=04fd34c2ec5995cfb3c966c74378af1a&unitsmetric&q=tupiza\n",
      "http://api.openweathermap.org/data/2.5/weather?appid=04fd34c2ec5995cfb3c966c74378af1a&unitsmetric&q=berlevag\n",
      "http://api.openweathermap.org/data/2.5/weather?appid=04fd34c2ec5995cfb3c966c74378af1a&unitsmetric&q=mar del plata\n",
      "http://api.openweathermap.org/data/2.5/weather?appid=04fd34c2ec5995cfb3c966c74378af1a&unitsmetric&q=atuona\n",
      "http://api.openweathermap.org/data/2.5/weather?appid=04fd34c2ec5995cfb3c966c74378af1a&unitsmetric&q=muravlenko\n",
      "http://api.openweathermap.org/data/2.5/weather?appid=04fd34c2ec5995cfb3c966c74378af1a&unitsmetric&q=grindavik\n",
      "http://api.openweathermap.org/data/2.5/weather?appid=04fd34c2ec5995cfb3c966c74378af1a&unitsmetric&q=cabo san lucas\n",
      "http://api.openweathermap.org/data/2.5/weather?appid=04fd34c2ec5995cfb3c966c74378af1a&unitsmetric&q=tuatapere\n",
      "http://api.openweathermap.org/data/2.5/weather?appid=04fd34c2ec5995cfb3c966c74378af1a&unitsmetric&q=praia da vitoria\n",
      "http://api.openweathermap.org/data/2.5/weather?appid=04fd34c2ec5995cfb3c966c74378af1a&unitsmetric&q=nizhneyansk\n",
      "#####City not found#####\n",
      "http://api.openweathermap.org/data/2.5/weather?appid=04fd34c2ec5995cfb3c966c74378af1a&unitsmetric&q=imeni poliny osipenko\n",
      "http://api.openweathermap.org/data/2.5/weather?appid=04fd34c2ec5995cfb3c966c74378af1a&unitsmetric&q=dublin\n",
      "http://api.openweathermap.org/data/2.5/weather?appid=04fd34c2ec5995cfb3c966c74378af1a&unitsmetric&q=thompson\n",
      "http://api.openweathermap.org/data/2.5/weather?appid=04fd34c2ec5995cfb3c966c74378af1a&unitsmetric&q=illoqqortoormiut\n",
      "#####City not found#####\n",
      "http://api.openweathermap.org/data/2.5/weather?appid=04fd34c2ec5995cfb3c966c74378af1a&unitsmetric&q=bengkulu\n",
      "http://api.openweathermap.org/data/2.5/weather?appid=04fd34c2ec5995cfb3c966c74378af1a&unitsmetric&q=puerto escondido\n",
      "http://api.openweathermap.org/data/2.5/weather?appid=04fd34c2ec5995cfb3c966c74378af1a&unitsmetric&q=butaritari\n",
      "http://api.openweathermap.org/data/2.5/weather?appid=04fd34c2ec5995cfb3c966c74378af1a&unitsmetric&q=chara\n",
      "http://api.openweathermap.org/data/2.5/weather?appid=04fd34c2ec5995cfb3c966c74378af1a&unitsmetric&q=oriximina\n",
      "http://api.openweathermap.org/data/2.5/weather?appid=04fd34c2ec5995cfb3c966c74378af1a&unitsmetric&q=nantucket\n",
      "http://api.openweathermap.org/data/2.5/weather?appid=04fd34c2ec5995cfb3c966c74378af1a&unitsmetric&q=hermanus\n",
      "http://api.openweathermap.org/data/2.5/weather?appid=04fd34c2ec5995cfb3c966c74378af1a&unitsmetric&q=saint-georges\n",
      "http://api.openweathermap.org/data/2.5/weather?appid=04fd34c2ec5995cfb3c966c74378af1a&unitsmetric&q=nebyliv\n",
      "http://api.openweathermap.org/data/2.5/weather?appid=04fd34c2ec5995cfb3c966c74378af1a&unitsmetric&q=puerto ayora\n",
      "http://api.openweathermap.org/data/2.5/weather?appid=04fd34c2ec5995cfb3c966c74378af1a&unitsmetric&q=barrow\n",
      "http://api.openweathermap.org/data/2.5/weather?appid=04fd34c2ec5995cfb3c966c74378af1a&unitsmetric&q=saskylakh\n",
      "http://api.openweathermap.org/data/2.5/weather?appid=04fd34c2ec5995cfb3c966c74378af1a&unitsmetric&q=merauke\n",
      "http://api.openweathermap.org/data/2.5/weather?appid=04fd34c2ec5995cfb3c966c74378af1a&unitsmetric&q=henties bay\n",
      "http://api.openweathermap.org/data/2.5/weather?appid=04fd34c2ec5995cfb3c966c74378af1a&unitsmetric&q=khowst\n",
      "http://api.openweathermap.org/data/2.5/weather?appid=04fd34c2ec5995cfb3c966c74378af1a&unitsmetric&q=opunake\n",
      "http://api.openweathermap.org/data/2.5/weather?appid=04fd34c2ec5995cfb3c966c74378af1a&unitsmetric&q=jiuquan\n",
      "http://api.openweathermap.org/data/2.5/weather?appid=04fd34c2ec5995cfb3c966c74378af1a&unitsmetric&q=shu\n",
      "http://api.openweathermap.org/data/2.5/weather?appid=04fd34c2ec5995cfb3c966c74378af1a&unitsmetric&q=sioux lookout\n",
      "http://api.openweathermap.org/data/2.5/weather?appid=04fd34c2ec5995cfb3c966c74378af1a&unitsmetric&q=moindou\n",
      "http://api.openweathermap.org/data/2.5/weather?appid=04fd34c2ec5995cfb3c966c74378af1a&unitsmetric&q=lyubytino\n",
      "http://api.openweathermap.org/data/2.5/weather?appid=04fd34c2ec5995cfb3c966c74378af1a&unitsmetric&q=esperance\n",
      "http://api.openweathermap.org/data/2.5/weather?appid=04fd34c2ec5995cfb3c966c74378af1a&unitsmetric&q=coquimbo\n",
      "http://api.openweathermap.org/data/2.5/weather?appid=04fd34c2ec5995cfb3c966c74378af1a&unitsmetric&q=muroto\n",
      "http://api.openweathermap.org/data/2.5/weather?appid=04fd34c2ec5995cfb3c966c74378af1a&unitsmetric&q=kodiak\n",
      "http://api.openweathermap.org/data/2.5/weather?appid=04fd34c2ec5995cfb3c966c74378af1a&unitsmetric&q=paredon\n",
      "http://api.openweathermap.org/data/2.5/weather?appid=04fd34c2ec5995cfb3c966c74378af1a&unitsmetric&q=sinnamary\n",
      "http://api.openweathermap.org/data/2.5/weather?appid=04fd34c2ec5995cfb3c966c74378af1a&unitsmetric&q=saint-pierre\n",
      "http://api.openweathermap.org/data/2.5/weather?appid=04fd34c2ec5995cfb3c966c74378af1a&unitsmetric&q=hofn\n",
      "http://api.openweathermap.org/data/2.5/weather?appid=04fd34c2ec5995cfb3c966c74378af1a&unitsmetric&q=san cristobal\n",
      "http://api.openweathermap.org/data/2.5/weather?appid=04fd34c2ec5995cfb3c966c74378af1a&unitsmetric&q=arraial do cabo\n",
      "http://api.openweathermap.org/data/2.5/weather?appid=04fd34c2ec5995cfb3c966c74378af1a&unitsmetric&q=joshimath\n",
      "http://api.openweathermap.org/data/2.5/weather?appid=04fd34c2ec5995cfb3c966c74378af1a&unitsmetric&q=chokurdakh\n",
      "http://api.openweathermap.org/data/2.5/weather?appid=04fd34c2ec5995cfb3c966c74378af1a&unitsmetric&q=husavik\n",
      "http://api.openweathermap.org/data/2.5/weather?appid=04fd34c2ec5995cfb3c966c74378af1a&unitsmetric&q=mogochin\n",
      "#####City not found#####\n",
      "http://api.openweathermap.org/data/2.5/weather?appid=04fd34c2ec5995cfb3c966c74378af1a&unitsmetric&q=touros\n",
      "http://api.openweathermap.org/data/2.5/weather?appid=04fd34c2ec5995cfb3c966c74378af1a&unitsmetric&q=meyungs\n",
      "#####City not found#####\n",
      "http://api.openweathermap.org/data/2.5/weather?appid=04fd34c2ec5995cfb3c966c74378af1a&unitsmetric&q=dikson\n",
      "http://api.openweathermap.org/data/2.5/weather?appid=04fd34c2ec5995cfb3c966c74378af1a&unitsmetric&q=kapaa\n",
      "http://api.openweathermap.org/data/2.5/weather?appid=04fd34c2ec5995cfb3c966c74378af1a&unitsmetric&q=sohagpur\n",
      "http://api.openweathermap.org/data/2.5/weather?appid=04fd34c2ec5995cfb3c966c74378af1a&unitsmetric&q=cherskiy\n",
      "http://api.openweathermap.org/data/2.5/weather?appid=04fd34c2ec5995cfb3c966c74378af1a&unitsmetric&q=samana\n",
      "http://api.openweathermap.org/data/2.5/weather?appid=04fd34c2ec5995cfb3c966c74378af1a&unitsmetric&q=sao felix do xingu\n",
      "http://api.openweathermap.org/data/2.5/weather?appid=04fd34c2ec5995cfb3c966c74378af1a&unitsmetric&q=kualakapuas\n",
      "http://api.openweathermap.org/data/2.5/weather?appid=04fd34c2ec5995cfb3c966c74378af1a&unitsmetric&q=miles city\n",
      "http://api.openweathermap.org/data/2.5/weather?appid=04fd34c2ec5995cfb3c966c74378af1a&unitsmetric&q=kaitangata\n",
      "http://api.openweathermap.org/data/2.5/weather?appid=04fd34c2ec5995cfb3c966c74378af1a&unitsmetric&q=ancud\n",
      "http://api.openweathermap.org/data/2.5/weather?appid=04fd34c2ec5995cfb3c966c74378af1a&unitsmetric&q=chagda\n",
      "#####City not found#####\n",
      "http://api.openweathermap.org/data/2.5/weather?appid=04fd34c2ec5995cfb3c966c74378af1a&unitsmetric&q=samusu\n",
      "#####City not found#####\n",
      "http://api.openweathermap.org/data/2.5/weather?appid=04fd34c2ec5995cfb3c966c74378af1a&unitsmetric&q=marcona\n",
      "#####City not found#####\n",
      "http://api.openweathermap.org/data/2.5/weather?appid=04fd34c2ec5995cfb3c966c74378af1a&unitsmetric&q=staroutkinsk\n",
      "http://api.openweathermap.org/data/2.5/weather?appid=04fd34c2ec5995cfb3c966c74378af1a&unitsmetric&q=dingle\n",
      "http://api.openweathermap.org/data/2.5/weather?appid=04fd34c2ec5995cfb3c966c74378af1a&unitsmetric&q=port hardy\n",
      "http://api.openweathermap.org/data/2.5/weather?appid=04fd34c2ec5995cfb3c966c74378af1a&unitsmetric&q=deputatskiy\n",
      "http://api.openweathermap.org/data/2.5/weather?appid=04fd34c2ec5995cfb3c966c74378af1a&unitsmetric&q=rabo de peixe\n",
      "http://api.openweathermap.org/data/2.5/weather?appid=04fd34c2ec5995cfb3c966c74378af1a&unitsmetric&q=chapais\n",
      "http://api.openweathermap.org/data/2.5/weather?appid=04fd34c2ec5995cfb3c966c74378af1a&unitsmetric&q=mahon\n",
      "http://api.openweathermap.org/data/2.5/weather?appid=04fd34c2ec5995cfb3c966c74378af1a&unitsmetric&q=villa corzo\n"
     ]
    },
    {
     "name": "stdout",
     "output_type": "stream",
     "text": [
      "http://api.openweathermap.org/data/2.5/weather?appid=04fd34c2ec5995cfb3c966c74378af1a&unitsmetric&q=sharan\n",
      "http://api.openweathermap.org/data/2.5/weather?appid=04fd34c2ec5995cfb3c966c74378af1a&unitsmetric&q=halalo\n",
      "#####City not found#####\n",
      "http://api.openweathermap.org/data/2.5/weather?appid=04fd34c2ec5995cfb3c966c74378af1a&unitsmetric&q=tsienyane\n",
      "#####City not found#####\n",
      "http://api.openweathermap.org/data/2.5/weather?appid=04fd34c2ec5995cfb3c966c74378af1a&unitsmetric&q=lebu\n",
      "http://api.openweathermap.org/data/2.5/weather?appid=04fd34c2ec5995cfb3c966c74378af1a&unitsmetric&q=ongandjera\n",
      "http://api.openweathermap.org/data/2.5/weather?appid=04fd34c2ec5995cfb3c966c74378af1a&unitsmetric&q=bilma\n",
      "http://api.openweathermap.org/data/2.5/weather?appid=04fd34c2ec5995cfb3c966c74378af1a&unitsmetric&q=gat\n",
      "http://api.openweathermap.org/data/2.5/weather?appid=04fd34c2ec5995cfb3c966c74378af1a&unitsmetric&q=kota bahru\n",
      "http://api.openweathermap.org/data/2.5/weather?appid=04fd34c2ec5995cfb3c966c74378af1a&unitsmetric&q=bodden town\n",
      "http://api.openweathermap.org/data/2.5/weather?appid=04fd34c2ec5995cfb3c966c74378af1a&unitsmetric&q=nome\n",
      "http://api.openweathermap.org/data/2.5/weather?appid=04fd34c2ec5995cfb3c966c74378af1a&unitsmetric&q=takab\n",
      "http://api.openweathermap.org/data/2.5/weather?appid=04fd34c2ec5995cfb3c966c74378af1a&unitsmetric&q=clyde river\n",
      "http://api.openweathermap.org/data/2.5/weather?appid=04fd34c2ec5995cfb3c966c74378af1a&unitsmetric&q=talcahuano\n",
      "http://api.openweathermap.org/data/2.5/weather?appid=04fd34c2ec5995cfb3c966c74378af1a&unitsmetric&q=nata\n",
      "http://api.openweathermap.org/data/2.5/weather?appid=04fd34c2ec5995cfb3c966c74378af1a&unitsmetric&q=lixourion\n",
      "http://api.openweathermap.org/data/2.5/weather?appid=04fd34c2ec5995cfb3c966c74378af1a&unitsmetric&q=tuktoyaktuk\n",
      "http://api.openweathermap.org/data/2.5/weather?appid=04fd34c2ec5995cfb3c966c74378af1a&unitsmetric&q=ponta do sol\n",
      "http://api.openweathermap.org/data/2.5/weather?appid=04fd34c2ec5995cfb3c966c74378af1a&unitsmetric&q=kracheh\n",
      "#####City not found#####\n",
      "http://api.openweathermap.org/data/2.5/weather?appid=04fd34c2ec5995cfb3c966c74378af1a&unitsmetric&q=xianshuigu\n",
      "http://api.openweathermap.org/data/2.5/weather?appid=04fd34c2ec5995cfb3c966c74378af1a&unitsmetric&q=mutsamudu\n",
      "#####City not found#####\n",
      "http://api.openweathermap.org/data/2.5/weather?appid=04fd34c2ec5995cfb3c966c74378af1a&unitsmetric&q=mucurapo\n",
      "http://api.openweathermap.org/data/2.5/weather?appid=04fd34c2ec5995cfb3c966c74378af1a&unitsmetric&q=okhotsk\n",
      "http://api.openweathermap.org/data/2.5/weather?appid=04fd34c2ec5995cfb3c966c74378af1a&unitsmetric&q=puerto baquerizo moreno\n",
      "http://api.openweathermap.org/data/2.5/weather?appid=04fd34c2ec5995cfb3c966c74378af1a&unitsmetric&q=sarankhola\n",
      "http://api.openweathermap.org/data/2.5/weather?appid=04fd34c2ec5995cfb3c966c74378af1a&unitsmetric&q=palmas bellas\n",
      "http://api.openweathermap.org/data/2.5/weather?appid=04fd34c2ec5995cfb3c966c74378af1a&unitsmetric&q=nelson bay\n",
      "http://api.openweathermap.org/data/2.5/weather?appid=04fd34c2ec5995cfb3c966c74378af1a&unitsmetric&q=kuminskiy\n",
      "http://api.openweathermap.org/data/2.5/weather?appid=04fd34c2ec5995cfb3c966c74378af1a&unitsmetric&q=marienburg\n",
      "http://api.openweathermap.org/data/2.5/weather?appid=04fd34c2ec5995cfb3c966c74378af1a&unitsmetric&q=san quintin\n",
      "http://api.openweathermap.org/data/2.5/weather?appid=04fd34c2ec5995cfb3c966c74378af1a&unitsmetric&q=kavaratti\n",
      "http://api.openweathermap.org/data/2.5/weather?appid=04fd34c2ec5995cfb3c966c74378af1a&unitsmetric&q=pangai\n",
      "http://api.openweathermap.org/data/2.5/weather?appid=04fd34c2ec5995cfb3c966c74378af1a&unitsmetric&q=alta floresta\n",
      "http://api.openweathermap.org/data/2.5/weather?appid=04fd34c2ec5995cfb3c966c74378af1a&unitsmetric&q=bereda\n",
      "http://api.openweathermap.org/data/2.5/weather?appid=04fd34c2ec5995cfb3c966c74378af1a&unitsmetric&q=arman\n",
      "http://api.openweathermap.org/data/2.5/weather?appid=04fd34c2ec5995cfb3c966c74378af1a&unitsmetric&q=cabedelo\n",
      "http://api.openweathermap.org/data/2.5/weather?appid=04fd34c2ec5995cfb3c966c74378af1a&unitsmetric&q=taltal\n",
      "http://api.openweathermap.org/data/2.5/weather?appid=04fd34c2ec5995cfb3c966c74378af1a&unitsmetric&q=saravan\n",
      "http://api.openweathermap.org/data/2.5/weather?appid=04fd34c2ec5995cfb3c966c74378af1a&unitsmetric&q=koplik\n",
      "http://api.openweathermap.org/data/2.5/weather?appid=04fd34c2ec5995cfb3c966c74378af1a&unitsmetric&q=guiyang\n",
      "http://api.openweathermap.org/data/2.5/weather?appid=04fd34c2ec5995cfb3c966c74378af1a&unitsmetric&q=busdi\n",
      "http://api.openweathermap.org/data/2.5/weather?appid=04fd34c2ec5995cfb3c966c74378af1a&unitsmetric&q=sun city west\n",
      "http://api.openweathermap.org/data/2.5/weather?appid=04fd34c2ec5995cfb3c966c74378af1a&unitsmetric&q=channel-port aux basques\n",
      "http://api.openweathermap.org/data/2.5/weather?appid=04fd34c2ec5995cfb3c966c74378af1a&unitsmetric&q=castro\n",
      "http://api.openweathermap.org/data/2.5/weather?appid=04fd34c2ec5995cfb3c966c74378af1a&unitsmetric&q=kalmunai\n",
      "http://api.openweathermap.org/data/2.5/weather?appid=04fd34c2ec5995cfb3c966c74378af1a&unitsmetric&q=freeport\n",
      "http://api.openweathermap.org/data/2.5/weather?appid=04fd34c2ec5995cfb3c966c74378af1a&unitsmetric&q=saint george\n",
      "http://api.openweathermap.org/data/2.5/weather?appid=04fd34c2ec5995cfb3c966c74378af1a&unitsmetric&q=benguela\n",
      "http://api.openweathermap.org/data/2.5/weather?appid=04fd34c2ec5995cfb3c966c74378af1a&unitsmetric&q=rzeszow\n",
      "http://api.openweathermap.org/data/2.5/weather?appid=04fd34c2ec5995cfb3c966c74378af1a&unitsmetric&q=santa maria\n",
      "http://api.openweathermap.org/data/2.5/weather?appid=04fd34c2ec5995cfb3c966c74378af1a&unitsmetric&q=quatre cocos\n",
      "http://api.openweathermap.org/data/2.5/weather?appid=04fd34c2ec5995cfb3c966c74378af1a&unitsmetric&q=zatoka\n",
      "http://api.openweathermap.org/data/2.5/weather?appid=04fd34c2ec5995cfb3c966c74378af1a&unitsmetric&q=mackenzie\n",
      "http://api.openweathermap.org/data/2.5/weather?appid=04fd34c2ec5995cfb3c966c74378af1a&unitsmetric&q=sitka\n",
      "http://api.openweathermap.org/data/2.5/weather?appid=04fd34c2ec5995cfb3c966c74378af1a&unitsmetric&q=teya\n",
      "http://api.openweathermap.org/data/2.5/weather?appid=04fd34c2ec5995cfb3c966c74378af1a&unitsmetric&q=sao joao da barra\n",
      "http://api.openweathermap.org/data/2.5/weather?appid=04fd34c2ec5995cfb3c966c74378af1a&unitsmetric&q=tsihombe\n",
      "#####City not found#####\n",
      "http://api.openweathermap.org/data/2.5/weather?appid=04fd34c2ec5995cfb3c966c74378af1a&unitsmetric&q=jinchengjiang\n",
      "#####City not found#####\n",
      "http://api.openweathermap.org/data/2.5/weather?appid=04fd34c2ec5995cfb3c966c74378af1a&unitsmetric&q=praya\n",
      "http://api.openweathermap.org/data/2.5/weather?appid=04fd34c2ec5995cfb3c966c74378af1a&unitsmetric&q=mossendjo\n",
      "http://api.openweathermap.org/data/2.5/weather?appid=04fd34c2ec5995cfb3c966c74378af1a&unitsmetric&q=oksfjord\n",
      "http://api.openweathermap.org/data/2.5/weather?appid=04fd34c2ec5995cfb3c966c74378af1a&unitsmetric&q=amderma\n",
      "#####City not found#####\n",
      "http://api.openweathermap.org/data/2.5/weather?appid=04fd34c2ec5995cfb3c966c74378af1a&unitsmetric&q=tazovskiy\n",
      "http://api.openweathermap.org/data/2.5/weather?appid=04fd34c2ec5995cfb3c966c74378af1a&unitsmetric&q=medea\n",
      "http://api.openweathermap.org/data/2.5/weather?appid=04fd34c2ec5995cfb3c966c74378af1a&unitsmetric&q=hispania\n",
      "http://api.openweathermap.org/data/2.5/weather?appid=04fd34c2ec5995cfb3c966c74378af1a&unitsmetric&q=carnarvon\n",
      "http://api.openweathermap.org/data/2.5/weather?appid=04fd34c2ec5995cfb3c966c74378af1a&unitsmetric&q=poykovskiy\n",
      "http://api.openweathermap.org/data/2.5/weather?appid=04fd34c2ec5995cfb3c966c74378af1a&unitsmetric&q=yar-sale\n",
      "http://api.openweathermap.org/data/2.5/weather?appid=04fd34c2ec5995cfb3c966c74378af1a&unitsmetric&q=cape town\n",
      "http://api.openweathermap.org/data/2.5/weather?appid=04fd34c2ec5995cfb3c966c74378af1a&unitsmetric&q=merrill\n",
      "http://api.openweathermap.org/data/2.5/weather?appid=04fd34c2ec5995cfb3c966c74378af1a&unitsmetric&q=khandagayty\n",
      "http://api.openweathermap.org/data/2.5/weather?appid=04fd34c2ec5995cfb3c966c74378af1a&unitsmetric&q=amuntai\n",
      "http://api.openweathermap.org/data/2.5/weather?appid=04fd34c2ec5995cfb3c966c74378af1a&unitsmetric&q=aliaga\n",
      "http://api.openweathermap.org/data/2.5/weather?appid=04fd34c2ec5995cfb3c966c74378af1a&unitsmetric&q=poopo\n",
      "http://api.openweathermap.org/data/2.5/weather?appid=04fd34c2ec5995cfb3c966c74378af1a&unitsmetric&q=talnakh\n"
     ]
    },
    {
     "name": "stdout",
     "output_type": "stream",
     "text": [
      "http://api.openweathermap.org/data/2.5/weather?appid=04fd34c2ec5995cfb3c966c74378af1a&unitsmetric&q=paamiut\n",
      "http://api.openweathermap.org/data/2.5/weather?appid=04fd34c2ec5995cfb3c966c74378af1a&unitsmetric&q=cayenne\n",
      "http://api.openweathermap.org/data/2.5/weather?appid=04fd34c2ec5995cfb3c966c74378af1a&unitsmetric&q=novoagansk\n",
      "http://api.openweathermap.org/data/2.5/weather?appid=04fd34c2ec5995cfb3c966c74378af1a&unitsmetric&q=road town\n",
      "http://api.openweathermap.org/data/2.5/weather?appid=04fd34c2ec5995cfb3c966c74378af1a&unitsmetric&q=nylstroom\n",
      "#####City not found#####\n",
      "http://api.openweathermap.org/data/2.5/weather?appid=04fd34c2ec5995cfb3c966c74378af1a&unitsmetric&q=nikolskoye\n",
      "http://api.openweathermap.org/data/2.5/weather?appid=04fd34c2ec5995cfb3c966c74378af1a&unitsmetric&q=santa cruz de rosales\n",
      "#####City not found#####\n",
      "http://api.openweathermap.org/data/2.5/weather?appid=04fd34c2ec5995cfb3c966c74378af1a&unitsmetric&q=yellowknife\n",
      "http://api.openweathermap.org/data/2.5/weather?appid=04fd34c2ec5995cfb3c966c74378af1a&unitsmetric&q=cap malheureux\n",
      "http://api.openweathermap.org/data/2.5/weather?appid=04fd34c2ec5995cfb3c966c74378af1a&unitsmetric&q=farafangana\n",
      "http://api.openweathermap.org/data/2.5/weather?appid=04fd34c2ec5995cfb3c966c74378af1a&unitsmetric&q=praia\n",
      "http://api.openweathermap.org/data/2.5/weather?appid=04fd34c2ec5995cfb3c966c74378af1a&unitsmetric&q=terney\n",
      "http://api.openweathermap.org/data/2.5/weather?appid=04fd34c2ec5995cfb3c966c74378af1a&unitsmetric&q=vila velha\n",
      "http://api.openweathermap.org/data/2.5/weather?appid=04fd34c2ec5995cfb3c966c74378af1a&unitsmetric&q=pogar\n",
      "http://api.openweathermap.org/data/2.5/weather?appid=04fd34c2ec5995cfb3c966c74378af1a&unitsmetric&q=kahului\n",
      "http://api.openweathermap.org/data/2.5/weather?appid=04fd34c2ec5995cfb3c966c74378af1a&unitsmetric&q=taksimo\n",
      "http://api.openweathermap.org/data/2.5/weather?appid=04fd34c2ec5995cfb3c966c74378af1a&unitsmetric&q=codrington\n",
      "http://api.openweathermap.org/data/2.5/weather?appid=04fd34c2ec5995cfb3c966c74378af1a&unitsmetric&q=huarmey\n",
      "http://api.openweathermap.org/data/2.5/weather?appid=04fd34c2ec5995cfb3c966c74378af1a&unitsmetric&q=axim\n",
      "http://api.openweathermap.org/data/2.5/weather?appid=04fd34c2ec5995cfb3c966c74378af1a&unitsmetric&q=puerto leguizamo\n",
      "http://api.openweathermap.org/data/2.5/weather?appid=04fd34c2ec5995cfb3c966c74378af1a&unitsmetric&q=beyneu\n",
      "http://api.openweathermap.org/data/2.5/weather?appid=04fd34c2ec5995cfb3c966c74378af1a&unitsmetric&q=ostrovnoy\n",
      "http://api.openweathermap.org/data/2.5/weather?appid=04fd34c2ec5995cfb3c966c74378af1a&unitsmetric&q=nouadhibou\n",
      "http://api.openweathermap.org/data/2.5/weather?appid=04fd34c2ec5995cfb3c966c74378af1a&unitsmetric&q=tigzirt\n",
      "http://api.openweathermap.org/data/2.5/weather?appid=04fd34c2ec5995cfb3c966c74378af1a&unitsmetric&q=victoria\n",
      "http://api.openweathermap.org/data/2.5/weather?appid=04fd34c2ec5995cfb3c966c74378af1a&unitsmetric&q=kanniyakumari\n",
      "http://api.openweathermap.org/data/2.5/weather?appid=04fd34c2ec5995cfb3c966c74378af1a&unitsmetric&q=alofi\n",
      "http://api.openweathermap.org/data/2.5/weather?appid=04fd34c2ec5995cfb3c966c74378af1a&unitsmetric&q=san patricio\n",
      "http://api.openweathermap.org/data/2.5/weather?appid=04fd34c2ec5995cfb3c966c74378af1a&unitsmetric&q=vagur\n",
      "http://api.openweathermap.org/data/2.5/weather?appid=04fd34c2ec5995cfb3c966c74378af1a&unitsmetric&q=faanui\n",
      "http://api.openweathermap.org/data/2.5/weather?appid=04fd34c2ec5995cfb3c966c74378af1a&unitsmetric&q=upernavik\n",
      "http://api.openweathermap.org/data/2.5/weather?appid=04fd34c2ec5995cfb3c966c74378af1a&unitsmetric&q=attawapiskat\n",
      "#####City not found#####\n",
      "http://api.openweathermap.org/data/2.5/weather?appid=04fd34c2ec5995cfb3c966c74378af1a&unitsmetric&q=nishihara\n",
      "http://api.openweathermap.org/data/2.5/weather?appid=04fd34c2ec5995cfb3c966c74378af1a&unitsmetric&q=tarbagatay\n",
      "http://api.openweathermap.org/data/2.5/weather?appid=04fd34c2ec5995cfb3c966c74378af1a&unitsmetric&q=puro\n",
      "http://api.openweathermap.org/data/2.5/weather?appid=04fd34c2ec5995cfb3c966c74378af1a&unitsmetric&q=fortuna\n",
      "http://api.openweathermap.org/data/2.5/weather?appid=04fd34c2ec5995cfb3c966c74378af1a&unitsmetric&q=ukiah\n",
      "http://api.openweathermap.org/data/2.5/weather?appid=04fd34c2ec5995cfb3c966c74378af1a&unitsmetric&q=albury\n",
      "http://api.openweathermap.org/data/2.5/weather?appid=04fd34c2ec5995cfb3c966c74378af1a&unitsmetric&q=leningradskiy\n",
      "http://api.openweathermap.org/data/2.5/weather?appid=04fd34c2ec5995cfb3c966c74378af1a&unitsmetric&q=panama city\n",
      "http://api.openweathermap.org/data/2.5/weather?appid=04fd34c2ec5995cfb3c966c74378af1a&unitsmetric&q=azua\n",
      "http://api.openweathermap.org/data/2.5/weather?appid=04fd34c2ec5995cfb3c966c74378af1a&unitsmetric&q=yerbogachen\n",
      "http://api.openweathermap.org/data/2.5/weather?appid=04fd34c2ec5995cfb3c966c74378af1a&unitsmetric&q=homer\n",
      "http://api.openweathermap.org/data/2.5/weather?appid=04fd34c2ec5995cfb3c966c74378af1a&unitsmetric&q=kargasok\n",
      "http://api.openweathermap.org/data/2.5/weather?appid=04fd34c2ec5995cfb3c966c74378af1a&unitsmetric&q=elliot lake\n",
      "http://api.openweathermap.org/data/2.5/weather?appid=04fd34c2ec5995cfb3c966c74378af1a&unitsmetric&q=galle\n",
      "http://api.openweathermap.org/data/2.5/weather?appid=04fd34c2ec5995cfb3c966c74378af1a&unitsmetric&q=el alto\n",
      "http://api.openweathermap.org/data/2.5/weather?appid=04fd34c2ec5995cfb3c966c74378af1a&unitsmetric&q=labuhan\n",
      "http://api.openweathermap.org/data/2.5/weather?appid=04fd34c2ec5995cfb3c966c74378af1a&unitsmetric&q=valparaiso\n",
      "http://api.openweathermap.org/data/2.5/weather?appid=04fd34c2ec5995cfb3c966c74378af1a&unitsmetric&q=saleaula\n",
      "#####City not found#####\n",
      "http://api.openweathermap.org/data/2.5/weather?appid=04fd34c2ec5995cfb3c966c74378af1a&unitsmetric&q=mount pleasant\n",
      "http://api.openweathermap.org/data/2.5/weather?appid=04fd34c2ec5995cfb3c966c74378af1a&unitsmetric&q=nuuk\n",
      "http://api.openweathermap.org/data/2.5/weather?appid=04fd34c2ec5995cfb3c966c74378af1a&unitsmetric&q=anadyr\n",
      "http://api.openweathermap.org/data/2.5/weather?appid=04fd34c2ec5995cfb3c966c74378af1a&unitsmetric&q=los llanos de aridane\n",
      "http://api.openweathermap.org/data/2.5/weather?appid=04fd34c2ec5995cfb3c966c74378af1a&unitsmetric&q=tual\n",
      "http://api.openweathermap.org/data/2.5/weather?appid=04fd34c2ec5995cfb3c966c74378af1a&unitsmetric&q=kongoussi\n",
      "http://api.openweathermap.org/data/2.5/weather?appid=04fd34c2ec5995cfb3c966c74378af1a&unitsmetric&q=verkhnevilyuysk\n",
      "http://api.openweathermap.org/data/2.5/weather?appid=04fd34c2ec5995cfb3c966c74378af1a&unitsmetric&q=zhezkazgan\n",
      "http://api.openweathermap.org/data/2.5/weather?appid=04fd34c2ec5995cfb3c966c74378af1a&unitsmetric&q=hammerfest\n",
      "http://api.openweathermap.org/data/2.5/weather?appid=04fd34c2ec5995cfb3c966c74378af1a&unitsmetric&q=byron bay\n",
      "http://api.openweathermap.org/data/2.5/weather?appid=04fd34c2ec5995cfb3c966c74378af1a&unitsmetric&q=hamilton\n",
      "http://api.openweathermap.org/data/2.5/weather?appid=04fd34c2ec5995cfb3c966c74378af1a&unitsmetric&q=laguna\n",
      "http://api.openweathermap.org/data/2.5/weather?appid=04fd34c2ec5995cfb3c966c74378af1a&unitsmetric&q=saldanha\n",
      "http://api.openweathermap.org/data/2.5/weather?appid=04fd34c2ec5995cfb3c966c74378af1a&unitsmetric&q=coihaique\n",
      "http://api.openweathermap.org/data/2.5/weather?appid=04fd34c2ec5995cfb3c966c74378af1a&unitsmetric&q=batesville\n",
      "http://api.openweathermap.org/data/2.5/weather?appid=04fd34c2ec5995cfb3c966c74378af1a&unitsmetric&q=ranong\n",
      "http://api.openweathermap.org/data/2.5/weather?appid=04fd34c2ec5995cfb3c966c74378af1a&unitsmetric&q=lahat\n",
      "http://api.openweathermap.org/data/2.5/weather?appid=04fd34c2ec5995cfb3c966c74378af1a&unitsmetric&q=handan\n",
      "http://api.openweathermap.org/data/2.5/weather?appid=04fd34c2ec5995cfb3c966c74378af1a&unitsmetric&q=lagoa\n",
      "http://api.openweathermap.org/data/2.5/weather?appid=04fd34c2ec5995cfb3c966c74378af1a&unitsmetric&q=pimenta bueno\n",
      "http://api.openweathermap.org/data/2.5/weather?appid=04fd34c2ec5995cfb3c966c74378af1a&unitsmetric&q=asahikawa\n",
      "http://api.openweathermap.org/data/2.5/weather?appid=04fd34c2ec5995cfb3c966c74378af1a&unitsmetric&q=pathum thani\n",
      "http://api.openweathermap.org/data/2.5/weather?appid=04fd34c2ec5995cfb3c966c74378af1a&unitsmetric&q=mayo\n",
      "http://api.openweathermap.org/data/2.5/weather?appid=04fd34c2ec5995cfb3c966c74378af1a&unitsmetric&q=airai\n"
     ]
    },
    {
     "name": "stdout",
     "output_type": "stream",
     "text": [
      "http://api.openweathermap.org/data/2.5/weather?appid=04fd34c2ec5995cfb3c966c74378af1a&unitsmetric&q=sinegorskiy\n",
      "http://api.openweathermap.org/data/2.5/weather?appid=04fd34c2ec5995cfb3c966c74378af1a&unitsmetric&q=jining\n",
      "http://api.openweathermap.org/data/2.5/weather?appid=04fd34c2ec5995cfb3c966c74378af1a&unitsmetric&q=fremont\n",
      "http://api.openweathermap.org/data/2.5/weather?appid=04fd34c2ec5995cfb3c966c74378af1a&unitsmetric&q=kemijarvi\n",
      "http://api.openweathermap.org/data/2.5/weather?appid=04fd34c2ec5995cfb3c966c74378af1a&unitsmetric&q=atar\n",
      "http://api.openweathermap.org/data/2.5/weather?appid=04fd34c2ec5995cfb3c966c74378af1a&unitsmetric&q=muana\n",
      "http://api.openweathermap.org/data/2.5/weather?appid=04fd34c2ec5995cfb3c966c74378af1a&unitsmetric&q=caravelas\n",
      "http://api.openweathermap.org/data/2.5/weather?appid=04fd34c2ec5995cfb3c966c74378af1a&unitsmetric&q=yarmouth\n",
      "http://api.openweathermap.org/data/2.5/weather?appid=04fd34c2ec5995cfb3c966c74378af1a&unitsmetric&q=petropavlovsk-kamchatskiy\n",
      "http://api.openweathermap.org/data/2.5/weather?appid=04fd34c2ec5995cfb3c966c74378af1a&unitsmetric&q=guanagazapa\n",
      "http://api.openweathermap.org/data/2.5/weather?appid=04fd34c2ec5995cfb3c966c74378af1a&unitsmetric&q=sumbe\n",
      "http://api.openweathermap.org/data/2.5/weather?appid=04fd34c2ec5995cfb3c966c74378af1a&unitsmetric&q=dingtao\n",
      "http://api.openweathermap.org/data/2.5/weather?appid=04fd34c2ec5995cfb3c966c74378af1a&unitsmetric&q=andenes\n",
      "http://api.openweathermap.org/data/2.5/weather?appid=04fd34c2ec5995cfb3c966c74378af1a&unitsmetric&q=tura\n",
      "http://api.openweathermap.org/data/2.5/weather?appid=04fd34c2ec5995cfb3c966c74378af1a&unitsmetric&q=waingapu\n",
      "http://api.openweathermap.org/data/2.5/weather?appid=04fd34c2ec5995cfb3c966c74378af1a&unitsmetric&q=katsuura\n",
      "http://api.openweathermap.org/data/2.5/weather?appid=04fd34c2ec5995cfb3c966c74378af1a&unitsmetric&q=sarangani\n",
      "http://api.openweathermap.org/data/2.5/weather?appid=04fd34c2ec5995cfb3c966c74378af1a&unitsmetric&q=salina\n",
      "http://api.openweathermap.org/data/2.5/weather?appid=04fd34c2ec5995cfb3c966c74378af1a&unitsmetric&q=matara\n",
      "http://api.openweathermap.org/data/2.5/weather?appid=04fd34c2ec5995cfb3c966c74378af1a&unitsmetric&q=bethel\n",
      "http://api.openweathermap.org/data/2.5/weather?appid=04fd34c2ec5995cfb3c966c74378af1a&unitsmetric&q=princeton\n",
      "http://api.openweathermap.org/data/2.5/weather?appid=04fd34c2ec5995cfb3c966c74378af1a&unitsmetric&q=lorengau\n",
      "http://api.openweathermap.org/data/2.5/weather?appid=04fd34c2ec5995cfb3c966c74378af1a&unitsmetric&q=bilibino\n",
      "http://api.openweathermap.org/data/2.5/weather?appid=04fd34c2ec5995cfb3c966c74378af1a&unitsmetric&q=najran\n",
      "http://api.openweathermap.org/data/2.5/weather?appid=04fd34c2ec5995cfb3c966c74378af1a&unitsmetric&q=allapalli\n",
      "http://api.openweathermap.org/data/2.5/weather?appid=04fd34c2ec5995cfb3c966c74378af1a&unitsmetric&q=mitsamiouli\n",
      "http://api.openweathermap.org/data/2.5/weather?appid=04fd34c2ec5995cfb3c966c74378af1a&unitsmetric&q=nepalganj\n",
      "#####City not found#####\n",
      "http://api.openweathermap.org/data/2.5/weather?appid=04fd34c2ec5995cfb3c966c74378af1a&unitsmetric&q=palin\n",
      "http://api.openweathermap.org/data/2.5/weather?appid=04fd34c2ec5995cfb3c966c74378af1a&unitsmetric&q=barranca\n",
      "http://api.openweathermap.org/data/2.5/weather?appid=04fd34c2ec5995cfb3c966c74378af1a&unitsmetric&q=linshu\n",
      "#####City not found#####\n",
      "http://api.openweathermap.org/data/2.5/weather?appid=04fd34c2ec5995cfb3c966c74378af1a&unitsmetric&q=whitehorse\n",
      "http://api.openweathermap.org/data/2.5/weather?appid=04fd34c2ec5995cfb3c966c74378af1a&unitsmetric&q=umzimvubu\n",
      "#####City not found#####\n",
      "http://api.openweathermap.org/data/2.5/weather?appid=04fd34c2ec5995cfb3c966c74378af1a&unitsmetric&q=macheng\n",
      "http://api.openweathermap.org/data/2.5/weather?appid=04fd34c2ec5995cfb3c966c74378af1a&unitsmetric&q=wajima\n",
      "http://api.openweathermap.org/data/2.5/weather?appid=04fd34c2ec5995cfb3c966c74378af1a&unitsmetric&q=urengoy\n",
      "http://api.openweathermap.org/data/2.5/weather?appid=04fd34c2ec5995cfb3c966c74378af1a&unitsmetric&q=tarakan\n",
      "http://api.openweathermap.org/data/2.5/weather?appid=04fd34c2ec5995cfb3c966c74378af1a&unitsmetric&q=okha\n",
      "http://api.openweathermap.org/data/2.5/weather?appid=04fd34c2ec5995cfb3c966c74378af1a&unitsmetric&q=blagoveshchenka\n",
      "http://api.openweathermap.org/data/2.5/weather?appid=04fd34c2ec5995cfb3c966c74378af1a&unitsmetric&q=linxia\n",
      "http://api.openweathermap.org/data/2.5/weather?appid=04fd34c2ec5995cfb3c966c74378af1a&unitsmetric&q=slave lake\n",
      "http://api.openweathermap.org/data/2.5/weather?appid=04fd34c2ec5995cfb3c966c74378af1a&unitsmetric&q=souillac\n",
      "http://api.openweathermap.org/data/2.5/weather?appid=04fd34c2ec5995cfb3c966c74378af1a&unitsmetric&q=azanja\n",
      "http://api.openweathermap.org/data/2.5/weather?appid=04fd34c2ec5995cfb3c966c74378af1a&unitsmetric&q=gurupi\n",
      "http://api.openweathermap.org/data/2.5/weather?appid=04fd34c2ec5995cfb3c966c74378af1a&unitsmetric&q=pevek\n",
      "http://api.openweathermap.org/data/2.5/weather?appid=04fd34c2ec5995cfb3c966c74378af1a&unitsmetric&q=provideniya\n",
      "http://api.openweathermap.org/data/2.5/weather?appid=04fd34c2ec5995cfb3c966c74378af1a&unitsmetric&q=capari\n",
      "http://api.openweathermap.org/data/2.5/weather?appid=04fd34c2ec5995cfb3c966c74378af1a&unitsmetric&q=cayeli\n",
      "http://api.openweathermap.org/data/2.5/weather?appid=04fd34c2ec5995cfb3c966c74378af1a&unitsmetric&q=kribi\n",
      "http://api.openweathermap.org/data/2.5/weather?appid=04fd34c2ec5995cfb3c966c74378af1a&unitsmetric&q=nguruka\n",
      "http://api.openweathermap.org/data/2.5/weather?appid=04fd34c2ec5995cfb3c966c74378af1a&unitsmetric&q=chegdomyn\n",
      "http://api.openweathermap.org/data/2.5/weather?appid=04fd34c2ec5995cfb3c966c74378af1a&unitsmetric&q=kalianget\n",
      "http://api.openweathermap.org/data/2.5/weather?appid=04fd34c2ec5995cfb3c966c74378af1a&unitsmetric&q=sistranda\n",
      "http://api.openweathermap.org/data/2.5/weather?appid=04fd34c2ec5995cfb3c966c74378af1a&unitsmetric&q=ambon\n",
      "http://api.openweathermap.org/data/2.5/weather?appid=04fd34c2ec5995cfb3c966c74378af1a&unitsmetric&q=pokrovsk\n",
      "http://api.openweathermap.org/data/2.5/weather?appid=04fd34c2ec5995cfb3c966c74378af1a&unitsmetric&q=iqaluit\n",
      "http://api.openweathermap.org/data/2.5/weather?appid=04fd34c2ec5995cfb3c966c74378af1a&unitsmetric&q=morondava\n",
      "http://api.openweathermap.org/data/2.5/weather?appid=04fd34c2ec5995cfb3c966c74378af1a&unitsmetric&q=noumea\n",
      "http://api.openweathermap.org/data/2.5/weather?appid=04fd34c2ec5995cfb3c966c74378af1a&unitsmetric&q=olinda\n",
      "http://api.openweathermap.org/data/2.5/weather?appid=04fd34c2ec5995cfb3c966c74378af1a&unitsmetric&q=valley city\n",
      "http://api.openweathermap.org/data/2.5/weather?appid=04fd34c2ec5995cfb3c966c74378af1a&unitsmetric&q=eureka\n",
      "http://api.openweathermap.org/data/2.5/weather?appid=04fd34c2ec5995cfb3c966c74378af1a&unitsmetric&q=komsomolskiy\n",
      "http://api.openweathermap.org/data/2.5/weather?appid=04fd34c2ec5995cfb3c966c74378af1a&unitsmetric&q=ocampo\n",
      "http://api.openweathermap.org/data/2.5/weather?appid=04fd34c2ec5995cfb3c966c74378af1a&unitsmetric&q=hay river\n",
      "http://api.openweathermap.org/data/2.5/weather?appid=04fd34c2ec5995cfb3c966c74378af1a&unitsmetric&q=olga\n",
      "http://api.openweathermap.org/data/2.5/weather?appid=04fd34c2ec5995cfb3c966c74378af1a&unitsmetric&q=phnum penh\n",
      "#####City not found#####\n",
      "http://api.openweathermap.org/data/2.5/weather?appid=04fd34c2ec5995cfb3c966c74378af1a&unitsmetric&q=geraldton\n",
      "http://api.openweathermap.org/data/2.5/weather?appid=04fd34c2ec5995cfb3c966c74378af1a&unitsmetric&q=havre\n",
      "http://api.openweathermap.org/data/2.5/weather?appid=04fd34c2ec5995cfb3c966c74378af1a&unitsmetric&q=ternate\n",
      "http://api.openweathermap.org/data/2.5/weather?appid=04fd34c2ec5995cfb3c966c74378af1a&unitsmetric&q=rawson\n",
      "http://api.openweathermap.org/data/2.5/weather?appid=04fd34c2ec5995cfb3c966c74378af1a&unitsmetric&q=lethem\n",
      "http://api.openweathermap.org/data/2.5/weather?appid=04fd34c2ec5995cfb3c966c74378af1a&unitsmetric&q=baykit\n",
      "http://api.openweathermap.org/data/2.5/weather?appid=04fd34c2ec5995cfb3c966c74378af1a&unitsmetric&q=bargal\n",
      "#####City not found#####\n",
      "http://api.openweathermap.org/data/2.5/weather?appid=04fd34c2ec5995cfb3c966c74378af1a&unitsmetric&q=ambilobe\n",
      "http://api.openweathermap.org/data/2.5/weather?appid=04fd34c2ec5995cfb3c966c74378af1a&unitsmetric&q=ambulu\n",
      "http://api.openweathermap.org/data/2.5/weather?appid=04fd34c2ec5995cfb3c966c74378af1a&unitsmetric&q=necochea\n"
     ]
    },
    {
     "name": "stdout",
     "output_type": "stream",
     "text": [
      "http://api.openweathermap.org/data/2.5/weather?appid=04fd34c2ec5995cfb3c966c74378af1a&unitsmetric&q=keti bandar\n",
      "http://api.openweathermap.org/data/2.5/weather?appid=04fd34c2ec5995cfb3c966c74378af1a&unitsmetric&q=gaogou\n",
      "http://api.openweathermap.org/data/2.5/weather?appid=04fd34c2ec5995cfb3c966c74378af1a&unitsmetric&q=nhulunbuy\n",
      "http://api.openweathermap.org/data/2.5/weather?appid=04fd34c2ec5995cfb3c966c74378af1a&unitsmetric&q=salalah\n",
      "http://api.openweathermap.org/data/2.5/weather?appid=04fd34c2ec5995cfb3c966c74378af1a&unitsmetric&q=kamenskoye\n",
      "#####City not found#####\n",
      "http://api.openweathermap.org/data/2.5/weather?appid=04fd34c2ec5995cfb3c966c74378af1a&unitsmetric&q=opuwo\n",
      "http://api.openweathermap.org/data/2.5/weather?appid=04fd34c2ec5995cfb3c966c74378af1a&unitsmetric&q=luderitz\n",
      "http://api.openweathermap.org/data/2.5/weather?appid=04fd34c2ec5995cfb3c966c74378af1a&unitsmetric&q=naze\n",
      "http://api.openweathermap.org/data/2.5/weather?appid=04fd34c2ec5995cfb3c966c74378af1a&unitsmetric&q=namibe\n",
      "http://api.openweathermap.org/data/2.5/weather?appid=04fd34c2ec5995cfb3c966c74378af1a&unitsmetric&q=pasni\n",
      "http://api.openweathermap.org/data/2.5/weather?appid=04fd34c2ec5995cfb3c966c74378af1a&unitsmetric&q=port lincoln\n",
      "http://api.openweathermap.org/data/2.5/weather?appid=04fd34c2ec5995cfb3c966c74378af1a&unitsmetric&q=thio\n",
      "http://api.openweathermap.org/data/2.5/weather?appid=04fd34c2ec5995cfb3c966c74378af1a&unitsmetric&q=nampula\n",
      "http://api.openweathermap.org/data/2.5/weather?appid=04fd34c2ec5995cfb3c966c74378af1a&unitsmetric&q=saurimo\n",
      "http://api.openweathermap.org/data/2.5/weather?appid=04fd34c2ec5995cfb3c966c74378af1a&unitsmetric&q=chake chake\n",
      "http://api.openweathermap.org/data/2.5/weather?appid=04fd34c2ec5995cfb3c966c74378af1a&unitsmetric&q=kidal\n",
      "http://api.openweathermap.org/data/2.5/weather?appid=04fd34c2ec5995cfb3c966c74378af1a&unitsmetric&q=jamame\n",
      "http://api.openweathermap.org/data/2.5/weather?appid=04fd34c2ec5995cfb3c966c74378af1a&unitsmetric&q=kalnibolotskaya\n",
      "http://api.openweathermap.org/data/2.5/weather?appid=04fd34c2ec5995cfb3c966c74378af1a&unitsmetric&q=cockburn town\n",
      "http://api.openweathermap.org/data/2.5/weather?appid=04fd34c2ec5995cfb3c966c74378af1a&unitsmetric&q=barentu\n",
      "http://api.openweathermap.org/data/2.5/weather?appid=04fd34c2ec5995cfb3c966c74378af1a&unitsmetric&q=takayama\n",
      "http://api.openweathermap.org/data/2.5/weather?appid=04fd34c2ec5995cfb3c966c74378af1a&unitsmetric&q=srandakan\n",
      "http://api.openweathermap.org/data/2.5/weather?appid=04fd34c2ec5995cfb3c966c74378af1a&unitsmetric&q=kavieng\n",
      "http://api.openweathermap.org/data/2.5/weather?appid=04fd34c2ec5995cfb3c966c74378af1a&unitsmetric&q=buraydah\n",
      "http://api.openweathermap.org/data/2.5/weather?appid=04fd34c2ec5995cfb3c966c74378af1a&unitsmetric&q=chulman\n",
      "http://api.openweathermap.org/data/2.5/weather?appid=04fd34c2ec5995cfb3c966c74378af1a&unitsmetric&q=haibowan\n",
      "#####City not found#####\n",
      "http://api.openweathermap.org/data/2.5/weather?appid=04fd34c2ec5995cfb3c966c74378af1a&unitsmetric&q=duz\n",
      "#####City not found#####\n",
      "http://api.openweathermap.org/data/2.5/weather?appid=04fd34c2ec5995cfb3c966c74378af1a&unitsmetric&q=ribeira grande\n",
      "http://api.openweathermap.org/data/2.5/weather?appid=04fd34c2ec5995cfb3c966c74378af1a&unitsmetric&q=kiama\n",
      "http://api.openweathermap.org/data/2.5/weather?appid=04fd34c2ec5995cfb3c966c74378af1a&unitsmetric&q=tungor\n",
      "http://api.openweathermap.org/data/2.5/weather?appid=04fd34c2ec5995cfb3c966c74378af1a&unitsmetric&q=olafsvik\n",
      "http://api.openweathermap.org/data/2.5/weather?appid=04fd34c2ec5995cfb3c966c74378af1a&unitsmetric&q=sao filipe\n",
      "http://api.openweathermap.org/data/2.5/weather?appid=04fd34c2ec5995cfb3c966c74378af1a&unitsmetric&q=minnedosa\n",
      "http://api.openweathermap.org/data/2.5/weather?appid=04fd34c2ec5995cfb3c966c74378af1a&unitsmetric&q=tagkawayan\n",
      "http://api.openweathermap.org/data/2.5/weather?appid=04fd34c2ec5995cfb3c966c74378af1a&unitsmetric&q=zhigansk\n",
      "http://api.openweathermap.org/data/2.5/weather?appid=04fd34c2ec5995cfb3c966c74378af1a&unitsmetric&q=sorland\n",
      "http://api.openweathermap.org/data/2.5/weather?appid=04fd34c2ec5995cfb3c966c74378af1a&unitsmetric&q=vao\n",
      "http://api.openweathermap.org/data/2.5/weather?appid=04fd34c2ec5995cfb3c966c74378af1a&unitsmetric&q=alekseyevsk\n",
      "http://api.openweathermap.org/data/2.5/weather?appid=04fd34c2ec5995cfb3c966c74378af1a&unitsmetric&q=luanda\n",
      "http://api.openweathermap.org/data/2.5/weather?appid=04fd34c2ec5995cfb3c966c74378af1a&unitsmetric&q=hsintien\n",
      "#####City not found#####\n",
      "http://api.openweathermap.org/data/2.5/weather?appid=04fd34c2ec5995cfb3c966c74378af1a&unitsmetric&q=kashi\n",
      "http://api.openweathermap.org/data/2.5/weather?appid=04fd34c2ec5995cfb3c966c74378af1a&unitsmetric&q=alenquer\n",
      "http://api.openweathermap.org/data/2.5/weather?appid=04fd34c2ec5995cfb3c966c74378af1a&unitsmetric&q=jagalur\n",
      "http://api.openweathermap.org/data/2.5/weather?appid=04fd34c2ec5995cfb3c966c74378af1a&unitsmetric&q=manakara\n",
      "http://api.openweathermap.org/data/2.5/weather?appid=04fd34c2ec5995cfb3c966c74378af1a&unitsmetric&q=dunedin\n",
      "http://api.openweathermap.org/data/2.5/weather?appid=04fd34c2ec5995cfb3c966c74378af1a&unitsmetric&q=guerrero negro\n",
      "http://api.openweathermap.org/data/2.5/weather?appid=04fd34c2ec5995cfb3c966c74378af1a&unitsmetric&q=ust-kamchatsk\n",
      "#####City not found#####\n",
      "http://api.openweathermap.org/data/2.5/weather?appid=04fd34c2ec5995cfb3c966c74378af1a&unitsmetric&q=belyy yar\n",
      "http://api.openweathermap.org/data/2.5/weather?appid=04fd34c2ec5995cfb3c966c74378af1a&unitsmetric&q=tunduru\n",
      "#####City not found#####\n",
      "http://api.openweathermap.org/data/2.5/weather?appid=04fd34c2ec5995cfb3c966c74378af1a&unitsmetric&q=nyurba\n",
      "http://api.openweathermap.org/data/2.5/weather?appid=04fd34c2ec5995cfb3c966c74378af1a&unitsmetric&q=palabuhanratu\n",
      "#####City not found#####\n",
      "http://api.openweathermap.org/data/2.5/weather?appid=04fd34c2ec5995cfb3c966c74378af1a&unitsmetric&q=yatou\n",
      "http://api.openweathermap.org/data/2.5/weather?appid=04fd34c2ec5995cfb3c966c74378af1a&unitsmetric&q=yumen\n",
      "http://api.openweathermap.org/data/2.5/weather?appid=04fd34c2ec5995cfb3c966c74378af1a&unitsmetric&q=porosozero\n",
      "http://api.openweathermap.org/data/2.5/weather?appid=04fd34c2ec5995cfb3c966c74378af1a&unitsmetric&q=silkeborg\n",
      "http://api.openweathermap.org/data/2.5/weather?appid=04fd34c2ec5995cfb3c966c74378af1a&unitsmetric&q=alto araguaia\n",
      "http://api.openweathermap.org/data/2.5/weather?appid=04fd34c2ec5995cfb3c966c74378af1a&unitsmetric&q=lima\n",
      "http://api.openweathermap.org/data/2.5/weather?appid=04fd34c2ec5995cfb3c966c74378af1a&unitsmetric&q=cheuskiny\n",
      "#####City not found#####\n",
      "http://api.openweathermap.org/data/2.5/weather?appid=04fd34c2ec5995cfb3c966c74378af1a&unitsmetric&q=dianopolis\n",
      "#####City not found#####\n",
      "http://api.openweathermap.org/data/2.5/weather?appid=04fd34c2ec5995cfb3c966c74378af1a&unitsmetric&q=hope\n",
      "http://api.openweathermap.org/data/2.5/weather?appid=04fd34c2ec5995cfb3c966c74378af1a&unitsmetric&q=sola\n",
      "http://api.openweathermap.org/data/2.5/weather?appid=04fd34c2ec5995cfb3c966c74378af1a&unitsmetric&q=mrirt\n",
      "#####City not found#####\n",
      "http://api.openweathermap.org/data/2.5/weather?appid=04fd34c2ec5995cfb3c966c74378af1a&unitsmetric&q=muros\n",
      "http://api.openweathermap.org/data/2.5/weather?appid=04fd34c2ec5995cfb3c966c74378af1a&unitsmetric&q=abonnema\n",
      "http://api.openweathermap.org/data/2.5/weather?appid=04fd34c2ec5995cfb3c966c74378af1a&unitsmetric&q=port-gentil\n",
      "http://api.openweathermap.org/data/2.5/weather?appid=04fd34c2ec5995cfb3c966c74378af1a&unitsmetric&q=pisco\n",
      "http://api.openweathermap.org/data/2.5/weather?appid=04fd34c2ec5995cfb3c966c74378af1a&unitsmetric&q=port shepstone\n",
      "http://api.openweathermap.org/data/2.5/weather?appid=04fd34c2ec5995cfb3c966c74378af1a&unitsmetric&q=maceio\n",
      "http://api.openweathermap.org/data/2.5/weather?appid=04fd34c2ec5995cfb3c966c74378af1a&unitsmetric&q=iwanai\n",
      "http://api.openweathermap.org/data/2.5/weather?appid=04fd34c2ec5995cfb3c966c74378af1a&unitsmetric&q=ngukurr\n",
      "#####City not found#####\n",
      "http://api.openweathermap.org/data/2.5/weather?appid=04fd34c2ec5995cfb3c966c74378af1a&unitsmetric&q=kumbo\n",
      "http://api.openweathermap.org/data/2.5/weather?appid=04fd34c2ec5995cfb3c966c74378af1a&unitsmetric&q=fairbanks\n",
      "http://api.openweathermap.org/data/2.5/weather?appid=04fd34c2ec5995cfb3c966c74378af1a&unitsmetric&q=great bend\n"
     ]
    },
    {
     "name": "stdout",
     "output_type": "stream",
     "text": [
      "http://api.openweathermap.org/data/2.5/weather?appid=04fd34c2ec5995cfb3c966c74378af1a&unitsmetric&q=denpasar\n",
      "http://api.openweathermap.org/data/2.5/weather?appid=04fd34c2ec5995cfb3c966c74378af1a&unitsmetric&q=lydenburg\n",
      "http://api.openweathermap.org/data/2.5/weather?appid=04fd34c2ec5995cfb3c966c74378af1a&unitsmetric&q=walvis bay\n",
      "http://api.openweathermap.org/data/2.5/weather?appid=04fd34c2ec5995cfb3c966c74378af1a&unitsmetric&q=port blair\n",
      "http://api.openweathermap.org/data/2.5/weather?appid=04fd34c2ec5995cfb3c966c74378af1a&unitsmetric&q=gizo\n",
      "http://api.openweathermap.org/data/2.5/weather?appid=04fd34c2ec5995cfb3c966c74378af1a&unitsmetric&q=narsaq\n",
      "http://api.openweathermap.org/data/2.5/weather?appid=04fd34c2ec5995cfb3c966c74378af1a&unitsmetric&q=mlonggo\n",
      "http://api.openweathermap.org/data/2.5/weather?appid=04fd34c2ec5995cfb3c966c74378af1a&unitsmetric&q=lerwick\n",
      "http://api.openweathermap.org/data/2.5/weather?appid=04fd34c2ec5995cfb3c966c74378af1a&unitsmetric&q=parabel\n",
      "http://api.openweathermap.org/data/2.5/weather?appid=04fd34c2ec5995cfb3c966c74378af1a&unitsmetric&q=sharkan\n",
      "http://api.openweathermap.org/data/2.5/weather?appid=04fd34c2ec5995cfb3c966c74378af1a&unitsmetric&q=atbasar\n",
      "http://api.openweathermap.org/data/2.5/weather?appid=04fd34c2ec5995cfb3c966c74378af1a&unitsmetric&q=senmonorom\n",
      "#####City not found#####\n",
      "http://api.openweathermap.org/data/2.5/weather?appid=04fd34c2ec5995cfb3c966c74378af1a&unitsmetric&q=tautira\n",
      "http://api.openweathermap.org/data/2.5/weather?appid=04fd34c2ec5995cfb3c966c74378af1a&unitsmetric&q=port moresby\n",
      "http://api.openweathermap.org/data/2.5/weather?appid=04fd34c2ec5995cfb3c966c74378af1a&unitsmetric&q=brigantine\n",
      "http://api.openweathermap.org/data/2.5/weather?appid=04fd34c2ec5995cfb3c966c74378af1a&unitsmetric&q=mvomero\n",
      "http://api.openweathermap.org/data/2.5/weather?appid=04fd34c2ec5995cfb3c966c74378af1a&unitsmetric&q=inverell\n",
      "http://api.openweathermap.org/data/2.5/weather?appid=04fd34c2ec5995cfb3c966c74378af1a&unitsmetric&q=shadegan\n",
      "http://api.openweathermap.org/data/2.5/weather?appid=04fd34c2ec5995cfb3c966c74378af1a&unitsmetric&q=grand gaube\n",
      "http://api.openweathermap.org/data/2.5/weather?appid=04fd34c2ec5995cfb3c966c74378af1a&unitsmetric&q=kismayo\n",
      "http://api.openweathermap.org/data/2.5/weather?appid=04fd34c2ec5995cfb3c966c74378af1a&unitsmetric&q=kutum\n",
      "http://api.openweathermap.org/data/2.5/weather?appid=04fd34c2ec5995cfb3c966c74378af1a&unitsmetric&q=fallon\n",
      "http://api.openweathermap.org/data/2.5/weather?appid=04fd34c2ec5995cfb3c966c74378af1a&unitsmetric&q=leh\n",
      "http://api.openweathermap.org/data/2.5/weather?appid=04fd34c2ec5995cfb3c966c74378af1a&unitsmetric&q=elat\n",
      "http://api.openweathermap.org/data/2.5/weather?appid=04fd34c2ec5995cfb3c966c74378af1a&unitsmetric&q=vernon\n",
      "http://api.openweathermap.org/data/2.5/weather?appid=04fd34c2ec5995cfb3c966c74378af1a&unitsmetric&q=sturgis\n",
      "http://api.openweathermap.org/data/2.5/weather?appid=04fd34c2ec5995cfb3c966c74378af1a&unitsmetric&q=payette\n",
      "http://api.openweathermap.org/data/2.5/weather?appid=04fd34c2ec5995cfb3c966c74378af1a&unitsmetric&q=newala\n",
      "http://api.openweathermap.org/data/2.5/weather?appid=04fd34c2ec5995cfb3c966c74378af1a&unitsmetric&q=gasa\n",
      "http://api.openweathermap.org/data/2.5/weather?appid=04fd34c2ec5995cfb3c966c74378af1a&unitsmetric&q=hobyo\n",
      "http://api.openweathermap.org/data/2.5/weather?appid=04fd34c2ec5995cfb3c966c74378af1a&unitsmetric&q=lake havasu city\n",
      "http://api.openweathermap.org/data/2.5/weather?appid=04fd34c2ec5995cfb3c966c74378af1a&unitsmetric&q=barcelona\n",
      "http://api.openweathermap.org/data/2.5/weather?appid=04fd34c2ec5995cfb3c966c74378af1a&unitsmetric&q=balaipungut\n",
      "http://api.openweathermap.org/data/2.5/weather?appid=04fd34c2ec5995cfb3c966c74378af1a&unitsmetric&q=ust-maya\n",
      "http://api.openweathermap.org/data/2.5/weather?appid=04fd34c2ec5995cfb3c966c74378af1a&unitsmetric&q=floro\n",
      "http://api.openweathermap.org/data/2.5/weather?appid=04fd34c2ec5995cfb3c966c74378af1a&unitsmetric&q=stornoway\n",
      "http://api.openweathermap.org/data/2.5/weather?appid=04fd34c2ec5995cfb3c966c74378af1a&unitsmetric&q=sindor\n",
      "http://api.openweathermap.org/data/2.5/weather?appid=04fd34c2ec5995cfb3c966c74378af1a&unitsmetric&q=trinidad\n",
      "http://api.openweathermap.org/data/2.5/weather?appid=04fd34c2ec5995cfb3c966c74378af1a&unitsmetric&q=kotdwara\n",
      "http://api.openweathermap.org/data/2.5/weather?appid=04fd34c2ec5995cfb3c966c74378af1a&unitsmetric&q=panji\n",
      "http://api.openweathermap.org/data/2.5/weather?appid=04fd34c2ec5995cfb3c966c74378af1a&unitsmetric&q=humaita\n",
      "http://api.openweathermap.org/data/2.5/weather?appid=04fd34c2ec5995cfb3c966c74378af1a&unitsmetric&q=boende\n",
      "http://api.openweathermap.org/data/2.5/weather?appid=04fd34c2ec5995cfb3c966c74378af1a&unitsmetric&q=prince rupert\n",
      "http://api.openweathermap.org/data/2.5/weather?appid=04fd34c2ec5995cfb3c966c74378af1a&unitsmetric&q=nakuru\n",
      "http://api.openweathermap.org/data/2.5/weather?appid=04fd34c2ec5995cfb3c966c74378af1a&unitsmetric&q=trairi\n",
      "http://api.openweathermap.org/data/2.5/weather?appid=04fd34c2ec5995cfb3c966c74378af1a&unitsmetric&q=the valley\n",
      "http://api.openweathermap.org/data/2.5/weather?appid=04fd34c2ec5995cfb3c966c74378af1a&unitsmetric&q=north bend\n",
      "http://api.openweathermap.org/data/2.5/weather?appid=04fd34c2ec5995cfb3c966c74378af1a&unitsmetric&q=moranbah\n",
      "http://api.openweathermap.org/data/2.5/weather?appid=04fd34c2ec5995cfb3c966c74378af1a&unitsmetric&q=port hawkesbury\n",
      "http://api.openweathermap.org/data/2.5/weather?appid=04fd34c2ec5995cfb3c966c74378af1a&unitsmetric&q=pushkino\n",
      "http://api.openweathermap.org/data/2.5/weather?appid=04fd34c2ec5995cfb3c966c74378af1a&unitsmetric&q=conakry\n",
      "http://api.openweathermap.org/data/2.5/weather?appid=04fd34c2ec5995cfb3c966c74378af1a&unitsmetric&q=acapulco\n",
      "http://api.openweathermap.org/data/2.5/weather?appid=04fd34c2ec5995cfb3c966c74378af1a&unitsmetric&q=vestmannaeyjar\n",
      "http://api.openweathermap.org/data/2.5/weather?appid=04fd34c2ec5995cfb3c966c74378af1a&unitsmetric&q=cozumel\n",
      "http://api.openweathermap.org/data/2.5/weather?appid=04fd34c2ec5995cfb3c966c74378af1a&unitsmetric&q=jardim\n",
      "http://api.openweathermap.org/data/2.5/weather?appid=04fd34c2ec5995cfb3c966c74378af1a&unitsmetric&q=scarborough\n",
      "http://api.openweathermap.org/data/2.5/weather?appid=04fd34c2ec5995cfb3c966c74378af1a&unitsmetric&q=auka\n",
      "http://api.openweathermap.org/data/2.5/weather?appid=04fd34c2ec5995cfb3c966c74378af1a&unitsmetric&q=koundara\n",
      "http://api.openweathermap.org/data/2.5/weather?appid=04fd34c2ec5995cfb3c966c74378af1a&unitsmetric&q=sobolevo\n",
      "http://api.openweathermap.org/data/2.5/weather?appid=04fd34c2ec5995cfb3c966c74378af1a&unitsmetric&q=russell\n",
      "http://api.openweathermap.org/data/2.5/weather?appid=04fd34c2ec5995cfb3c966c74378af1a&unitsmetric&q=laukaa\n",
      "http://api.openweathermap.org/data/2.5/weather?appid=04fd34c2ec5995cfb3c966c74378af1a&unitsmetric&q=miracema do tocantins\n",
      "http://api.openweathermap.org/data/2.5/weather?appid=04fd34c2ec5995cfb3c966c74378af1a&unitsmetric&q=sentyabrskiy\n",
      "#####City not found#####\n",
      "http://api.openweathermap.org/data/2.5/weather?appid=04fd34c2ec5995cfb3c966c74378af1a&unitsmetric&q=kolimvari\n",
      "#####City not found#####\n",
      "http://api.openweathermap.org/data/2.5/weather?appid=04fd34c2ec5995cfb3c966c74378af1a&unitsmetric&q=sao miguel do araguaia\n",
      "http://api.openweathermap.org/data/2.5/weather?appid=04fd34c2ec5995cfb3c966c74378af1a&unitsmetric&q=balikpapan\n",
      "http://api.openweathermap.org/data/2.5/weather?appid=04fd34c2ec5995cfb3c966c74378af1a&unitsmetric&q=belmonte\n",
      "http://api.openweathermap.org/data/2.5/weather?appid=04fd34c2ec5995cfb3c966c74378af1a&unitsmetric&q=yambio\n",
      "http://api.openweathermap.org/data/2.5/weather?appid=04fd34c2ec5995cfb3c966c74378af1a&unitsmetric&q=qingdao\n",
      "http://api.openweathermap.org/data/2.5/weather?appid=04fd34c2ec5995cfb3c966c74378af1a&unitsmetric&q=ponta delgada\n",
      "http://api.openweathermap.org/data/2.5/weather?appid=04fd34c2ec5995cfb3c966c74378af1a&unitsmetric&q=ixtapa\n",
      "http://api.openweathermap.org/data/2.5/weather?appid=04fd34c2ec5995cfb3c966c74378af1a&unitsmetric&q=puerto ayacucho\n",
      "http://api.openweathermap.org/data/2.5/weather?appid=04fd34c2ec5995cfb3c966c74378af1a&unitsmetric&q=bokovskaya\n",
      "http://api.openweathermap.org/data/2.5/weather?appid=04fd34c2ec5995cfb3c966c74378af1a&unitsmetric&q=hanmer springs\n",
      "http://api.openweathermap.org/data/2.5/weather?appid=04fd34c2ec5995cfb3c966c74378af1a&unitsmetric&q=pochutla\n"
     ]
    },
    {
     "name": "stdout",
     "output_type": "stream",
     "text": [
      "http://api.openweathermap.org/data/2.5/weather?appid=04fd34c2ec5995cfb3c966c74378af1a&unitsmetric&q=bull savanna\n",
      "http://api.openweathermap.org/data/2.5/weather?appid=04fd34c2ec5995cfb3c966c74378af1a&unitsmetric&q=togur\n",
      "http://api.openweathermap.org/data/2.5/weather?appid=04fd34c2ec5995cfb3c966c74378af1a&unitsmetric&q=amol\n",
      "http://api.openweathermap.org/data/2.5/weather?appid=04fd34c2ec5995cfb3c966c74378af1a&unitsmetric&q=padang\n",
      "http://api.openweathermap.org/data/2.5/weather?appid=04fd34c2ec5995cfb3c966c74378af1a&unitsmetric&q=toliary\n",
      "#####City not found#####\n",
      "http://api.openweathermap.org/data/2.5/weather?appid=04fd34c2ec5995cfb3c966c74378af1a&unitsmetric&q=bandarbeyla\n",
      "http://api.openweathermap.org/data/2.5/weather?appid=04fd34c2ec5995cfb3c966c74378af1a&unitsmetric&q=bloomington\n",
      "http://api.openweathermap.org/data/2.5/weather?appid=04fd34c2ec5995cfb3c966c74378af1a&unitsmetric&q=chernyshevskiy\n",
      "http://api.openweathermap.org/data/2.5/weather?appid=04fd34c2ec5995cfb3c966c74378af1a&unitsmetric&q=bardiyah\n",
      "http://api.openweathermap.org/data/2.5/weather?appid=04fd34c2ec5995cfb3c966c74378af1a&unitsmetric&q=mogadishu\n",
      "http://api.openweathermap.org/data/2.5/weather?appid=04fd34c2ec5995cfb3c966c74378af1a&unitsmetric&q=kurilsk\n",
      "http://api.openweathermap.org/data/2.5/weather?appid=04fd34c2ec5995cfb3c966c74378af1a&unitsmetric&q=weihe\n",
      "http://api.openweathermap.org/data/2.5/weather?appid=04fd34c2ec5995cfb3c966c74378af1a&unitsmetric&q=srednekolymsk\n",
      "http://api.openweathermap.org/data/2.5/weather?appid=04fd34c2ec5995cfb3c966c74378af1a&unitsmetric&q=ichchapuram\n",
      "http://api.openweathermap.org/data/2.5/weather?appid=04fd34c2ec5995cfb3c966c74378af1a&unitsmetric&q=gualeguay\n",
      "http://api.openweathermap.org/data/2.5/weather?appid=04fd34c2ec5995cfb3c966c74378af1a&unitsmetric&q=formoso do araguaia\n",
      "#####City not found#####\n",
      "http://api.openweathermap.org/data/2.5/weather?appid=04fd34c2ec5995cfb3c966c74378af1a&unitsmetric&q=rantepao\n",
      "http://api.openweathermap.org/data/2.5/weather?appid=04fd34c2ec5995cfb3c966c74378af1a&unitsmetric&q=matay\n",
      "http://api.openweathermap.org/data/2.5/weather?appid=04fd34c2ec5995cfb3c966c74378af1a&unitsmetric&q=chimbote\n",
      "http://api.openweathermap.org/data/2.5/weather?appid=04fd34c2ec5995cfb3c966c74378af1a&unitsmetric&q=tilichiki\n",
      "http://api.openweathermap.org/data/2.5/weather?appid=04fd34c2ec5995cfb3c966c74378af1a&unitsmetric&q=san-pedro\n",
      "http://api.openweathermap.org/data/2.5/weather?appid=04fd34c2ec5995cfb3c966c74378af1a&unitsmetric&q=werda\n",
      "http://api.openweathermap.org/data/2.5/weather?appid=04fd34c2ec5995cfb3c966c74378af1a&unitsmetric&q=marrakesh\n",
      "http://api.openweathermap.org/data/2.5/weather?appid=04fd34c2ec5995cfb3c966c74378af1a&unitsmetric&q=kyzyl-suu\n",
      "http://api.openweathermap.org/data/2.5/weather?appid=04fd34c2ec5995cfb3c966c74378af1a&unitsmetric&q=coolum beach\n",
      "http://api.openweathermap.org/data/2.5/weather?appid=04fd34c2ec5995cfb3c966c74378af1a&unitsmetric&q=plettenberg bay\n",
      "http://api.openweathermap.org/data/2.5/weather?appid=04fd34c2ec5995cfb3c966c74378af1a&unitsmetric&q=bridlington\n",
      "http://api.openweathermap.org/data/2.5/weather?appid=04fd34c2ec5995cfb3c966c74378af1a&unitsmetric&q=laranjeiras do sul\n",
      "http://api.openweathermap.org/data/2.5/weather?appid=04fd34c2ec5995cfb3c966c74378af1a&unitsmetric&q=beloha\n",
      "http://api.openweathermap.org/data/2.5/weather?appid=04fd34c2ec5995cfb3c966c74378af1a&unitsmetric&q=mackay\n",
      "http://api.openweathermap.org/data/2.5/weather?appid=04fd34c2ec5995cfb3c966c74378af1a&unitsmetric&q=kalomo\n",
      "#####City not found#####\n",
      "http://api.openweathermap.org/data/2.5/weather?appid=04fd34c2ec5995cfb3c966c74378af1a&unitsmetric&q=alamosa\n",
      "http://api.openweathermap.org/data/2.5/weather?appid=04fd34c2ec5995cfb3c966c74378af1a&unitsmetric&q=vostok\n",
      "http://api.openweathermap.org/data/2.5/weather?appid=04fd34c2ec5995cfb3c966c74378af1a&unitsmetric&q=verkh-suetka\n",
      "http://api.openweathermap.org/data/2.5/weather?appid=04fd34c2ec5995cfb3c966c74378af1a&unitsmetric&q=waipawa\n",
      "http://api.openweathermap.org/data/2.5/weather?appid=04fd34c2ec5995cfb3c966c74378af1a&unitsmetric&q=benton harbor\n",
      "http://api.openweathermap.org/data/2.5/weather?appid=04fd34c2ec5995cfb3c966c74378af1a&unitsmetric&q=jacareacanga\n",
      "http://api.openweathermap.org/data/2.5/weather?appid=04fd34c2ec5995cfb3c966c74378af1a&unitsmetric&q=luangwa\n",
      "http://api.openweathermap.org/data/2.5/weather?appid=04fd34c2ec5995cfb3c966c74378af1a&unitsmetric&q=ascension\n",
      "http://api.openweathermap.org/data/2.5/weather?appid=04fd34c2ec5995cfb3c966c74378af1a&unitsmetric&q=kigorobya\n",
      "http://api.openweathermap.org/data/2.5/weather?appid=04fd34c2ec5995cfb3c966c74378af1a&unitsmetric&q=tyukhtet\n",
      "http://api.openweathermap.org/data/2.5/weather?appid=04fd34c2ec5995cfb3c966c74378af1a&unitsmetric&q=egvekinot\n",
      "http://api.openweathermap.org/data/2.5/weather?appid=04fd34c2ec5995cfb3c966c74378af1a&unitsmetric&q=sangar\n",
      "http://api.openweathermap.org/data/2.5/weather?appid=04fd34c2ec5995cfb3c966c74378af1a&unitsmetric&q=southbridge\n",
      "http://api.openweathermap.org/data/2.5/weather?appid=04fd34c2ec5995cfb3c966c74378af1a&unitsmetric&q=charleston\n",
      "http://api.openweathermap.org/data/2.5/weather?appid=04fd34c2ec5995cfb3c966c74378af1a&unitsmetric&q=teguise\n",
      "http://api.openweathermap.org/data/2.5/weather?appid=04fd34c2ec5995cfb3c966c74378af1a&unitsmetric&q=kroya\n",
      "http://api.openweathermap.org/data/2.5/weather?appid=04fd34c2ec5995cfb3c966c74378af1a&unitsmetric&q=lompoc\n",
      "http://api.openweathermap.org/data/2.5/weather?appid=04fd34c2ec5995cfb3c966c74378af1a&unitsmetric&q=erzin\n",
      "http://api.openweathermap.org/data/2.5/weather?appid=04fd34c2ec5995cfb3c966c74378af1a&unitsmetric&q=gornyye klyuchi\n",
      "http://api.openweathermap.org/data/2.5/weather?appid=04fd34c2ec5995cfb3c966c74378af1a&unitsmetric&q=lockhart\n",
      "http://api.openweathermap.org/data/2.5/weather?appid=04fd34c2ec5995cfb3c966c74378af1a&unitsmetric&q=myitkyina\n",
      "http://api.openweathermap.org/data/2.5/weather?appid=04fd34c2ec5995cfb3c966c74378af1a&unitsmetric&q=gibara\n",
      "http://api.openweathermap.org/data/2.5/weather?appid=04fd34c2ec5995cfb3c966c74378af1a&unitsmetric&q=inta\n",
      "http://api.openweathermap.org/data/2.5/weather?appid=04fd34c2ec5995cfb3c966c74378af1a&unitsmetric&q=cidreira\n",
      "http://api.openweathermap.org/data/2.5/weather?appid=04fd34c2ec5995cfb3c966c74378af1a&unitsmetric&q=te anau\n",
      "http://api.openweathermap.org/data/2.5/weather?appid=04fd34c2ec5995cfb3c966c74378af1a&unitsmetric&q=batman\n",
      "http://api.openweathermap.org/data/2.5/weather?appid=04fd34c2ec5995cfb3c966c74378af1a&unitsmetric&q=carroll\n",
      "http://api.openweathermap.org/data/2.5/weather?appid=04fd34c2ec5995cfb3c966c74378af1a&unitsmetric&q=castrovillari\n",
      "http://api.openweathermap.org/data/2.5/weather?appid=04fd34c2ec5995cfb3c966c74378af1a&unitsmetric&q=jalu\n",
      "http://api.openweathermap.org/data/2.5/weather?appid=04fd34c2ec5995cfb3c966c74378af1a&unitsmetric&q=mollendo\n",
      "http://api.openweathermap.org/data/2.5/weather?appid=04fd34c2ec5995cfb3c966c74378af1a&unitsmetric&q=honningsvag\n",
      "http://api.openweathermap.org/data/2.5/weather?appid=04fd34c2ec5995cfb3c966c74378af1a&unitsmetric&q=chimoio\n",
      "http://api.openweathermap.org/data/2.5/weather?appid=04fd34c2ec5995cfb3c966c74378af1a&unitsmetric&q=half moon bay\n",
      "http://api.openweathermap.org/data/2.5/weather?appid=04fd34c2ec5995cfb3c966c74378af1a&unitsmetric&q=saint anthony\n",
      "http://api.openweathermap.org/data/2.5/weather?appid=04fd34c2ec5995cfb3c966c74378af1a&unitsmetric&q=anshun\n",
      "http://api.openweathermap.org/data/2.5/weather?appid=04fd34c2ec5995cfb3c966c74378af1a&unitsmetric&q=goderich\n",
      "http://api.openweathermap.org/data/2.5/weather?appid=04fd34c2ec5995cfb3c966c74378af1a&unitsmetric&q=miranda do corvo\n",
      "http://api.openweathermap.org/data/2.5/weather?appid=04fd34c2ec5995cfb3c966c74378af1a&unitsmetric&q=ijaki\n",
      "#####City not found#####\n",
      "http://api.openweathermap.org/data/2.5/weather?appid=04fd34c2ec5995cfb3c966c74378af1a&unitsmetric&q=nadym\n",
      "http://api.openweathermap.org/data/2.5/weather?appid=04fd34c2ec5995cfb3c966c74378af1a&unitsmetric&q=flagstaff\n",
      "http://api.openweathermap.org/data/2.5/weather?appid=04fd34c2ec5995cfb3c966c74378af1a&unitsmetric&q=suluq\n",
      "http://api.openweathermap.org/data/2.5/weather?appid=04fd34c2ec5995cfb3c966c74378af1a&unitsmetric&q=san vicente\n",
      "http://api.openweathermap.org/data/2.5/weather?appid=04fd34c2ec5995cfb3c966c74378af1a&unitsmetric&q=hachinohe\n"
     ]
    },
    {
     "name": "stdout",
     "output_type": "stream",
     "text": [
      "http://api.openweathermap.org/data/2.5/weather?appid=04fd34c2ec5995cfb3c966c74378af1a&unitsmetric&q=khilok\n",
      "http://api.openweathermap.org/data/2.5/weather?appid=04fd34c2ec5995cfb3c966c74378af1a&unitsmetric&q=baoying\n",
      "http://api.openweathermap.org/data/2.5/weather?appid=04fd34c2ec5995cfb3c966c74378af1a&unitsmetric&q=bowen\n",
      "http://api.openweathermap.org/data/2.5/weather?appid=04fd34c2ec5995cfb3c966c74378af1a&unitsmetric&q=okandja\n",
      "#####City not found#####\n",
      "http://api.openweathermap.org/data/2.5/weather?appid=04fd34c2ec5995cfb3c966c74378af1a&unitsmetric&q=cuiluan\n",
      "http://api.openweathermap.org/data/2.5/weather?appid=04fd34c2ec5995cfb3c966c74378af1a&unitsmetric&q=gazanjyk\n",
      "http://api.openweathermap.org/data/2.5/weather?appid=04fd34c2ec5995cfb3c966c74378af1a&unitsmetric&q=kovur\n",
      "http://api.openweathermap.org/data/2.5/weather?appid=04fd34c2ec5995cfb3c966c74378af1a&unitsmetric&q=west fargo\n",
      "http://api.openweathermap.org/data/2.5/weather?appid=04fd34c2ec5995cfb3c966c74378af1a&unitsmetric&q=kieta\n",
      "http://api.openweathermap.org/data/2.5/weather?appid=04fd34c2ec5995cfb3c966c74378af1a&unitsmetric&q=evensk\n",
      "http://api.openweathermap.org/data/2.5/weather?appid=04fd34c2ec5995cfb3c966c74378af1a&unitsmetric&q=benjamin constant\n",
      "http://api.openweathermap.org/data/2.5/weather?appid=04fd34c2ec5995cfb3c966c74378af1a&unitsmetric&q=north myrtle beach\n",
      "http://api.openweathermap.org/data/2.5/weather?appid=04fd34c2ec5995cfb3c966c74378af1a&unitsmetric&q=grand river south east\n",
      "#####City not found#####\n",
      "http://api.openweathermap.org/data/2.5/weather?appid=04fd34c2ec5995cfb3c966c74378af1a&unitsmetric&q=partenit\n",
      "http://api.openweathermap.org/data/2.5/weather?appid=04fd34c2ec5995cfb3c966c74378af1a&unitsmetric&q=malwan\n",
      "#####City not found#####\n",
      "http://api.openweathermap.org/data/2.5/weather?appid=04fd34c2ec5995cfb3c966c74378af1a&unitsmetric&q=yabelo\n",
      "http://api.openweathermap.org/data/2.5/weather?appid=04fd34c2ec5995cfb3c966c74378af1a&unitsmetric&q=poya\n",
      "http://api.openweathermap.org/data/2.5/weather?appid=04fd34c2ec5995cfb3c966c74378af1a&unitsmetric&q=xingyi\n",
      "http://api.openweathermap.org/data/2.5/weather?appid=04fd34c2ec5995cfb3c966c74378af1a&unitsmetric&q=comodoro rivadavia\n",
      "http://api.openweathermap.org/data/2.5/weather?appid=04fd34c2ec5995cfb3c966c74378af1a&unitsmetric&q=korla\n",
      "http://api.openweathermap.org/data/2.5/weather?appid=04fd34c2ec5995cfb3c966c74378af1a&unitsmetric&q=plastun\n",
      "Done!!\n"
     ]
    }
   ],
   "source": [
    "#make list to store parameters to request/store\n",
    "L_city = []\n",
    "L_lat = []\n",
    "L_lng = []\n",
    "L_cloudiness = []\n",
    "L_country = []\n",
    "L_date = []\n",
    "L_humidity = []\n",
    "L_tempMaX = []\n",
    "wind_speed_list = []\n",
    "index_counter = 0\n",
    "set_counter = 1\n",
    "\n",
    "#loop throgh \"cities\"\n",
    "for index, city in enumerate(cities, start = 1):\n",
    "    try:\n",
    "        print(query_url+city)\n",
    "        response = requests.get(query_url + city).json()\n",
    "        L_city.append(response[\"name\"])\n",
    "        L_cloudiness.append(response[\"clouds\"][\"all\"])\n",
    "        L_country.append(response[\"sys\"][\"country\"])\n",
    "        L_date.append(response[\"dt\"])\n",
    "        L_humidity.append(response[\"main\"][\"humidity\"])\n",
    "        L_lat.append(response[\"coord\"][\"lat\"])\n",
    "        L_lng.append(response[\"coord\"][\"lon\"])\n",
    "        L_tempMaX.append(response['main']['temp_max'])\n",
    "        wind_speed_list.append(response[\"wind\"][\"speed\"])\n",
    "        if index_counter > 49:\n",
    "            index_counter = 0\n",
    "            set_counter = set_counter + 1\n",
    "    \n",
    "        else:\n",
    "            index_counter = index_counter + 1\n",
    "         # limit query time\n",
    "        time.sleep(0.01)\n",
    "            \n",
    "        \n",
    "    except(KeyError, IndexError):\n",
    "        print(\"#####City not found#####\")\n",
    "\n",
    "print(\"Done!!\")\n"
   ]
  },
  {
   "cell_type": "markdown",
   "metadata": {},
   "source": [
    "### Convert Raw Data to DataFrame\n",
    "* Export the city data into a .csv.\n",
    "* Display the DataFrame\n"
   ]
  },
  {
   "cell_type": "code",
   "execution_count": 6,
   "metadata": {},
   "outputs": [
    {
     "name": "stdout",
     "output_type": "stream",
     "text": [
      "                         City Country      Lat       Lng  Cloudiness  \\\n",
      "0                    Ust-Nera      RU  64.5667  143.2000         100   \n",
      "1                     Mataura      NZ -46.1927  168.8643          96   \n",
      "2    Arrondissement de Tarbes      FR  43.2500    0.1667          90   \n",
      "3                     Rikitea      PF -23.1203 -134.9692         100   \n",
      "4               Mount Gambier      AU -37.8333  140.7667          75   \n",
      "..                        ...     ...      ...       ...         ...   \n",
      "558                      Poya      NC -21.3500  165.1500           0   \n",
      "559                    Xingyi      CN  24.1877  102.8170          85   \n",
      "560        Comodoro Rivadavia      AR -45.8667  -67.5000           0   \n",
      "561                     Korla      CN  41.7597   86.1469          19   \n",
      "562                   Plastun      RU  44.7561  136.2939          99   \n",
      "\n",
      "           Date  Humidity  Max Temp  Wind Speed  \n",
      "0    1619589051        89    274.29        1.07  \n",
      "1    1619589051        87    285.93        4.02  \n",
      "2    1619589051        93    283.15        1.54  \n",
      "3    1619589052        73    298.14        5.03  \n",
      "4    1619589052        63    290.15        3.09  \n",
      "..          ...       ...       ...         ...  \n",
      "558  1619589236        61    296.14        4.66  \n",
      "559  1619589236        43    298.18        3.39  \n",
      "560  1619589236        51    287.15        4.63  \n",
      "561  1619589235        18    296.39        7.53  \n",
      "562  1619589237        97    278.61        1.46  \n",
      "\n",
      "[563 rows x 9 columns]\n"
     ]
    }
   ],
   "source": [
    "# Create a panda data frame using data retrieved\n",
    "weather_byCity = pd.DataFrame({ \n",
    "                \"City\" : L_city,\n",
    "                \"Country\" : L_country,\n",
    "                \"Lat\" : L_lat,\n",
    "                \"Lng\" : L_lng,    \n",
    "                \"Cloudiness\" : L_cloudiness,                \n",
    "                \"Date\" : L_date,\n",
    "                \"Humidity\" : L_humidity,                \n",
    "                \"Max Temp\" : L_tempMaX,\n",
    "                \"Wind Speed\" : wind_speed_list\n",
    "})\n",
    "#export to csv\n",
    "weather_byCity .to_csv('WeaterBycity.csv')\n",
    "\n",
    "print(weather_byCity)"
   ]
  },
  {
   "cell_type": "markdown",
   "metadata": {},
   "source": [
    "## Inspect the data and remove the cities where the humidity > 100%.\n",
    "----\n",
    "Skip this step if there are no cities that have humidity > 100%. "
   ]
  },
  {
   "cell_type": "code",
   "execution_count": 10,
   "metadata": {},
   "outputs": [
    {
     "data": {
      "text/plain": [
       "count    563.000000\n",
       "mean      70.060391\n",
       "std       22.263864\n",
       "min        1.000000\n",
       "25%       58.500000\n",
       "50%       75.000000\n",
       "75%       87.000000\n",
       "max      100.000000\n",
       "Name: Humidity, dtype: float64"
      ]
     },
     "execution_count": 10,
     "metadata": {},
     "output_type": "execute_result"
    }
   ],
   "source": [
    "checkAbove100= weather_byCity['Humidity'].describe(include='all')\n",
    "checkAbove100"
   ]
  },
  {
   "cell_type": "markdown",
   "metadata": {},
   "source": [
    "No cities above 100%"
   ]
  },
  {
   "cell_type": "code",
   "execution_count": 13,
   "metadata": {},
   "outputs": [
    {
     "data": {
      "text/plain": [
       "563"
      ]
     },
     "execution_count": 13,
     "metadata": {},
     "output_type": "execute_result"
    }
   ],
   "source": [
    "#make df with <=100% humidity\n",
    "Lessthan100 = weather_byCity.loc[weather_byCity['Humidity']<=100]\n",
    "len(Lessthan100)"
   ]
  },
  {
   "cell_type": "code",
   "execution_count": 17,
   "metadata": {},
   "outputs": [
    {
     "data": {
      "text/plain": [
       "Int64Index([], dtype='int64')"
      ]
     },
     "execution_count": 17,
     "metadata": {},
     "output_type": "execute_result"
    }
   ],
   "source": [
    "#  Get the indices of cities that have humidity over 100%.\n",
    "index100 = weather_byCity\n",
    "bool_arr = index\n",
    "output =np.where\n",
    "\n"
   ]
  },
  {
   "cell_type": "code",
   "execution_count": 14,
   "metadata": {},
   "outputs": [],
   "source": [
    "# Make a new DataFrame equal to the city data to drop all humidity outliers by index.\n",
    "# Passing \"inplace=False\" will make a copy of the city_data DataFrame, which we call \"clean_city_data\".\n",
    "clean_city_data = Lessthan100"
   ]
  },
  {
   "cell_type": "code",
   "execution_count": 15,
   "metadata": {},
   "outputs": [
    {
     "data": {
      "text/html": [
       "<div>\n",
       "<style scoped>\n",
       "    .dataframe tbody tr th:only-of-type {\n",
       "        vertical-align: middle;\n",
       "    }\n",
       "\n",
       "    .dataframe tbody tr th {\n",
       "        vertical-align: top;\n",
       "    }\n",
       "\n",
       "    .dataframe thead th {\n",
       "        text-align: right;\n",
       "    }\n",
       "</style>\n",
       "<table border=\"1\" class=\"dataframe\">\n",
       "  <thead>\n",
       "    <tr style=\"text-align: right;\">\n",
       "      <th></th>\n",
       "      <th>City</th>\n",
       "      <th>Country</th>\n",
       "      <th>Lat</th>\n",
       "      <th>Lng</th>\n",
       "      <th>Cloudiness</th>\n",
       "      <th>Date</th>\n",
       "      <th>Humidity</th>\n",
       "      <th>Max Temp</th>\n",
       "      <th>Wind Speed</th>\n",
       "    </tr>\n",
       "  </thead>\n",
       "  <tbody>\n",
       "    <tr>\n",
       "      <th>0</th>\n",
       "      <td>Ust-Nera</td>\n",
       "      <td>RU</td>\n",
       "      <td>64.5667</td>\n",
       "      <td>143.2000</td>\n",
       "      <td>100</td>\n",
       "      <td>1619589051</td>\n",
       "      <td>89</td>\n",
       "      <td>274.29</td>\n",
       "      <td>1.07</td>\n",
       "    </tr>\n",
       "    <tr>\n",
       "      <th>1</th>\n",
       "      <td>Mataura</td>\n",
       "      <td>NZ</td>\n",
       "      <td>-46.1927</td>\n",
       "      <td>168.8643</td>\n",
       "      <td>96</td>\n",
       "      <td>1619589051</td>\n",
       "      <td>87</td>\n",
       "      <td>285.93</td>\n",
       "      <td>4.02</td>\n",
       "    </tr>\n",
       "    <tr>\n",
       "      <th>2</th>\n",
       "      <td>Arrondissement de Tarbes</td>\n",
       "      <td>FR</td>\n",
       "      <td>43.2500</td>\n",
       "      <td>0.1667</td>\n",
       "      <td>90</td>\n",
       "      <td>1619589051</td>\n",
       "      <td>93</td>\n",
       "      <td>283.15</td>\n",
       "      <td>1.54</td>\n",
       "    </tr>\n",
       "    <tr>\n",
       "      <th>3</th>\n",
       "      <td>Rikitea</td>\n",
       "      <td>PF</td>\n",
       "      <td>-23.1203</td>\n",
       "      <td>-134.9692</td>\n",
       "      <td>100</td>\n",
       "      <td>1619589052</td>\n",
       "      <td>73</td>\n",
       "      <td>298.14</td>\n",
       "      <td>5.03</td>\n",
       "    </tr>\n",
       "    <tr>\n",
       "      <th>4</th>\n",
       "      <td>Mount Gambier</td>\n",
       "      <td>AU</td>\n",
       "      <td>-37.8333</td>\n",
       "      <td>140.7667</td>\n",
       "      <td>75</td>\n",
       "      <td>1619589052</td>\n",
       "      <td>63</td>\n",
       "      <td>290.15</td>\n",
       "      <td>3.09</td>\n",
       "    </tr>\n",
       "    <tr>\n",
       "      <th>...</th>\n",
       "      <td>...</td>\n",
       "      <td>...</td>\n",
       "      <td>...</td>\n",
       "      <td>...</td>\n",
       "      <td>...</td>\n",
       "      <td>...</td>\n",
       "      <td>...</td>\n",
       "      <td>...</td>\n",
       "      <td>...</td>\n",
       "    </tr>\n",
       "    <tr>\n",
       "      <th>558</th>\n",
       "      <td>Poya</td>\n",
       "      <td>NC</td>\n",
       "      <td>-21.3500</td>\n",
       "      <td>165.1500</td>\n",
       "      <td>0</td>\n",
       "      <td>1619589236</td>\n",
       "      <td>61</td>\n",
       "      <td>296.14</td>\n",
       "      <td>4.66</td>\n",
       "    </tr>\n",
       "    <tr>\n",
       "      <th>559</th>\n",
       "      <td>Xingyi</td>\n",
       "      <td>CN</td>\n",
       "      <td>24.1877</td>\n",
       "      <td>102.8170</td>\n",
       "      <td>85</td>\n",
       "      <td>1619589236</td>\n",
       "      <td>43</td>\n",
       "      <td>298.18</td>\n",
       "      <td>3.39</td>\n",
       "    </tr>\n",
       "    <tr>\n",
       "      <th>560</th>\n",
       "      <td>Comodoro Rivadavia</td>\n",
       "      <td>AR</td>\n",
       "      <td>-45.8667</td>\n",
       "      <td>-67.5000</td>\n",
       "      <td>0</td>\n",
       "      <td>1619589236</td>\n",
       "      <td>51</td>\n",
       "      <td>287.15</td>\n",
       "      <td>4.63</td>\n",
       "    </tr>\n",
       "    <tr>\n",
       "      <th>561</th>\n",
       "      <td>Korla</td>\n",
       "      <td>CN</td>\n",
       "      <td>41.7597</td>\n",
       "      <td>86.1469</td>\n",
       "      <td>19</td>\n",
       "      <td>1619589235</td>\n",
       "      <td>18</td>\n",
       "      <td>296.39</td>\n",
       "      <td>7.53</td>\n",
       "    </tr>\n",
       "    <tr>\n",
       "      <th>562</th>\n",
       "      <td>Plastun</td>\n",
       "      <td>RU</td>\n",
       "      <td>44.7561</td>\n",
       "      <td>136.2939</td>\n",
       "      <td>99</td>\n",
       "      <td>1619589237</td>\n",
       "      <td>97</td>\n",
       "      <td>278.61</td>\n",
       "      <td>1.46</td>\n",
       "    </tr>\n",
       "  </tbody>\n",
       "</table>\n",
       "<p>563 rows × 9 columns</p>\n",
       "</div>"
      ],
      "text/plain": [
       "                         City Country      Lat       Lng  Cloudiness  \\\n",
       "0                    Ust-Nera      RU  64.5667  143.2000         100   \n",
       "1                     Mataura      NZ -46.1927  168.8643          96   \n",
       "2    Arrondissement de Tarbes      FR  43.2500    0.1667          90   \n",
       "3                     Rikitea      PF -23.1203 -134.9692         100   \n",
       "4               Mount Gambier      AU -37.8333  140.7667          75   \n",
       "..                        ...     ...      ...       ...         ...   \n",
       "558                      Poya      NC -21.3500  165.1500           0   \n",
       "559                    Xingyi      CN  24.1877  102.8170          85   \n",
       "560        Comodoro Rivadavia      AR -45.8667  -67.5000           0   \n",
       "561                     Korla      CN  41.7597   86.1469          19   \n",
       "562                   Plastun      RU  44.7561  136.2939          99   \n",
       "\n",
       "           Date  Humidity  Max Temp  Wind Speed  \n",
       "0    1619589051        89    274.29        1.07  \n",
       "1    1619589051        87    285.93        4.02  \n",
       "2    1619589051        93    283.15        1.54  \n",
       "3    1619589052        73    298.14        5.03  \n",
       "4    1619589052        63    290.15        3.09  \n",
       "..          ...       ...       ...         ...  \n",
       "558  1619589236        61    296.14        4.66  \n",
       "559  1619589236        43    298.18        3.39  \n",
       "560  1619589236        51    287.15        4.63  \n",
       "561  1619589235        18    296.39        7.53  \n",
       "562  1619589237        97    278.61        1.46  \n",
       "\n",
       "[563 rows x 9 columns]"
      ]
     },
     "execution_count": 15,
     "metadata": {},
     "output_type": "execute_result"
    }
   ],
   "source": [
    "clean_city_data\n"
   ]
  },
  {
   "cell_type": "markdown",
   "metadata": {},
   "source": [
    "## Plotting the Data\n",
    "* Use proper labeling of the plots using plot titles (including date of analysis) and axes labels.\n",
    "* Save the plotted figures as .pngs."
   ]
  },
  {
   "cell_type": "markdown",
   "metadata": {},
   "source": [
    "## Latitude vs. Temperature Plot"
   ]
  },
  {
   "cell_type": "code",
   "execution_count": 27,
   "metadata": {
    "scrolled": true
   },
   "outputs": [
    {
     "data": {
      "image/png": "[encoded data removed]",
      "text/plain": [
       "<Figure size 432x288 with 1 Axes>"
      ]
     },
     "metadata": {
      "needs_background": "light"
     },
     "output_type": "display_data"
    }
   ],
   "source": [
    "#Make Plot lat vs max temp\n",
    "lat_vs_T_axes = clean_city_data.plot(kind=\"scatter\", x=\"Lat\", y=\"Max Temp\",  \n",
    "                                      title=\"Maximum Temperature (F) vs. City Latitude\")\n",
    "plt.grid(linestyle='-', linewidth=1, alpha = 0.5)\n",
    "plt.xlabel(\"latitude\")\n",
    "\n",
    "lat_vs_T_axes.get_figure().savefig(\"TempmaxVlatitude_All_Cities.png\")"
   ]
  },
  {
   "cell_type": "markdown",
   "metadata": {},
   "source": [
    "## Latitude vs. Humidity Plot"
   ]
  },
  {
   "cell_type": "code",
   "execution_count": 26,
   "metadata": {},
   "outputs": [
    {
     "data": {
      "image/png": "[encoded data removed]",
      "text/plain": [
       "<Figure size 432x288 with 1 Axes>"
      ]
     },
     "metadata": {
      "needs_background": "light"
     },
     "output_type": "display_data"
    }
   ],
   "source": [
    "#Make Plot lat vs max temp\n",
    "lat_vs_T_axes = clean_city_data.plot(kind=\"scatter\", x=\"Lat\", y=\"Humidity\",  \n",
    "                                      title=\"Humidity (%) vs. City Latitude\")\n",
    "plt.grid(linestyle='-', linewidth=1, alpha = 0.5)\n",
    "plt.xlabel(\"latitude\")\n",
    "\n",
    "lat_vs_T_axes.get_figure().savefig(\"HumidityVSLatitude_All_Cities.png\")"
   ]
  },
  {
   "cell_type": "markdown",
   "metadata": {},
   "source": [
    "## Latitude vs. Cloudiness Plot"
   ]
  },
  {
   "cell_type": "code",
   "execution_count": 28,
   "metadata": {},
   "outputs": [
    {
     "data": {
      "image/png": "[encoded data removed]",
      "text/plain": [
       "<Figure size 432x288 with 1 Axes>"
      ]
     },
     "metadata": {
      "needs_background": "light"
     },
     "output_type": "display_data"
    }
   ],
   "source": [
    "#Make Plot lat vs max temp\n",
    "lat_vs_T_axes = clean_city_data.plot(kind=\"scatter\", x=\"Lat\", y=\"Cloudiness\",  \n",
    "                                      title=\"Cloudiness vs. City Latitude\")\n",
    "plt.grid(linestyle='-', linewidth=1, alpha = 0.5)\n",
    "plt.xlabel(\"latitude\")\n",
    "\n",
    "lat_vs_T_axes.get_figure().savefig(\"CloudinessVSLatitude_All_Cities.png\")"
   ]
  },
  {
   "cell_type": "markdown",
   "metadata": {},
   "source": [
    "## Latitude vs. Wind Speed Plot"
   ]
  },
  {
   "cell_type": "code",
   "execution_count": 29,
   "metadata": {},
   "outputs": [
    {
     "data": {
      "image/png": "[encoded data removed]",
      "text/plain": [
       "<Figure size 432x288 with 1 Axes>"
      ]
     },
     "metadata": {
      "needs_background": "light"
     },
     "output_type": "display_data"
    }
   ],
   "source": [
    "#Make Plot lat vs max temp\n",
    "lat_vs_T_axes = clean_city_data.plot(kind=\"scatter\", x=\"Lat\", y=\"Wind Speed\",  \n",
    "                                      title=\"Wind Speed vs. City Latitude\")\n",
    "plt.grid(linestyle='-', linewidth=1, alpha = 0.5)\n",
    "plt.xlabel(\"latitude\")\n",
    "\n",
    "lat_vs_T_axes.get_figure().savefig(\"windspeedVSLatitude_All_Cities.png\")"
   ]
  },
  {
   "cell_type": "markdown",
   "metadata": {},
   "source": [
    "## Linear Regression"
   ]
  },
  {
   "cell_type": "markdown",
   "metadata": {},
   "source": [
    "####  Northern Hemisphere - Max Temp vs. Latitude Linear Regression"
   ]
  },
  {
   "cell_type": "code",
   "execution_count": 31,
   "metadata": {},
   "outputs": [
    {
     "data": {
      "text/html": [
       "<div>\n",
       "<style scoped>\n",
       "    .dataframe tbody tr th:only-of-type {\n",
       "        vertical-align: middle;\n",
       "    }\n",
       "\n",
       "    .dataframe tbody tr th {\n",
       "        vertical-align: top;\n",
       "    }\n",
       "\n",
       "    .dataframe thead th {\n",
       "        text-align: right;\n",
       "    }\n",
       "</style>\n",
       "<table border=\"1\" class=\"dataframe\">\n",
       "  <thead>\n",
       "    <tr style=\"text-align: right;\">\n",
       "      <th></th>\n",
       "      <th>City</th>\n",
       "      <th>Country</th>\n",
       "      <th>Lat</th>\n",
       "      <th>Lng</th>\n",
       "      <th>Cloudiness</th>\n",
       "      <th>Date</th>\n",
       "      <th>Humidity</th>\n",
       "      <th>Max Temp</th>\n",
       "      <th>Wind Speed</th>\n",
       "    </tr>\n",
       "  </thead>\n",
       "  <tbody>\n",
       "    <tr>\n",
       "      <th>0</th>\n",
       "      <td>Ust-Nera</td>\n",
       "      <td>RU</td>\n",
       "      <td>64.5667</td>\n",
       "      <td>143.2000</td>\n",
       "      <td>100</td>\n",
       "      <td>1619589051</td>\n",
       "      <td>89</td>\n",
       "      <td>274.29</td>\n",
       "      <td>1.07</td>\n",
       "    </tr>\n",
       "    <tr>\n",
       "      <th>2</th>\n",
       "      <td>Arrondissement de Tarbes</td>\n",
       "      <td>FR</td>\n",
       "      <td>43.2500</td>\n",
       "      <td>0.1667</td>\n",
       "      <td>90</td>\n",
       "      <td>1619589051</td>\n",
       "      <td>93</td>\n",
       "      <td>283.15</td>\n",
       "      <td>1.54</td>\n",
       "    </tr>\n",
       "    <tr>\n",
       "      <th>5</th>\n",
       "      <td>Pemangkat</td>\n",
       "      <td>ID</td>\n",
       "      <td>1.1667</td>\n",
       "      <td>108.9667</td>\n",
       "      <td>100</td>\n",
       "      <td>1619588767</td>\n",
       "      <td>72</td>\n",
       "      <td>300.71</td>\n",
       "      <td>2.96</td>\n",
       "    </tr>\n",
       "    <tr>\n",
       "      <th>6</th>\n",
       "      <td>George Town</td>\n",
       "      <td>MY</td>\n",
       "      <td>5.4112</td>\n",
       "      <td>100.3354</td>\n",
       "      <td>20</td>\n",
       "      <td>1619589053</td>\n",
       "      <td>74</td>\n",
       "      <td>304.15</td>\n",
       "      <td>3.09</td>\n",
       "    </tr>\n",
       "    <tr>\n",
       "      <th>7</th>\n",
       "      <td>Kandy</td>\n",
       "      <td>LK</td>\n",
       "      <td>7.2955</td>\n",
       "      <td>80.6356</td>\n",
       "      <td>88</td>\n",
       "      <td>1619589053</td>\n",
       "      <td>45</td>\n",
       "      <td>304.62</td>\n",
       "      <td>1.60</td>\n",
       "    </tr>\n",
       "    <tr>\n",
       "      <th>...</th>\n",
       "      <td>...</td>\n",
       "      <td>...</td>\n",
       "      <td>...</td>\n",
       "      <td>...</td>\n",
       "      <td>...</td>\n",
       "      <td>...</td>\n",
       "      <td>...</td>\n",
       "      <td>...</td>\n",
       "      <td>...</td>\n",
       "    </tr>\n",
       "    <tr>\n",
       "      <th>556</th>\n",
       "      <td>Partenit</td>\n",
       "      <td>UA</td>\n",
       "      <td>44.5780</td>\n",
       "      <td>34.3446</td>\n",
       "      <td>98</td>\n",
       "      <td>1619589235</td>\n",
       "      <td>46</td>\n",
       "      <td>286.48</td>\n",
       "      <td>4.41</td>\n",
       "    </tr>\n",
       "    <tr>\n",
       "      <th>557</th>\n",
       "      <td>Yabēlo</td>\n",
       "      <td>ET</td>\n",
       "      <td>4.8833</td>\n",
       "      <td>38.0833</td>\n",
       "      <td>25</td>\n",
       "      <td>1619589235</td>\n",
       "      <td>63</td>\n",
       "      <td>292.38</td>\n",
       "      <td>5.72</td>\n",
       "    </tr>\n",
       "    <tr>\n",
       "      <th>559</th>\n",
       "      <td>Xingyi</td>\n",
       "      <td>CN</td>\n",
       "      <td>24.1877</td>\n",
       "      <td>102.8170</td>\n",
       "      <td>85</td>\n",
       "      <td>1619589236</td>\n",
       "      <td>43</td>\n",
       "      <td>298.18</td>\n",
       "      <td>3.39</td>\n",
       "    </tr>\n",
       "    <tr>\n",
       "      <th>561</th>\n",
       "      <td>Korla</td>\n",
       "      <td>CN</td>\n",
       "      <td>41.7597</td>\n",
       "      <td>86.1469</td>\n",
       "      <td>19</td>\n",
       "      <td>1619589235</td>\n",
       "      <td>18</td>\n",
       "      <td>296.39</td>\n",
       "      <td>7.53</td>\n",
       "    </tr>\n",
       "    <tr>\n",
       "      <th>562</th>\n",
       "      <td>Plastun</td>\n",
       "      <td>RU</td>\n",
       "      <td>44.7561</td>\n",
       "      <td>136.2939</td>\n",
       "      <td>99</td>\n",
       "      <td>1619589237</td>\n",
       "      <td>97</td>\n",
       "      <td>278.61</td>\n",
       "      <td>1.46</td>\n",
       "    </tr>\n",
       "  </tbody>\n",
       "</table>\n",
       "<p>382 rows × 9 columns</p>\n",
       "</div>"
      ],
      "text/plain": [
       "                         City Country      Lat       Lng  Cloudiness  \\\n",
       "0                    Ust-Nera      RU  64.5667  143.2000         100   \n",
       "2    Arrondissement de Tarbes      FR  43.2500    0.1667          90   \n",
       "5                   Pemangkat      ID   1.1667  108.9667         100   \n",
       "6                 George Town      MY   5.4112  100.3354          20   \n",
       "7                       Kandy      LK   7.2955   80.6356          88   \n",
       "..                        ...     ...      ...       ...         ...   \n",
       "556                  Partenit      UA  44.5780   34.3446          98   \n",
       "557                    Yabēlo      ET   4.8833   38.0833          25   \n",
       "559                    Xingyi      CN  24.1877  102.8170          85   \n",
       "561                     Korla      CN  41.7597   86.1469          19   \n",
       "562                   Plastun      RU  44.7561  136.2939          99   \n",
       "\n",
       "           Date  Humidity  Max Temp  Wind Speed  \n",
       "0    1619589051        89    274.29        1.07  \n",
       "2    1619589051        93    283.15        1.54  \n",
       "5    1619588767        72    300.71        2.96  \n",
       "6    1619589053        74    304.15        3.09  \n",
       "7    1619589053        45    304.62        1.60  \n",
       "..          ...       ...       ...         ...  \n",
       "556  1619589235        46    286.48        4.41  \n",
       "557  1619589235        63    292.38        5.72  \n",
       "559  1619589236        43    298.18        3.39  \n",
       "561  1619589235        18    296.39        7.53  \n",
       "562  1619589237        97    278.61        1.46  \n",
       "\n",
       "[382 rows x 9 columns]"
      ]
     },
     "execution_count": 31,
     "metadata": {},
     "output_type": "execute_result"
    }
   ],
   "source": [
    "#northem hemisphere is define by lat >=0\n",
    "#create df for northemhemisfere\n",
    "North_df = clean_city_data.loc[(clean_city_data['Lat']>=0)]\n",
    "North_df"
   ]
  },
  {
   "cell_type": "code",
   "execution_count": 39,
   "metadata": {},
   "outputs": [
    {
     "data": {
      "text/html": [
       "<div>\n",
       "<style scoped>\n",
       "    .dataframe tbody tr th:only-of-type {\n",
       "        vertical-align: middle;\n",
       "    }\n",
       "\n",
       "    .dataframe tbody tr th {\n",
       "        vertical-align: top;\n",
       "    }\n",
       "\n",
       "    .dataframe thead th {\n",
       "        text-align: right;\n",
       "    }\n",
       "</style>\n",
       "<table border=\"1\" class=\"dataframe\">\n",
       "  <thead>\n",
       "    <tr style=\"text-align: right;\">\n",
       "      <th></th>\n",
       "      <th>City</th>\n",
       "      <th>Country</th>\n",
       "      <th>Lat</th>\n",
       "      <th>Lng</th>\n",
       "      <th>Cloudiness</th>\n",
       "      <th>Date</th>\n",
       "      <th>Humidity</th>\n",
       "      <th>Max Temp</th>\n",
       "      <th>Wind Speed</th>\n",
       "    </tr>\n",
       "  </thead>\n",
       "  <tbody>\n",
       "    <tr>\n",
       "      <th>1</th>\n",
       "      <td>Mataura</td>\n",
       "      <td>NZ</td>\n",
       "      <td>-46.1927</td>\n",
       "      <td>168.8643</td>\n",
       "      <td>96</td>\n",
       "      <td>1619589051</td>\n",
       "      <td>87</td>\n",
       "      <td>285.93</td>\n",
       "      <td>4.02</td>\n",
       "    </tr>\n",
       "    <tr>\n",
       "      <th>3</th>\n",
       "      <td>Rikitea</td>\n",
       "      <td>PF</td>\n",
       "      <td>-23.1203</td>\n",
       "      <td>-134.9692</td>\n",
       "      <td>100</td>\n",
       "      <td>1619589052</td>\n",
       "      <td>73</td>\n",
       "      <td>298.14</td>\n",
       "      <td>5.03</td>\n",
       "    </tr>\n",
       "    <tr>\n",
       "      <th>4</th>\n",
       "      <td>Mount Gambier</td>\n",
       "      <td>AU</td>\n",
       "      <td>-37.8333</td>\n",
       "      <td>140.7667</td>\n",
       "      <td>75</td>\n",
       "      <td>1619589052</td>\n",
       "      <td>63</td>\n",
       "      <td>290.15</td>\n",
       "      <td>3.09</td>\n",
       "    </tr>\n",
       "    <tr>\n",
       "      <th>8</th>\n",
       "      <td>Avarua</td>\n",
       "      <td>CK</td>\n",
       "      <td>-21.2078</td>\n",
       "      <td>-159.7750</td>\n",
       "      <td>20</td>\n",
       "      <td>1619589053</td>\n",
       "      <td>83</td>\n",
       "      <td>300.15</td>\n",
       "      <td>3.09</td>\n",
       "    </tr>\n",
       "    <tr>\n",
       "      <th>9</th>\n",
       "      <td>Hobart</td>\n",
       "      <td>AU</td>\n",
       "      <td>-42.8794</td>\n",
       "      <td>147.3294</td>\n",
       "      <td>75</td>\n",
       "      <td>1619589054</td>\n",
       "      <td>48</td>\n",
       "      <td>291.48</td>\n",
       "      <td>5.14</td>\n",
       "    </tr>\n",
       "    <tr>\n",
       "      <th>...</th>\n",
       "      <td>...</td>\n",
       "      <td>...</td>\n",
       "      <td>...</td>\n",
       "      <td>...</td>\n",
       "      <td>...</td>\n",
       "      <td>...</td>\n",
       "      <td>...</td>\n",
       "      <td>...</td>\n",
       "      <td>...</td>\n",
       "    </tr>\n",
       "    <tr>\n",
       "      <th>547</th>\n",
       "      <td>Bowen</td>\n",
       "      <td>AU</td>\n",
       "      <td>-20.0167</td>\n",
       "      <td>148.2333</td>\n",
       "      <td>90</td>\n",
       "      <td>1619589231</td>\n",
       "      <td>83</td>\n",
       "      <td>295.15</td>\n",
       "      <td>5.14</td>\n",
       "    </tr>\n",
       "    <tr>\n",
       "      <th>552</th>\n",
       "      <td>Kieta</td>\n",
       "      <td>PG</td>\n",
       "      <td>-6.2167</td>\n",
       "      <td>155.6333</td>\n",
       "      <td>80</td>\n",
       "      <td>1619589233</td>\n",
       "      <td>70</td>\n",
       "      <td>301.91</td>\n",
       "      <td>0.60</td>\n",
       "    </tr>\n",
       "    <tr>\n",
       "      <th>554</th>\n",
       "      <td>Benjamin Constant</td>\n",
       "      <td>BR</td>\n",
       "      <td>-4.3831</td>\n",
       "      <td>-70.0311</td>\n",
       "      <td>75</td>\n",
       "      <td>1619589234</td>\n",
       "      <td>100</td>\n",
       "      <td>296.15</td>\n",
       "      <td>1.11</td>\n",
       "    </tr>\n",
       "    <tr>\n",
       "      <th>558</th>\n",
       "      <td>Poya</td>\n",
       "      <td>NC</td>\n",
       "      <td>-21.3500</td>\n",
       "      <td>165.1500</td>\n",
       "      <td>0</td>\n",
       "      <td>1619589236</td>\n",
       "      <td>61</td>\n",
       "      <td>296.14</td>\n",
       "      <td>4.66</td>\n",
       "    </tr>\n",
       "    <tr>\n",
       "      <th>560</th>\n",
       "      <td>Comodoro Rivadavia</td>\n",
       "      <td>AR</td>\n",
       "      <td>-45.8667</td>\n",
       "      <td>-67.5000</td>\n",
       "      <td>0</td>\n",
       "      <td>1619589236</td>\n",
       "      <td>51</td>\n",
       "      <td>287.15</td>\n",
       "      <td>4.63</td>\n",
       "    </tr>\n",
       "  </tbody>\n",
       "</table>\n",
       "<p>181 rows × 9 columns</p>\n",
       "</div>"
      ],
      "text/plain": [
       "                   City Country      Lat       Lng  Cloudiness        Date  \\\n",
       "1               Mataura      NZ -46.1927  168.8643          96  1619589051   \n",
       "3               Rikitea      PF -23.1203 -134.9692         100  1619589052   \n",
       "4         Mount Gambier      AU -37.8333  140.7667          75  1619589052   \n",
       "8                Avarua      CK -21.2078 -159.7750          20  1619589053   \n",
       "9                Hobart      AU -42.8794  147.3294          75  1619589054   \n",
       "..                  ...     ...      ...       ...         ...         ...   \n",
       "547               Bowen      AU -20.0167  148.2333          90  1619589231   \n",
       "552               Kieta      PG  -6.2167  155.6333          80  1619589233   \n",
       "554   Benjamin Constant      BR  -4.3831  -70.0311          75  1619589234   \n",
       "558                Poya      NC -21.3500  165.1500           0  1619589236   \n",
       "560  Comodoro Rivadavia      AR -45.8667  -67.5000           0  1619589236   \n",
       "\n",
       "     Humidity  Max Temp  Wind Speed  \n",
       "1          87    285.93        4.02  \n",
       "3          73    298.14        5.03  \n",
       "4          63    290.15        3.09  \n",
       "8          83    300.15        3.09  \n",
       "9          48    291.48        5.14  \n",
       "..        ...       ...         ...  \n",
       "547        83    295.15        5.14  \n",
       "552        70    301.91        0.60  \n",
       "554       100    296.15        1.11  \n",
       "558        61    296.14        4.66  \n",
       "560        51    287.15        4.63  \n",
       "\n",
       "[181 rows x 9 columns]"
      ]
     },
     "execution_count": 39,
     "metadata": {},
     "output_type": "execute_result"
    }
   ],
   "source": [
    "South_df = clean_city_data.loc[(clean_city_data['Lat']<0)]\n",
    "South_df"
   ]
  },
  {
   "cell_type": "code",
   "execution_count": 84,
   "metadata": {},
   "outputs": [],
   "source": [
    "#create variables for axis\n",
    "x_N=North_df['Lat']\n",
    "y_N=North_df['Max Temp']"
   ]
  },
  {
   "cell_type": "code",
   "execution_count": 106,
   "metadata": {},
   "outputs": [
    {
     "name": "stdout",
     "output_type": "stream",
     "text": [
      "linear regression equation: y = -0.51x + 307.39\n",
      "r^2= -0.8695587941967764\n"
     ]
    },
    {
     "data": {
      "image/png": "[encoded data removed]",
      "text/plain": [
       "<Figure size 432x288 with 1 Axes>"
      ]
     },
     "metadata": {
      "needs_background": "light"
     },
     "output_type": "display_data"
    }
   ],
   "source": [
    "#create linear regresion funtion\n",
    "x_val = pd.to_numeric(x_N).astype(float)\n",
    "y_val = pd.to_numeric(y_N).astype(float)\n",
    "(slope, intercept, rvalue, pvalue, stderr) = linregress(x_val, y_val)\n",
    "regress_values = x_val * slope + intercept\n",
    "line_eq = \"y = \" + str(round(slope,2)) + \"x + \" + str(round(intercept,2))\n",
    "print(f\"linear regression equation: {line_eq}\")\n",
    "plt.scatter(x_val,y_val)\n",
    "plt.plot(x_val,regress_values,\"r-\")\n",
    "plt.annotate(line_eq,(40,310),fontsize=15,color=\"red\")\n",
    "plt.xlabel('Latitude')\n",
    "plt.ylabel('Max Temperature (F)')\n",
    "plt.title('Northern Hemisphere - Max Temp vs. Latitude Linear Regression')\n",
    "print(f\"r^2= {rvalue}\")\n",
    "plt.show()  \n",
    "\n",
    " \n"
   ]
  },
  {
   "cell_type": "markdown",
   "metadata": {},
   "source": [
    "####  Southern Hemisphere - Max Temp vs. Latitude Linear Regression"
   ]
  },
  {
   "cell_type": "code",
   "execution_count": 92,
   "metadata": {},
   "outputs": [],
   "source": [
    "#create variables for axis\n",
    "x_S=South_df['Lat']\n",
    "y_S=South_df['Max Temp']"
   ]
  },
  {
   "cell_type": "code",
   "execution_count": 107,
   "metadata": {},
   "outputs": [
    {
     "name": "stdout",
     "output_type": "stream",
     "text": [
      "linear regression equation: y = 0.34x + 301.11\n",
      "r^2= 0.6939107818694524\n"
     ]
    },
    {
     "data": {
      "image/png": "[encoded data removed]",
      "text/plain": [
       "<Figure size 432x288 with 1 Axes>"
      ]
     },
     "metadata": {
      "needs_background": "light"
     },
     "output_type": "display_data"
    }
   ],
   "source": [
    "#create linear regresion funtion\n",
    "x_val = pd.to_numeric(x_S).astype(float)\n",
    "y_val = pd.to_numeric(y_S).astype(float)\n",
    "(slope, intercept, rvalue, pvalue, stderr) = linregress(x_val, y_val)\n",
    "regress_values = x_val * slope + intercept\n",
    "line_eq = \"y = \" + str(round(slope,2)) + \"x + \" + str(round(intercept,2))\n",
    "print(f\"linear regression equation: {line_eq}\")\n",
    "plt.scatter(x_val,y_val)\n",
    "plt.plot(x_val,regress_values,\"r-\")\n",
    "plt.annotate(line_eq,(-30,278),fontsize=15,color=\"red\")\n",
    "plt.xlabel('Latitude')\n",
    "plt.ylabel('Max Temperature (F)')\n",
    "plt.title('Souther Hemisphere - Max Temp vs. Latitude Linear Regression')\n",
    "print(f\"r^2= {rvalue}\")\n",
    "plt.show()  \n",
    "\n",
    " "
   ]
  },
  {
   "cell_type": "markdown",
   "metadata": {},
   "source": [
    "####  Northern Hemisphere - Humidity (%) vs. Latitude Linear Regression"
   ]
  },
  {
   "cell_type": "code",
   "execution_count": 96,
   "metadata": {},
   "outputs": [],
   "source": [
    "#create variables for axis\n",
    "x_NH=North_df['Lat']\n",
    "y_NH=North_df['Humidity']"
   ]
  },
  {
   "cell_type": "code",
   "execution_count": 109,
   "metadata": {},
   "outputs": [
    {
     "name": "stdout",
     "output_type": "stream",
     "text": [
      "linear regression equation: y = 0.18x + 59.5\n",
      "r^2= 0.15271089740310007\n"
     ]
    },
    {
     "data": {
      "image/png": "[encoded data removed]",
      "text/plain": [
       "<Figure size 432x288 with 1 Axes>"
      ]
     },
     "metadata": {
      "needs_background": "light"
     },
     "output_type": "display_data"
    }
   ],
   "source": [
    "#create linear regresion funtion\n",
    "x_val = pd.to_numeric(x_NH).astype(float)\n",
    "y_val = pd.to_numeric(y_NH).astype(float)\n",
    "(slope, intercept, rvalue, pvalue, stderr) = linregress(x_val, y_val)\n",
    "regress_values = x_val * slope + intercept\n",
    "line_eq = \"y = \" + str(round(slope,2)) + \"x + \" + str(round(intercept,2))\n",
    "print(f\"linear regression equation: {line_eq}\")\n",
    "plt.scatter(x_val,y_val)\n",
    "plt.plot(x_val,regress_values,\"r-\")\n",
    "plt.annotate(line_eq,(40,10),fontsize=15,color=\"red\")\n",
    "plt.xlabel('Latitude')\n",
    "plt.ylabel(' Humidity (%)')\n",
    "plt.title('Northern Hemisphere - Humidity (%) vs. Latitude Linear Regression')\n",
    "print(f\"r^2= {rvalue}\")\n",
    "plt.show()  "
   ]
  },
  {
   "cell_type": "markdown",
   "metadata": {},
   "source": [
    "####  Southern Hemisphere - Humidity (%) vs. Latitude Linear Regression"
   ]
  },
  {
   "cell_type": "code",
   "execution_count": 98,
   "metadata": {},
   "outputs": [],
   "source": [
    "#create variables for axis\n",
    "x_SH=South_df['Lat']\n",
    "y_SH=South_df['Humidity']"
   ]
  },
  {
   "cell_type": "code",
   "execution_count": 102,
   "metadata": {},
   "outputs": [
    {
     "name": "stdout",
     "output_type": "stream",
     "text": [
      "linear regression equation: y = 0.13x + 79.65\n",
      "r^2= 0.10327161662750589\n"
     ]
    },
    {
     "data": {
      "image/png": "[encoded data removed]",
      "text/plain": [
       "<Figure size 432x288 with 1 Axes>"
      ]
     },
     "metadata": {
      "needs_background": "light"
     },
     "output_type": "display_data"
    }
   ],
   "source": [
    "#create linear regresion funtion\n",
    "x_val = pd.to_numeric(x_SH).astype(float)\n",
    "y_val = pd.to_numeric(y_SH).astype(float)\n",
    "(slope, intercept, rvalue, pvalue, stderr) = linregress(x_val, y_val)\n",
    "regress_values = x_val * slope + intercept\n",
    "line_eq = \"y = \" + str(round(slope,2)) + \"x + \" + str(round(intercept,2))\n",
    "print(f\"linear regression equation: {line_eq}\")\n",
    "plt.scatter(x_val,y_val)\n",
    "plt.plot(x_val,regress_values,\"r-\")\n",
    "plt.annotate(line_eq,(-30,40),fontsize=15,color=\"red\")\n",
    "plt.xlabel('Latitude')\n",
    "plt.ylabel(' Humidity (%)')\n",
    "plt.title('Southern Hemisphere - Humidity (%) vs. Latitude Linear Regression')\n",
    "print(f\"r^2= {rvalue}\")\n",
    "plt.show()  "
   ]
  },
  {
   "cell_type": "markdown",
   "metadata": {},
   "source": [
    "####  Northern Hemisphere - Cloudiness (%) vs. Latitude Linear Regression"
   ]
  },
  {
   "cell_type": "code",
   "execution_count": 100,
   "metadata": {},
   "outputs": [],
   "source": [
    "#create variables for axis\n",
    "x_NC=North_df['Lat']\n",
    "y_NC=North_df['Cloudiness']"
   ]
  },
  {
   "cell_type": "code",
   "execution_count": 110,
   "metadata": {},
   "outputs": [
    {
     "name": "stdout",
     "output_type": "stream",
     "text": [
      "linear regression equation: y = 0.27x + 47.11\n",
      "r^2= 0.14075675118004582\n"
     ]
    },
    {
     "data": {
      "image/png": "[encoded data removed]",
      "text/plain": [
       "<Figure size 432x288 with 1 Axes>"
      ]
     },
     "metadata": {
      "needs_background": "light"
     },
     "output_type": "display_data"
    }
   ],
   "source": [
    "#create linear regresion funtion\n",
    "x_val = pd.to_numeric(x_NC).astype(float)\n",
    "y_val = pd.to_numeric(y_NC).astype(float)\n",
    "(slope, intercept, rvalue, pvalue, stderr) = linregress(x_val, y_val)\n",
    "regress_values = x_val * slope + intercept\n",
    "line_eq = \"y = \" + str(round(slope,2)) + \"x + \" + str(round(intercept,2))\n",
    "print(f\"linear regression equation: {line_eq}\")\n",
    "plt.scatter(x_val,y_val)\n",
    "plt.plot(x_val,regress_values,\"r-\")\n",
    "plt.annotate(line_eq,(6,10),fontsize=15,color=\"red\")\n",
    "plt.xlabel('Latitude')\n",
    "plt.ylabel('Cloudiness (%)')\n",
    "plt.title('Northern Hemisphere - Cloudiness (%) vs. Latitude Linear Regression')\n",
    "print(f\"r^2= {rvalue}\")\n",
    "plt.show()  "
   ]
  },
  {
   "cell_type": "markdown",
   "metadata": {},
   "source": [
    "####  Southern Hemisphere - Cloudiness (%) vs. Latitude Linear Regression"
   ]
  },
  {
   "cell_type": "code",
   "execution_count": 112,
   "metadata": {},
   "outputs": [],
   "source": [
    "#create variables for axis\n",
    "x_SC=South_df['Lat']\n",
    "y_SC=South_df['Cloudiness']"
   ]
  },
  {
   "cell_type": "code",
   "execution_count": 114,
   "metadata": {},
   "outputs": [
    {
     "name": "stdout",
     "output_type": "stream",
     "text": [
      "linear regression equation: y = 0.38x + 60.14\n",
      "r^2= 0.14297018580297155\n"
     ]
    },
    {
     "data": {
      "image/png": "[encoded data removed]",
      "text/plain": [
       "<Figure size 432x288 with 1 Axes>"
      ]
     },
     "metadata": {
      "needs_background": "light"
     },
     "output_type": "display_data"
    }
   ],
   "source": [
    "#create linear regresion funtion\n",
    "x_val = pd.to_numeric(x_SC).astype(float)\n",
    "y_val = pd.to_numeric(y_SC).astype(float)\n",
    "(slope, intercept, rvalue, pvalue, stderr) = linregress(x_val, y_val)\n",
    "regress_values = x_val * slope + intercept\n",
    "line_eq = \"y = \" + str(round(slope,2)) + \"x + \" + str(round(intercept,2))\n",
    "print(f\"linear regression equation: {line_eq}\")\n",
    "plt.scatter(x_val,y_val)\n",
    "plt.plot(x_val,regress_values,\"r-\")\n",
    "plt.annotate(line_eq,(-50,18),fontsize=15,color=\"red\")\n",
    "plt.xlabel('Latitude')\n",
    "plt.ylabel('Cloudiness (%)')\n",
    "plt.title('Northern Hemisphere - Cloudiness (%) vs. Latitude Linear Regression')\n",
    "print(f\"r^2= {rvalue}\")\n",
    "plt.show()  "
   ]
  },
  {
   "cell_type": "markdown",
   "metadata": {},
   "source": [
    "####  Northern Hemisphere - Wind Speed (mph) vs. Latitude Linear Regression"
   ]
  },
  {
   "cell_type": "code",
   "execution_count": 116,
   "metadata": {},
   "outputs": [],
   "source": [
    "#create variables for axis\n",
    "x_NW=North_df['Lat']\n",
    "y_NW=North_df['Wind Speed']"
   ]
  },
  {
   "cell_type": "code",
   "execution_count": 119,
   "metadata": {},
   "outputs": [
    {
     "name": "stdout",
     "output_type": "stream",
     "text": [
      "linear regression equation: y = 0.01x + 3.03\n",
      "r^2= 0.10120591887047098\n"
     ]
    },
    {
     "data": {
      "image/png": "[encoded data removed]",
      "text/plain": [
       "<Figure size 432x288 with 1 Axes>"
      ]
     },
     "metadata": {
      "needs_background": "light"
     },
     "output_type": "display_data"
    }
   ],
   "source": [
    "#create linear regresion funtion\n",
    "x_val = pd.to_numeric(x_NW).astype(float)\n",
    "y_val = pd.to_numeric(y_NW).astype(float)\n",
    "(slope, intercept, rvalue, pvalue, stderr) = linregress(x_val, y_val)\n",
    "regress_values = x_val * slope + intercept\n",
    "line_eq = \"y = \" + str(round(slope,2)) + \"x + \" + str(round(intercept,2))\n",
    "print(f\"linear regression equation: {line_eq}\")\n",
    "plt.scatter(x_val,y_val)\n",
    "plt.plot(x_val,regress_values,\"r-\")\n",
    "plt.annotate(line_eq,(30,12),fontsize=15,color=\"red\")\n",
    "plt.xlabel('Latitude')\n",
    "plt.ylabel('Wind Speed (mph)')\n",
    "plt.title('Northern Hemisphere - Wind Speed (mph) vs. Latitude Linear Regression')\n",
    "print(f\"r^2= {rvalue}\")\n",
    "plt.show()  "
   ]
  },
  {
   "cell_type": "markdown",
   "metadata": {},
   "source": [
    "####  Southern Hemisphere - Wind Speed (mph) vs. Latitude Linear Regression"
   ]
  },
  {
   "cell_type": "code",
   "execution_count": 120,
   "metadata": {},
   "outputs": [],
   "source": [
    "#create variables for axis\n",
    "x_SW=South_df['Lat']\n",
    "y_SW=South_df['Wind Speed']"
   ]
  },
  {
   "cell_type": "code",
   "execution_count": 123,
   "metadata": {},
   "outputs": [
    {
     "name": "stdout",
     "output_type": "stream",
     "text": [
      "linear regression equation: y = -0.01x + 2.66\n",
      "r^2= -0.05668384247666238\n"
     ]
    },
    {
     "data": {
      "image/png": "[encoded data removed]",
      "text/plain": [
       "<Figure size 432x288 with 1 Axes>"
      ]
     },
     "metadata": {
      "needs_background": "light"
     },
     "output_type": "display_data"
    }
   ],
   "source": [
    "#create linear regresion funtion\n",
    "x_val = pd.to_numeric(x_SW).astype(float)\n",
    "y_val = pd.to_numeric(y_SW).astype(float)\n",
    "(slope, intercept, rvalue, pvalue, stderr) = linregress(x_val, y_val)\n",
    "regress_values = x_val * slope + intercept\n",
    "line_eq = \"y = \" + str(round(slope,2)) + \"x + \" + str(round(intercept,2))\n",
    "print(f\"linear regression equation: {line_eq}\")\n",
    "plt.scatter(x_val,y_val)\n",
    "plt.plot(x_val,regress_values,\"r-\")\n",
    "plt.annotate(line_eq,(-30,7),fontsize=15,color=\"red\")\n",
    "plt.xlabel('Latitude')\n",
    "plt.ylabel('Wind Speed (mph)')\n",
    "plt.title('Southern Hemisphere - Wind Speed (mph) vs. Latitude Linear Regression')\n",
    "print(f\"r^2= {rvalue}\")\n",
    "plt.show()"
   ]
  },
  {
   "cell_type": "code",
   "execution_count": null,
   "metadata": {},
   "outputs": [],
   "source": []
  }
 ],
 "metadata": {
  "anaconda-cloud": {},
  "kernel_info": {
   "name": "python3"
  },
  "kernelspec": {
   "display_name": "Python 3",
   "language": "python",
   "name": "python3"
  },
  "language_info": {
   "codemirror_mode": {
    "name": "ipython",
    "version": 3
   },
   "file_extension": ".py",
   "mimetype": "text/x-python",
   "name": "python",
   "nbconvert_exporter": "python",
   "pygments_lexer": "ipython3",
   "version": "3.8.5"
  },
  "latex_envs": {
   "LaTeX_envs_menu_present": true,
   "autoclose": false,
   "autocomplete": true,
   "bibliofile": "biblio.bib",
   "cite_by": "apalike",
   "current_citInitial": 1,
   "eqLabelWithNumbers": true,
   "eqNumInitial": 1,
   "hotkeys": {
    "equation": "Ctrl-E",
    "itemize": "Ctrl-I"
   },
   "labels_anchors": false,
   "latex_user_defs": false,
   "report_style_numbering": false,
   "user_envs_cfg": false
  },
  "nteract": {
   "version": "0.12.3"
  }
 },
 "nbformat": 4,
 "nbformat_minor": 2
}
